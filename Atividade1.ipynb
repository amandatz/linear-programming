{
  "cells": [
    {
      "cell_type": "markdown",
      "metadata": {
        "id": "view-in-github",
        "colab_type": "text"
      },
      "source": [
        "<a href=\"https://colab.research.google.com/github/amandatz/linear-programming/blob/main/Atividade1.ipynb\" target=\"_parent\"><img src=\"https://colab.research.google.com/assets/colab-badge.svg\" alt=\"Open In Colab\"/></a>"
      ]
    },
    {
      "cell_type": "markdown",
      "metadata": {
        "id": "fkGVnRe9CPdx"
      },
      "source": [
        "# Atividade 1\n",
        "\n"
      ]
    },
    {
      "cell_type": "markdown",
      "metadata": {
        "id": "thdM6TiJWo3c"
      },
      "source": [
        "Amanda Topanotti Zanette (22100776)"
      ]
    },
    {
      "cell_type": "markdown",
      "metadata": {
        "id": "wRXSFVsDWq4e"
      },
      "source": [
        "**Importações e funções auxiliares**"
      ]
    },
    {
      "cell_type": "code",
      "execution_count": null,
      "metadata": {
        "colab": {
          "base_uri": "https://localhost:8080/"
        },
        "id": "HWjqEDuVIgTF",
        "outputId": "eac77d38-417a-4996-d259-0ba3522b910a"
      },
      "outputs": [
        {
          "data": {
            "text/plain": [
              "print_matrix (generic function with 1 method)"
            ]
          },
          "execution_count": 26,
          "metadata": {},
          "output_type": "execute_result"
        }
      ],
      "source": [
        "using LinearAlgebra, Printf"
      ]
    },
    {
      "cell_type": "markdown",
      "source": [
        "Esse trecho de código é usado apenas para garantir a repetibilidade dos números aleatórios gerados."
      ],
      "metadata": {
        "id": "7xszQjRRAATk"
      }
    },
    {
      "cell_type": "code",
      "source": [
        "using Random\n",
        "Random.seed!(123)"
      ],
      "metadata": {
        "id": "ayAFiLALAAyM"
      },
      "execution_count": null,
      "outputs": []
    },
    {
      "cell_type": "markdown",
      "metadata": {
        "id": "iC9tSXZLCTw9"
      },
      "source": [
        "## Questão 1"
      ]
    },
    {
      "cell_type": "markdown",
      "metadata": {
        "id": "lnekAseLCVy8"
      },
      "source": [
        "## Questão 2"
      ]
    },
    {
      "cell_type": "markdown",
      "metadata": {
        "id": "kzBgumq1CYA2"
      },
      "source": [
        "## Questão 3"
      ]
    }
  ],
  "metadata": {
    "colab": {
      "provenance": [],
      "include_colab_link": true
    },
    "kernelspec": {
      "display_name": "Julia",
      "name": "julia"
    },
    "language_info": {
      "name": "julia"
    }
  },
  "nbformat": 4,
  "nbformat_minor": 0
}