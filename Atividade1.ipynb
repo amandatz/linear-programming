{
  "cells": [
    {
      "cell_type": "markdown",
      "metadata": {
        "id": "view-in-github",
        "colab_type": "text"
      },
      "source": [
        "<a href=\"https://colab.research.google.com/github/amandatz/linear-programming/blob/main/Atividade1.ipynb\" target=\"_parent\"><img src=\"https://colab.research.google.com/assets/colab-badge.svg\" alt=\"Open In Colab\"/></a>"
      ]
    },
    {
      "cell_type": "markdown",
      "metadata": {
        "id": "fkGVnRe9CPdx"
      },
      "source": [
        "# Atividade 1\n",
        "\n"
      ]
    },
    {
      "cell_type": "markdown",
      "metadata": {
        "id": "thdM6TiJWo3c"
      },
      "source": [
        "Amanda Topanotti Zanette (22100776)"
      ]
    },
    {
      "cell_type": "markdown",
      "metadata": {
        "id": "wRXSFVsDWq4e"
      },
      "source": [
        "**Importações e funções auxiliares**"
      ]
    },
    {
      "cell_type": "code",
      "execution_count": 61,
      "metadata": {
        "id": "HWjqEDuVIgTF"
      },
      "outputs": [],
      "source": [
        "using LinearAlgebra, Printf, Plots"
      ]
    },
    {
      "cell_type": "markdown",
      "source": [
        "Esse trecho de código é usado apenas para garantir a repetibilidade dos números aleatórios gerados."
      ],
      "metadata": {
        "id": "7xszQjRRAATk"
      }
    },
    {
      "cell_type": "code",
      "source": [
        "using Random\n",
        "Random.seed!(42)"
      ],
      "metadata": {
        "colab": {
          "base_uri": "https://localhost:8080/"
        },
        "id": "ayAFiLALAAyM",
        "outputId": "2a63b8f7-ce0c-4776-9739-0445e9e82a5b"
      },
      "execution_count": 62,
      "outputs": [
        {
          "output_type": "execute_result",
          "data": {
            "text/plain": [
              "TaskLocalRNG()"
            ]
          },
          "metadata": {},
          "execution_count": 62
        }
      ]
    },
    {
      "cell_type": "markdown",
      "metadata": {
        "id": "iC9tSXZLCTw9"
      },
      "source": [
        "## Questão 1"
      ]
    },
    {
      "cell_type": "markdown",
      "source": [
        "**Gradiente com backtracking**"
      ],
      "metadata": {
        "id": "gpNzvk14M1lp"
      }
    },
    {
      "cell_type": "code",
      "source": [
        "function steepest_descent_backtracking(fun, x0; sigma=1e-4, rho=0.5, max_iter=2000, tol=1e-6)\n",
        "  x = copy(x0)\n",
        "\n",
        "  for k = 0:max_iter-1\n",
        "    f, g, _ = fun(x)\n",
        "    gnorm = norm(g)\n",
        "\n",
        "    if gnorm <= tol\n",
        "      return x, k, gnorm\n",
        "    end\n",
        "\n",
        "    # backtracking\n",
        "    t = 1.0\n",
        "    xn = x - t*g\n",
        "    fn, _, _= fun(xn)\n",
        "\n",
        "    while fn > f - sigma*t*gnorm^2\n",
        "      t *= rho\n",
        "      xn = x - t*g\n",
        "      fn, _, _ = fun(xn)\n",
        "    end\n",
        "\n",
        "    x = xn\n",
        "  end\n",
        "\n",
        "  _, g, _ = fun(x)\n",
        "  gnorm = norm(g)\n",
        "  return x, max_iter, gnorm\n",
        "end\n"
      ],
      "metadata": {
        "colab": {
          "base_uri": "https://localhost:8080/"
        },
        "id": "AdjzmeIAGMf-",
        "outputId": "123ad486-1609-405b-c135-06e5fcfc524e"
      },
      "execution_count": 63,
      "outputs": [
        {
          "output_type": "execute_result",
          "data": {
            "text/plain": [
              "steepest_descent_backtracking (generic function with 1 method)"
            ]
          },
          "metadata": {},
          "execution_count": 63
        }
      ]
    },
    {
      "cell_type": "markdown",
      "source": [
        "**Newton com backtracking**"
      ],
      "metadata": {
        "id": "HndsAOTKM3zz"
      }
    },
    {
      "cell_type": "markdown",
      "source": [
        "O método de Newton é dado por\n",
        "$$\n",
        "  x_{k+1} = x_k - \\alpha_k H(x_k)^{-1} \\nabla f(x_k)\n",
        "$$\n",
        "em que\n",
        "- $\\nabla f(x_k)$: gradiente de f;\n",
        "- $H(x_k)$: matriz hessiana de f;\n",
        "- $\\alpha_k$: tamanho do passo."
      ],
      "metadata": {
        "id": "lSkkMof1ov6G"
      }
    },
    {
      "cell_type": "code",
      "source": [
        "function newton_backtracking(fun, x0; sigma=1e-4, rho=0.5, max_iter=2000, tol=1e-6, fallback=nothing)\n",
        "  x = copy(x0)\n",
        "\n",
        "  for k = 0:max_iter-1\n",
        "    f, g, H = fun(x)\n",
        "    gnorm = norm(g)\n",
        "\n",
        "    if gnorm <= tol\n",
        "      return x, k, gnorm\n",
        "    end\n",
        "\n",
        "    p = -(H \\ g)\n",
        "\n",
        "    # se não for direção de descida, usa fallback se existir\n",
        "    if fallback != nothing && g' * p >= 0\n",
        "      p = fallback(g, H)\n",
        "    end\n",
        "\n",
        "    # backtracking\n",
        "    t = 1.0\n",
        "    xn = x + t*p\n",
        "    fn, _, _ = fun(xn)\n",
        "\n",
        "    while fn > f + sigma*t*(g' * p)\n",
        "        t *= rho\n",
        "        xn = x + t*p\n",
        "        fn, _, _ = fun(xn)\n",
        "    end\n",
        "\n",
        "    x = xn\n",
        "  end\n",
        "\n",
        "  f, g, H = fun(x)\n",
        "  return x, max_iter, norm(g)\n",
        "end"
      ],
      "metadata": {
        "colab": {
          "base_uri": "https://localhost:8080/"
        },
        "id": "RZ5v9Z5ONXUu",
        "outputId": "f1d88eea-1960-454c-fb88-438ee77cfb37"
      },
      "execution_count": 64,
      "outputs": [
        {
          "output_type": "execute_result",
          "data": {
            "text/plain": [
              "newton_backtracking (generic function with 1 method)"
            ]
          },
          "metadata": {},
          "execution_count": 64
        }
      ]
    },
    {
      "cell_type": "markdown",
      "metadata": {
        "id": "lnekAseLCVy8"
      },
      "source": [
        "## Questão 2"
      ]
    },
    {
      "cell_type": "markdown",
      "source": [
        "Considere a função de Rosenbrock"
      ],
      "metadata": {
        "id": "3xS6VTM-Bn0-"
      }
    },
    {
      "cell_type": "code",
      "source": [
        "function rosenb(x)\n",
        "  a = 1.0\n",
        "  b = 10.0\n",
        "\n",
        "  f = (a - x[1])^2 + b*(x[2] - x[1]^2)^2\n",
        "\n",
        "  grad_f = [ -2*(a - x[1]) + 2*b*(x[2] - x[1]^2)*(-2*x[1]),\n",
        "        2*b*(x[2] - x[1]^2)]\n",
        "\n",
        "  hess_f = [\n",
        "        2 - 4*b*(x[2] - x[1]^2) + 8*b*x[1]^2   -4*b*x[1];\n",
        "        -4*b*x[1]                               2*b\n",
        "  ]\n",
        "\n",
        "  return f, grad_f, hess_f\n",
        "end"
      ],
      "metadata": {
        "colab": {
          "base_uri": "https://localhost:8080/"
        },
        "id": "clYbT8rbBw1D",
        "outputId": "f7999768-feb0-4705-d912-1ef4ea4a2b64"
      },
      "execution_count": 65,
      "outputs": [
        {
          "output_type": "execute_result",
          "data": {
            "text/plain": [
              "rosenb (generic function with 1 method)"
            ]
          },
          "metadata": {},
          "execution_count": 65
        }
      ]
    },
    {
      "cell_type": "markdown",
      "source": [
        "Comparemos ambos os métodos anteriores considerando os pontos iniciais $x_0 = (1.01, 1.01)$ e $x_1 = (-1.0, 1.2)$"
      ],
      "metadata": {
        "id": "Mx_AfghMCt4j"
      }
    },
    {
      "cell_type": "code",
      "source": [
        "x0 = [1.01, 1.01]\n",
        "\n",
        "x, max_iter_sd, gnorm_sd = steepest_descent_backtracking(rosenb, x0)\n",
        "@printf(\"Gradiente:\\n  Número de iterações: %d\\n  Gradiente final: %.6e\\n  Ponto final: [%.6f, %.6f]\\n\\n\",\n",
        "        max_iter_sd, gnorm_sd, x[1], x[2])\n",
        "\n",
        "x, max_iter_n, gnorm_n = newton_backtracking(rosenb, x0)\n",
        "@printf(\"Newton:\\n  Número de iterações: %d\\n  Gradiente final (norma): %.6e\\n  Ponto final: [%.6f, %.6f]\\n\\n\",\n",
        "        max_iter_n, gnorm_n, x[1], x[2])\n"
      ],
      "metadata": {
        "colab": {
          "base_uri": "https://localhost:8080/"
        },
        "id": "em0_EC6vDKNG",
        "outputId": "311af2d3-2854-4196-886f-88d74299a15a"
      },
      "execution_count": 66,
      "outputs": [
        {
          "output_type": "stream",
          "name": "stdout",
          "text": [
            "Gradiente:\n",
            "  Número de iterações: 1027\n",
            "  Gradiente final: 9.818612e-07\n",
            "  Ponto final: [1.000001, 1.000002]\n",
            "\n",
            "Newton:\n",
            "  Número de iterações: 3\n",
            "  Gradiente final (norma): 4.895830e-10\n",
            "  Ponto final: [1.000000, 1.000000]\n",
            "\n"
          ]
        }
      ]
    },
    {
      "cell_type": "markdown",
      "source": [
        "Para $x_0 = (1.01, 1.01)$ próximo do mínimo $x^* = (1,1)$, o método de Newton converge quadraticamente, resultando em apenas 3 iterações, enquanto o método do gradiente precisou de 1027 iterações. Além disso, o método de Newton foi bem mais preciso quando comparado ao método do gradiente."
      ],
      "metadata": {
        "id": "BUSTmUFzEIbo"
      }
    },
    {
      "cell_type": "code",
      "source": [
        "x1 = [-1.0, 1.2]\n",
        "\n",
        "x, max_iter_sd, gnorm_sd = steepest_descent_backtracking(rosenb, x1)\n",
        "@printf(\"Gradiente:\\n  Número de iterações: %d\\n  Gradiente final: %.6e\\n  Ponto final: [%.6f, %.6f]\\n\\n\",\n",
        "        max_iter_sd, gnorm_sd, x[1], x[2])\n",
        "\n",
        "x, max_iter_n, gnorm_n = newton_backtracking(rosenb, x1, max_iter=5000)\n",
        "@printf(\"Newton:\\n  Número de iterações: %d\\n  Gradiente final (norma): %.6e\\n  Ponto final: [%.6f, %.6f]\\n\\n\",\n",
        "        max_iter_n, gnorm_n, x[1], x[2])"
      ],
      "metadata": {
        "colab": {
          "base_uri": "https://localhost:8080/"
        },
        "id": "9ek9SUpKDS6I",
        "outputId": "a2834f86-0852-46f0-f462-73172b4a5597"
      },
      "execution_count": 67,
      "outputs": [
        {
          "output_type": "stream",
          "name": "stdout",
          "text": [
            "Gradiente:\n",
            "  Número de iterações: 1184\n",
            "  Gradiente final: 9.714477e-07\n",
            "  Ponto final: [0.999999, 0.999998]\n",
            "\n",
            "Newton:\n",
            "  Número de iterações: 5000\n",
            "  Gradiente final (norma): 5.656854e+00\n",
            "  Ponto final: [-1.000000, 1.200000]\n",
            "\n"
          ]
        }
      ]
    },
    {
      "cell_type": "markdown",
      "source": [
        "Para $x_0 = (-1.0, 1.2)$, mais distante, Newton falha em convergir (5000 iterações) porque $H(x)$ longe do mínimo não é positiva definida, enquanto o gradiente ainda converge (1184 iterações).\n"
      ],
      "metadata": {
        "id": "_31aotrtRis2"
      }
    },
    {
      "cell_type": "markdown",
      "source": [
        "Observe que, para a função de Rosenbrock\n",
        "\n",
        "$$\n",
        "  f(x_1, x_2) = (x_1 - 1)^2 + 10 (x_2 - x_1^2)^2,\n",
        "$$\n",
        "\n",
        "a Hessiana no ponto $x_0 = (-1, 1.2)$ é\n",
        "\n",
        "$$\n",
        "  H(x) =\n",
        "  \\begin{bmatrix}\n",
        "  74 & 40 \\\\\n",
        "  40 & 20\n",
        "  \\end{bmatrix}.\n",
        "$$\n",
        "\n",
        "e o determinante é\n",
        "\n",
        "$$\n",
        "  \\det(H) = -120 < 0\n",
        "$$\n",
        "\n",
        "ou seja, a Hessiana **não é positiva definida** nesse ponto. Isso explica por que o método de Newton não converge a partir desse ponto inicial.\n"
      ],
      "metadata": {
        "id": "nWhx8UtUEbbx"
      }
    },
    {
      "cell_type": "markdown",
      "source": [
        "Podemos ajustar o algoritmo de Newton de modo que, caso a Hessiana não seja positiva definida, o método utilize o gradiente como alternativa."
      ],
      "metadata": {
        "id": "wx89YnSjMK4x"
      }
    },
    {
      "cell_type": "code",
      "source": [
        "gradient_fallback(g, H) = -g / norm(g)\n",
        "\n",
        "x, max_iter_n, gnorm_n = newton_backtracking(rosenb, x1, max_iter=5000, fallback=gradient_fallback)\n",
        "@printf(\"Newton:\\n  Número de iterações: %d\\n  Gradiente final (norma): %.6e\\n  Ponto final: [%.6f, %.6f]\\n\\n\",\n",
        "        max_iter_n, gnorm_n, x[1], x[2])"
      ],
      "metadata": {
        "colab": {
          "base_uri": "https://localhost:8080/"
        },
        "id": "f6xQOcQFLIAz",
        "outputId": "d4f6c29f-1dbf-417e-ba8e-2016b623457f"
      },
      "execution_count": 68,
      "outputs": [
        {
          "output_type": "stream",
          "name": "stdout",
          "text": [
            "Newton:\n",
            "  Número de iterações: 12\n",
            "  Gradiente final (norma): 8.406475e-08\n",
            "  Ponto final: [1.000000, 1.000000]\n",
            "\n"
          ]
        }
      ]
    },
    {
      "cell_type": "markdown",
      "metadata": {
        "id": "kzBgumq1CYA2"
      },
      "source": [
        "## Questão 3"
      ]
    },
    {
      "cell_type": "code",
      "source": [
        "function exact_line_search_quadratic(A, b, x, d)\n",
        "  numerator = dot(b, d) - dot(d, A * x)\n",
        "  denominator = dot(d, A * d)\n",
        "\n",
        "  if denominator <= 0 || abs(denominator) < 1e-14\n",
        "    return 1e-6   # passo mínimo seguro\n",
        "  end\n",
        "  return numerator / denominator\n",
        "end"
      ],
      "metadata": {
        "colab": {
          "base_uri": "https://localhost:8080/"
        },
        "id": "EAFJt8bFrv1U",
        "outputId": "fa9185a8-3630-4da1-f4d4-de1d75920b9e"
      },
      "execution_count": 69,
      "outputs": [
        {
          "output_type": "execute_result",
          "data": {
            "text/plain": [
              "exact_line_search_quadratic (generic function with 1 method)"
            ]
          },
          "metadata": {},
          "execution_count": 69
        }
      ]
    },
    {
      "cell_type": "code",
      "source": [
        "function quadratic(x, A, b)\n",
        "  f = 0.5 * dot(x, A * x) - dot(b, x)\n",
        "  g = A * x - b\n",
        "  H = A\n",
        "  return f, g, H\n",
        "end"
      ],
      "metadata": {
        "colab": {
          "base_uri": "https://localhost:8080/"
        },
        "id": "ryacwBarqdTh",
        "outputId": "3ab6faa5-1d81-451b-b833-ead26573b9ca"
      },
      "execution_count": 70,
      "outputs": [
        {
          "output_type": "execute_result",
          "data": {
            "text/plain": [
              "quadratic (generic function with 1 method)"
            ]
          },
          "metadata": {},
          "execution_count": 70
        }
      ]
    },
    {
      "cell_type": "code",
      "source": [
        "function householder_matrix(n)\n",
        "  u = randn(n)\n",
        "  u /= norm(u)\n",
        "  U = Matrix(I, n, n) - 2.0 * (u * u')\n",
        "  return U\n",
        "end"
      ],
      "metadata": {
        "colab": {
          "base_uri": "https://localhost:8080/"
        },
        "id": "usNTyzyP0OEg",
        "outputId": "7ab17a04-3883-4577-a352-8653ca1d85d3"
      },
      "execution_count": 71,
      "outputs": [
        {
          "output_type": "execute_result",
          "data": {
            "text/plain": [
              "householder_matrix (generic function with 1 method)"
            ]
          },
          "metadata": {},
          "execution_count": 71
        }
      ]
    },
    {
      "cell_type": "markdown",
      "source": [
        "**Gradiente com busca linear exata**"
      ],
      "metadata": {
        "id": "hkm5yTJVhOv9"
      }
    },
    {
      "cell_type": "code",
      "source": [
        "function steepest_descent_exact(A, b, x0; max_iter=2000, tol=1e-6)\n",
        "  x = copy(x0)\n",
        "  fvals = Float64[]\n",
        "\n",
        "  for k = 0:max_iter-1\n",
        "    f, g, _ = quadratic(x, A, b)\n",
        "    push!(fvals, f)\n",
        "\n",
        "    gnorm = norm(g)\n",
        "    if gnorm <= tol\n",
        "      return x, k, fvals\n",
        "    end\n",
        "\n",
        "    d = -g\n",
        "\n",
        "    # Busca linear exata\n",
        "    alpha = exact_line_search_quadratic(A, b, x, d)\n",
        "\n",
        "    x = x + alpha * d\n",
        "  end\n",
        "\n",
        "  return x, max_iter, fvals\n",
        "end"
      ],
      "metadata": {
        "colab": {
          "base_uri": "https://localhost:8080/"
        },
        "id": "cSWeM9ScsFPN",
        "outputId": "d4fac003-bbe3-4665-c4b9-a780d9928ea3"
      },
      "execution_count": 72,
      "outputs": [
        {
          "output_type": "execute_result",
          "data": {
            "text/plain": [
              "steepest_descent_exact (generic function with 1 method)"
            ]
          },
          "metadata": {},
          "execution_count": 72
        }
      ]
    },
    {
      "cell_type": "markdown",
      "source": [
        "**Newton com busca linear exata**"
      ],
      "metadata": {
        "id": "vV_BWIVFhRvd"
      }
    },
    {
      "cell_type": "code",
      "source": [
        "function newton_exact(A, b, x0; max_iter=2000, tol=1e-6)\n",
        "  x = copy(x0)\n",
        "  fvals = Float64[]\n",
        "\n",
        "  for k = 0:max_iter-1\n",
        "    f, g, H = quadratic(x, A, b)\n",
        "    push!(fvals, f)\n",
        "\n",
        "    gnorm = norm(g)\n",
        "    if gnorm <= tol\n",
        "      return x, k, fvals\n",
        "    end\n",
        "\n",
        "    p = - H \\ g\n",
        "\n",
        "    # passo exato\n",
        "    alpha = exact_line_search_quadratic(A, b, x, p)\n",
        "\n",
        "    x = x + alpha * p\n",
        "  end\n",
        "\n",
        "  return x, max_iter, fvals\n",
        "end"
      ],
      "metadata": {
        "colab": {
          "base_uri": "https://localhost:8080/"
        },
        "id": "jLL9JItHMYah",
        "outputId": "4e5ce5a0-2bc9-46de-f05f-3ccf10812d7b"
      },
      "execution_count": 73,
      "outputs": [
        {
          "output_type": "execute_result",
          "data": {
            "text/plain": [
              "newton_exact (generic function with 1 method)"
            ]
          },
          "metadata": {},
          "execution_count": 73
        }
      ]
    },
    {
      "cell_type": "markdown",
      "source": [
        "Cria uma instância quadrática $f(x) = \\tfrac{1}{2} x^T A x - b^T x$ de dimensão $n$ com uma distribuição específica de autovalores:  \n",
        "- `:equal`: todos os autovalores iguais (bem condicionada).  \n",
        "- `:two`: apenas dois valores diferentes (condicionamento moderado).  \n",
        "- `:spread`: autovalores variados de 1 até 1000 (mal condicionada)."
      ],
      "metadata": {
        "id": "s1Xx8LPVhsb9"
      }
    },
    {
      "cell_type": "code",
      "source": [
        "function generate_quadratic_instance(n, case)\n",
        "  U = householder_matrix(n)\n",
        "\n",
        "  eigenvalues = zeros(n)\n",
        "\n",
        "  if case == :equal\n",
        "    eigenvalues .= 1.0\n",
        "  elseif case == :two\n",
        "    eigenvalues[1:div(n,2)] .= 2.0\n",
        "    eigenvalues[div(n,2)+1:end] .= 5.0\n",
        "    shuffle!(eigenvalues)\n",
        "  elseif case == :spread\n",
        "    eigenvalues .= collect(LinRange(1.0, 1000.0, n))\n",
        "    shuffle!(eigenvalues)\n",
        "  end\n",
        "\n",
        "  Lambda = Diagonal(eigenvalues)\n",
        "  A = U * Lambda * U'\n",
        "  A = 0.5 * (A + A')   # garante simetria\n",
        "\n",
        "  b = randn(n)\n",
        "  x0 = randn(n)\n",
        "\n",
        "  return A, b, x0, eigenvalues\n",
        "end"
      ],
      "metadata": {
        "colab": {
          "base_uri": "https://localhost:8080/"
        },
        "id": "E6aRxP-0yTMk",
        "outputId": "72bc7c6c-147c-4d98-dfc8-917dd2512c50"
      },
      "execution_count": 74,
      "outputs": [
        {
          "output_type": "execute_result",
          "data": {
            "text/plain": [
              "generate_quadratic_instance (generic function with 1 method)"
            ]
          },
          "metadata": {},
          "execution_count": 74
        }
      ]
    },
    {
      "cell_type": "markdown",
      "source": [
        "Neste bloco, aplicamos os métodos de otimização (`steepest_descent_exact` e `newton_exact`) em várias instâncias quadráticas geradas:\n",
        "\n",
        "- `dimensions = [10, 100, 1000]`: diferentes tamanhos da matriz $A$;\n",
        "- `cases = [:equal, :two, :spread]`: diferentes distribuições de autovalores para testar o condicionamento.\n"
      ],
      "metadata": {
        "id": "yYN8ENPaiIut"
      }
    },
    {
      "cell_type": "code",
      "source": [
        "dimensions = [10, 100, 1000]\n",
        "cases = [:equal, :two, :spread]\n",
        "\n",
        "for n in dimensions, case in cases\n",
        "  A, b, x0, eigenvalues = generate_quadratic_instance(n, case)\n",
        "\n",
        "  # Gradiente\n",
        "  t_sd = @elapsed x_sd, k_sd, fvals_sd = steepest_descent_exact(A, b, x0, max_iter=10000)\n",
        "\n",
        "  # Newton\n",
        "  t_newt = @elapsed x_newt, k_newt, fvals_newt = newton_exact(A, b, x0, max_iter=10000)\n",
        "\n",
        "  println(\"Dimensão: $n, Caso: $case\")\n",
        "  println(\"  Gradiente:\")\n",
        "  println(\"    Iterações: $k_sd\")\n",
        "  println(\"    Tempo: $(round(t_sd, digits=6)) s\")\n",
        "  println(\"    Ponto final: $x_newt\")\n",
        "  println(\"  Newton:\")\n",
        "  println(\"    Iterações: $k_newt\")\n",
        "  println(\"    Tempo: $(round(t_newt, digits=6)) s\")\n",
        "  println(\"    Ponto final: $x_newt \\n\")\n",
        "end"
      ],
      "metadata": {
        "colab": {
          "base_uri": "https://localhost:8080/"
        },
        "id": "-CYt3iuHMbHo",
        "outputId": "1848037c-8a08-4f68-8663-063e5a09824f"
      },
      "execution_count": 75,
      "outputs": [
        {
          "output_type": "stream",
          "name": "stdout",
          "text": [
            "Dimensão: 10, Caso: equal\n",
            "  Gradiente:\n",
            "    Iterações: 1\n",
            "    Tempo: 0.066996 s\n",
            "    Ponto final: [-0.14599734645599977, -0.5536654908199037, 1.286903827386901, 0.008341276474938222, -0.2162056854734814, 0.5804257435407555, -0.8786337099164434, -0.5106165073408289, -0.5235197262169708, -0.11786930391333728]\n",
            "  Newton:\n",
            "    Iterações: 1\n",
            "    Tempo: 0.031668 s\n",
            "    Ponto final: [-0.14599734645599977, -0.5536654908199037, 1.286903827386901, 0.008341276474938222, -0.2162056854734814, 0.5804257435407555, -0.8786337099164434, -0.5106165073408289, -0.5235197262169708, -0.11786930391333728] \n",
            "\n",
            "Dimensão: 10, Caso: two\n",
            "  Gradiente:\n",
            "    Iterações: 11\n",
            "    Tempo: 4.5e-5 s\n",
            "    Ponto final: [-0.2614432802840898, 0.48190707890274287, 1.1695699090093445, 0.3727266974697001, -0.0743023641569951, 0.12350311807184883, -0.020024334539196498, -0.5744007608526783, -0.04871887224162272, -0.3692475931199002]\n",
            "  Newton:\n",
            "    Iterações: 1\n",
            "    Tempo: 1.9e-5 s\n",
            "    Ponto final: [-0.2614432802840898, 0.48190707890274287, 1.1695699090093445, 0.3727266974697001, -0.0743023641569951, 0.12350311807184883, -0.020024334539196498, -0.5744007608526783, -0.04871887224162272, -0.3692475931199002] \n",
            "\n",
            "Dimensão: 10, Caso: spread\n",
            "  Gradiente:\n",
            "    Iterações: 6873\n",
            "    Tempo: 0.018934 s\n",
            "    Ponto final: [-0.06853050997916488, 0.01823251111649904, 0.2800190282914201, 0.2097478984865897, -0.18555174816497533, -0.11386596539215055, -0.06967356309103545, -0.04028352081891229, 1.348206840332233, -0.1705708684327422]\n",
            "  Newton:\n",
            "    Iterações: 1\n",
            "    Tempo: 2.3e-5 s\n",
            "    Ponto final: [-0.06853050997916488, 0.01823251111649904, 0.2800190282914201, 0.2097478984865897, -0.18555174816497533, -0.11386596539215055, -0.06967356309103545, -0.04028352081891229, 1.348206840332233, -0.1705708684327422] \n",
            "\n",
            "Dimensão: 100, Caso: equal\n",
            "  Gradiente:\n",
            "    Iterações: 1\n",
            "    Tempo: 1.8e-5 s\n",
            "    Ponto final: [1.1004689016663054, 0.18938568914488796, 0.8910195862717438, 0.4103566151212277, 1.267459631251269, 1.44700892720702, 0.549407956693547, -0.9616902885569218, 0.3665813283581194, -2.558079121688399, -1.2306851737335307, 0.0412843784885607, 0.509099359577248, -1.0113881860637046, -1.48135985245831, 0.2763069675419956, -2.7323584711813083, 0.07785214034198512, 0.8613002883975368, -0.46697412608680555, -0.5164669491256249, -1.1851165597382551, -0.8114553949122436, 1.8112226640293378, -0.7398354834223627, -0.4469267811837089, -0.1445088390567404, 1.059158104573167, -0.8566949490405673, -0.21803218518581835, -0.359706836402531, 0.48175883242380724, -0.13517960727911915, -1.4361023323262643, 0.451117750604745, 1.1418676105531522, -0.2425785074667337, -0.7818972844350862, -1.1418837240406883, 1.1287806001014584, 1.4590345868447767, 1.651470617285754, -1.1183712614691896, 0.3613105547101915, -0.21330931266845743, -0.14813983389939278, 1.294858387897281, 0.026736100710258004, 0.572827149411737, 0.9005648832516511, 0.015794750007098075, -0.383512094803216, -1.4181239538173487, 0.45557057982770854, 0.1293490744460566, 2.003922095694572, -1.108610224744632, -0.16242118627692792, -0.7870772620067701, -0.253643453513799, -0.6744938963022653, 0.9192814684683475, 0.7643542598175452, -0.6572519063657873, -1.115666211708267, -1.007442072614055, 0.38915681119976353, 0.7353850091019108, -1.2156878997144664, 0.8233399853809545, -0.972368588404639, -1.3270237249087384, 0.6722182637332936, 0.7342514555647068, -0.10515768523968513, 0.30216110595931317, -0.42193096105912076, 0.5839650025397141, -2.37736781411653, 0.20863817647398353, 0.857770376612558, -0.11755722884948527, -1.7721177732072526, 0.2477745363450099, 1.589903917422526, 0.633111217160997, 0.7590413132489362, -0.19390849663892995, 1.1119646614435919, -0.877319733834089, -0.37514762996246875, 1.8881028096440176, -0.9939343198920088, 0.20227504575208588, -0.7269711031329121, 1.2202167044775216, -0.49980348668750796, 0.8461669599212317, -0.645835726509098, -0.47418811794678484]\n",
            "  Newton:\n",
            "    Iterações: 1\n",
            "    Tempo: 0.00017 s\n",
            "    Ponto final: [1.1004689016663054, 0.18938568914488796, 0.8910195862717438, 0.4103566151212277, 1.267459631251269, 1.44700892720702, 0.549407956693547, -0.9616902885569218, 0.3665813283581194, -2.558079121688399, -1.2306851737335307, 0.0412843784885607, 0.509099359577248, -1.0113881860637046, -1.48135985245831, 0.2763069675419956, -2.7323584711813083, 0.07785214034198512, 0.8613002883975368, -0.46697412608680555, -0.5164669491256249, -1.1851165597382551, -0.8114553949122436, 1.8112226640293378, -0.7398354834223627, -0.4469267811837089, -0.1445088390567404, 1.059158104573167, -0.8566949490405673, -0.21803218518581835, -0.359706836402531, 0.48175883242380724, -0.13517960727911915, -1.4361023323262643, 0.451117750604745, 1.1418676105531522, -0.2425785074667337, -0.7818972844350862, -1.1418837240406883, 1.1287806001014584, 1.4590345868447767, 1.651470617285754, -1.1183712614691896, 0.3613105547101915, -0.21330931266845743, -0.14813983389939278, 1.294858387897281, 0.026736100710258004, 0.572827149411737, 0.9005648832516511, 0.015794750007098075, -0.383512094803216, -1.4181239538173487, 0.45557057982770854, 0.1293490744460566, 2.003922095694572, -1.108610224744632, -0.16242118627692792, -0.7870772620067701, -0.253643453513799, -0.6744938963022653, 0.9192814684683475, 0.7643542598175452, -0.6572519063657873, -1.115666211708267, -1.007442072614055, 0.38915681119976353, 0.7353850091019108, -1.2156878997144664, 0.8233399853809545, -0.972368588404639, -1.3270237249087384, 0.6722182637332936, 0.7342514555647068, -0.10515768523968513, 0.30216110595931317, -0.42193096105912076, 0.5839650025397141, -2.37736781411653, 0.20863817647398353, 0.857770376612558, -0.11755722884948527, -1.7721177732072526, 0.2477745363450099, 1.589903917422526, 0.633111217160997, 0.7590413132489362, -0.19390849663892995, 1.1119646614435919, -0.877319733834089, -0.37514762996246875, 1.8881028096440176, -0.9939343198920088, 0.20227504575208588, -0.7269711031329121, 1.2202167044775216, -0.49980348668750796, 0.8461669599212317, -0.645835726509098, -0.47418811794678484] \n",
            "\n",
            "Dimensão: 100, Caso: two\n",
            "  Gradiente:\n",
            "    Iterações: 15\n",
            "    Tempo: 0.000144 s\n",
            "    Ponto final: [-0.9858093200061626, -0.01195064531307509, -0.05586996046231374, -0.3134091367824967, 0.249172168048525, 0.15081017502792604, 0.35345402125035796, 0.7542834562219823, 0.7895964050871291, -0.09669731259016551, 0.13352139349413716, 0.18625725163518714, -0.09998718749579255, 0.11827754371362223, -0.5260341027903102, 0.5910245821156335, 0.11419079004681199, -0.09085048530758, 0.25146894544075815, -1.1118577570076837, 0.08255244783643628, -0.14099000243086823, -0.9746359873109423, -0.08255318522074162, -0.04722868505430666, 0.4115563287947665, 0.13530858304416027, -0.6277034766253365, 0.27144080554581296, -0.16739020480186695, 0.0740801774711431, -0.2898779547942003, -0.09768612747654726, -0.7742276463746417, 0.7686289651964443, 0.19782291635516347, -0.18996467965875818, -0.13055880637029205, -0.13351091727266481, -0.032030538744570125, -0.11379939607385153, -0.25207676196289674, -0.014897783302785877, 0.24590741751302447, 0.11351778253366458, 0.1478430541710274, 0.15125236119613428, -0.12228348667320849, -0.2841310404223856, -0.4780560937807824, 0.3817239544761879, -0.271521277586275, 0.4851849138399196, 0.5255937499774079, 0.4812036138850433, 0.13990065749080016, -0.5054139256933637, 0.6349796576225099, 0.17778566519513994, 0.10770957723703672, 0.7509182528135361, 0.07546917983942603, 0.37852360850887534, 0.2548626924339584, -0.44384972493976615, 0.7566197555161074, 0.056951124601182235, 0.07278141862872667, 0.2957301267065433, -0.7128817340462535, 0.7368064555336674, 0.1394403304986671, -0.13650766093687117, 0.3722868129020217, 0.31923702553881195, -0.4521476621346945, -0.02782857478020251, 0.13225600584251268, 0.12629936362547853, 0.32838807162123934, 0.5467326114947695, 0.06600075702415042, 0.048878673146190946, -0.26040542524101606, 0.693071857706172, 0.05060741865610252, -0.36331632772430505, 0.16661612359918254, -0.2922673647302301, -0.04250503759079405, 0.39980554543697666, -0.6739987245590108, -0.19967856893158226, 0.031696291977087204, 0.0553472537516434, -0.3524937390258005, 0.2772643134297903, -0.4468191869643622, -0.6449775445431198, -0.024214778332810105]\n",
            "  Newton:\n",
            "    Iterações: 1\n",
            "    Tempo: 0.000163 s\n",
            "    Ponto final: [-0.9858093200061626, -0.01195064531307509, -0.05586996046231374, -0.3134091367824967, 0.249172168048525, 0.15081017502792604, 0.35345402125035796, 0.7542834562219823, 0.7895964050871291, -0.09669731259016551, 0.13352139349413716, 0.18625725163518714, -0.09998718749579255, 0.11827754371362223, -0.5260341027903102, 0.5910245821156335, 0.11419079004681199, -0.09085048530758, 0.25146894544075815, -1.1118577570076837, 0.08255244783643628, -0.14099000243086823, -0.9746359873109423, -0.08255318522074162, -0.04722868505430666, 0.4115563287947665, 0.13530858304416027, -0.6277034766253365, 0.27144080554581296, -0.16739020480186695, 0.0740801774711431, -0.2898779547942003, -0.09768612747654726, -0.7742276463746417, 0.7686289651964443, 0.19782291635516347, -0.18996467965875818, -0.13055880637029205, -0.13351091727266481, -0.032030538744570125, -0.11379939607385153, -0.25207676196289674, -0.014897783302785877, 0.24590741751302447, 0.11351778253366458, 0.1478430541710274, 0.15125236119613428, -0.12228348667320849, -0.2841310404223856, -0.4780560937807824, 0.3817239544761879, -0.271521277586275, 0.4851849138399196, 0.5255937499774079, 0.4812036138850433, 0.13990065749080016, -0.5054139256933637, 0.6349796576225099, 0.17778566519513994, 0.10770957723703672, 0.7509182528135361, 0.07546917983942603, 0.37852360850887534, 0.2548626924339584, -0.44384972493976615, 0.7566197555161074, 0.056951124601182235, 0.07278141862872667, 0.2957301267065433, -0.7128817340462535, 0.7368064555336674, 0.1394403304986671, -0.13650766093687117, 0.3722868129020217, 0.31923702553881195, -0.4521476621346945, -0.02782857478020251, 0.13225600584251268, 0.12629936362547853, 0.32838807162123934, 0.5467326114947695, 0.06600075702415042, 0.048878673146190946, -0.26040542524101606, 0.693071857706172, 0.05060741865610252, -0.36331632772430505, 0.16661612359918254, -0.2922673647302301, -0.04250503759079405, 0.39980554543697666, -0.6739987245590108, -0.19967856893158226, 0.031696291977087204, 0.0553472537516434, -0.3524937390258005, 0.2772643134297903, -0.4468191869643622, -0.6449775445431198, -0.024214778332810105] \n",
            "\n",
            "Dimensão: 100, Caso: spread\n",
            "  Gradiente:\n",
            "    Iterações: 6579\n",
            "    Tempo: 0.054459 s\n",
            "    Ponto final: [0.014726821068544449, 0.002696129133754499, 0.003531392761351046, -0.006992854092134904, 0.010785805492103284, 0.0033184853456769414, -0.004725240846210288, 0.002212740721425692, -0.0008585113923769705, 0.004925456918947066, -0.00571839540835728, -0.0004696308297011953, -0.009242517228405894, 0.9788229763623733, 0.0035803651561829852, -0.01773995644899129, -0.014649204810355712, 0.001283579005265545, -0.0039546229443835346, -0.014910007687972682, 0.006887804872761194, 0.007826566890307807, -0.002270594830803274, -0.0044126819024274955, 0.005310442130972315, -0.006300436359967715, 0.021430870338273622, 0.0010664428703001938, -0.009875551377428354, 0.007568138466364616, -0.005245692595193474, -0.009556254989881552, -0.0012234229809510166, 0.006664595505111004, -0.010029437047981316, -0.0074893845712445395, 0.002283247853698267, 0.008655397118732422, -0.002155501862917797, 0.012923816422102339, 0.025789193627493212, 0.06022014679044829, 0.0010355134979797564, -0.00896628662164018, 0.00812604270634354, -0.00995725140098934, 0.007106147188830736, 0.012240756985728796, 0.0068747139658543455, -0.013705793767638752, 0.003544047211881507, 0.007853671059157796, -0.0111927067673812, 0.007824634817065967, 0.011532350608444486, -0.009611129030571763, -0.003651157771641378, 0.005716675882303512, -0.01631084031124752, -0.000879999871850834, 0.008788207598777409, -0.02518266216310172, -0.004873445912266572, -0.003756215647765515, -0.011328832091664687, -0.02928455410024977, 0.007010595326791491, -0.01669255520184021, 0.024822795419723764, -0.018860241838514424, -0.002907038094256409, 0.012398109454712536, -0.0019853554210619573, 0.0009107296503003057, 0.004387603565899956, 0.006627928703976438, -0.0067491192282330414, -0.00017751849234792783, -0.0013130437957332708, -0.0005756591694716096, 0.0044944814200855755, -9.633372897449588e-5, -0.003923215589344553, 0.012245043733023153, 0.010274951627888218, 0.0012032383618647002, -0.005110636686791459, -0.004443007821483047, 0.015962368791295718, -0.0015915578379039896, -0.012774826296430203, 0.00035912708407948024, -0.0008047305962639723, 0.00016151005178588473, 0.014954711082391992, 0.0034585207213302382, 0.008208357876102579, 0.027336275443981206, 0.01057937237065465, 4.831894760526367e-6]\n",
            "  Newton:\n",
            "    Iterações: 1\n",
            "    Tempo: 0.000888 s\n",
            "    Ponto final: [0.014726821068544449, 0.002696129133754499, 0.003531392761351046, -0.006992854092134904, 0.010785805492103284, 0.0033184853456769414, -0.004725240846210288, 0.002212740721425692, -0.0008585113923769705, 0.004925456918947066, -0.00571839540835728, -0.0004696308297011953, -0.009242517228405894, 0.9788229763623733, 0.0035803651561829852, -0.01773995644899129, -0.014649204810355712, 0.001283579005265545, -0.0039546229443835346, -0.014910007687972682, 0.006887804872761194, 0.007826566890307807, -0.002270594830803274, -0.0044126819024274955, 0.005310442130972315, -0.006300436359967715, 0.021430870338273622, 0.0010664428703001938, -0.009875551377428354, 0.007568138466364616, -0.005245692595193474, -0.009556254989881552, -0.0012234229809510166, 0.006664595505111004, -0.010029437047981316, -0.0074893845712445395, 0.002283247853698267, 0.008655397118732422, -0.002155501862917797, 0.012923816422102339, 0.025789193627493212, 0.06022014679044829, 0.0010355134979797564, -0.00896628662164018, 0.00812604270634354, -0.00995725140098934, 0.007106147188830736, 0.012240756985728796, 0.0068747139658543455, -0.013705793767638752, 0.003544047211881507, 0.007853671059157796, -0.0111927067673812, 0.007824634817065967, 0.011532350608444486, -0.009611129030571763, -0.003651157771641378, 0.005716675882303512, -0.01631084031124752, -0.000879999871850834, 0.008788207598777409, -0.02518266216310172, -0.004873445912266572, -0.003756215647765515, -0.011328832091664687, -0.02928455410024977, 0.007010595326791491, -0.01669255520184021, 0.024822795419723764, -0.018860241838514424, -0.002907038094256409, 0.012398109454712536, -0.0019853554210619573, 0.0009107296503003057, 0.004387603565899956, 0.006627928703976438, -0.0067491192282330414, -0.00017751849234792783, -0.0013130437957332708, -0.0005756591694716096, 0.0044944814200855755, -9.633372897449588e-5, -0.003923215589344553, 0.012245043733023153, 0.010274951627888218, 0.0012032383618647002, -0.005110636686791459, -0.004443007821483047, 0.015962368791295718, -0.0015915578379039896, -0.012774826296430203, 0.00035912708407948024, -0.0008047305962639723, 0.00016151005178588473, 0.014954711082391992, 0.0034585207213302382, 0.008208357876102579, 0.027336275443981206, 0.01057937237065465, 4.831894760526367e-6] \n",
            "\n",
            "Dimensão: 1000, Caso: equal\n",
            "  Gradiente:\n",
            "    Iterações: 1\n",
            "    Tempo: 0.002828 s\n",
            "    Ponto final: [1.6807945613958482, 0.18175361100007226, -0.9432826493689846, 0.01414881046787686, -0.7522413521021151, 0.17592748683586906, -0.7418616778350366, 1.016726057550067, 0.737233021079082, -0.16691695753561775, -0.858553006468487, 0.8174780247087747, 0.9410116928149855, -0.048623822656205906, 0.5554815849459658, -0.14916233654462963, 0.8747995277557912, 1.5658914601523435, 1.0975420364968302, -2.5376813742181916, -0.18941879981829657, 0.9911927004468514, 0.5987094388665198, 0.19197584338212015, -0.2812927427751073, 1.525524168639414, -0.796214419967328, -0.2682591431818104, -0.6165306618363544, -1.5711748828189638, 2.2759137411228334, 0.45303794538796355, -0.13541969289347827, 1.8709182570088947, 0.512064888216563, -0.8700519029714228, -0.0008526805565139961, 0.4955316485640049, -0.3119843613939387, -0.7379568969137962, 0.7488565055694518, 0.7273675697692651, -0.7407130228529809, -0.627795515567449, -0.2648210392430572, -1.883728236137296, 1.0285136224246432, 1.3529025555760326, 1.6302158950193297, 0.10099399010816801, -0.9948466257317359, -0.14472815918984416, -0.08669341104065009, 0.11642263037033856, -1.366718032976212, 0.5640998201313254, 2.5101593987366844, 0.5142515474294245, -2.557274554332199, -0.2681085862217645, -0.6182736440299876, 0.532643357564615, -0.18935966366211388, -0.5607562609474707, 1.5450335477188815, 0.13654311889599996, -0.14924824197591058, -0.1867359429540072, 0.9503825877180199, 0.5242865216915586, 0.03357022029776002, -0.6341199188460688, 0.19622353679119592, 1.4770990571121312, -1.1750493775549904, 0.36602818797046593, 0.12546574046616432, -0.2646349576709368, 1.0933986530231163, -1.327059702977797, -0.5647964239723473, 0.657100667851125, 0.03836198125833756, 0.012281520395652556, -0.6386982662550357, -1.141051954338362, 0.39367077544013784, -0.7288461793798553, -1.193159274401156, 0.6456244804575046, 0.6202916796029523, 1.1415636187488318, 0.22409725151514026, 0.3439830345198689, 0.09795478061504817, -0.3187294905365323, -0.5197786600502168, 1.1111622665323548, 1.8505180587578107, 0.6043595157236143, -0.9828824809220877, -1.1346131615137331, 1.4857809319282331, -0.4898175118390873, -0.6645125910247721, 0.8446000906568403, 1.8629773308846125, -1.6855212118738891, 0.08295761118794143, 0.2792236608137737, -0.5468203019868179, 1.15954166868331, 0.6972229378303347, -1.2122561518632085, -0.9566872336300427, -0.37586831762429407, 0.32725345682360785, 0.4768911093072516, -1.6441666615383583, 1.5145219589355294, 0.8712088428851767, 0.5727956880146741, -0.013128577817977938, 1.2622852210443418, 0.0343948094557428, 0.8440639821770095, 0.34212476756049226, -0.13879491941709077, 0.608430968933559, 0.24292301581405706, -0.6007347180759642, 0.5876211487661955, 0.4306521933178139, 0.3668795524675188, -0.24946940001148932, 1.0834800952281396, -0.18899079461478308, -0.06336681499183605, -1.0743582846482989, 2.2383441382348344, -0.2738514301292123, 1.4251484842450788, 0.5568618485714419, -1.3930362416760436, -1.9438592799325762, -0.41588349804942726, -0.706516080897287, 1.0096343195956488, 0.26846727635485657, -1.2594184585149542, -0.19955350704622363, -1.0046391723464474, 0.2813376022848483, -0.564440268250602, -0.07335955765806368, -0.39964066155459754, 1.5669426182947506, 0.031666520640062146, 0.7268979646929102, -1.878001400615458, -0.20410207931488233, 1.5716322675745453, 1.4467197308152557, 1.229643414222825, -0.7523515689240393, 0.65389037779471, -0.34098885131398204, -1.120009390329709, -0.0208751568317046, -0.2722486912074591, -0.1322005207680348, 1.8506978540154362, 1.5157901278676975, 2.6754781100310274, -0.6500976645469082, 0.5432118927564422, 0.9839185971652056, 0.21255245497475628, -1.4645935997969197, 1.2218768286222281, 0.8910861521939433, 0.05234686741901129, -0.5893251706779754, 0.7428530324996705, -0.3066075738673054, 0.27351432227338746, -0.738213154640027, 1.9060667635032484, 0.3759667503805506, -0.24042401977609573, -0.5789463904372075, 0.16833579631871154, 0.30693440258398585, 0.5431906090682144, -0.9178499543649303, -0.031736054890524446, -0.3262278218045878, -0.5008087294040384, -0.40364731721668146, -1.0406963243282745, -0.6569133736731942, -0.04222721400296636, -0.5092676933884206, -0.017733281889402486, 0.7145010288958369, -1.886416290395638, 0.3789229918016174, -1.0427163233700716, -0.21012786733980326, 0.7321673524893435, -1.3455831194111678, -0.6899343398567079, -0.746900671774634, 0.06891627792498056, -1.5999234916159757, -2.6570009284647407, 1.2269623311301994, -0.3393920018127222, -1.2174915780515025, -0.14375665140058724, 0.1198233685151675, -0.16817416894101844, 0.8918953869418613, -1.1738495787314005, 0.42350597694696834, 0.345624146839921, 0.41324551260771003, 1.2259348082797852, -0.4006133377702219, -1.1861524109806387, 1.8419470016348507, -1.205282730645296, 1.285969420461811, -0.07777251388159456, -1.6020772090456807, 0.3939285497464361, -0.8839571379568427, 0.6134571672217566, 2.145600474527192, -1.1732138030901158, -0.7116003215248128, 0.7883850135223915, -0.6460510347083621, -0.26857721417771596, -0.03686599385121814, -0.6113260308726538, -1.4188634299538958, 0.8319571791235336, -0.5005750799537204, 0.2816590832829471, 0.27992705840133414, -1.279693349662581, -2.056521518520612, -0.22605891395752142, 0.2662798124930503, -0.21806851923253034, -0.7308970195534694, 1.1862212012435938, -0.1908722723305467, -0.8326414004528855, 0.15416300897095359, 0.8154835083627704, -1.1413966097475736, -0.8464750593994407, 0.35427471985589953, 1.11959486623679, -0.1896741355273105, -0.9029179801009622, -0.09975981976542697, 0.04751193785781069, 0.4270400461334354, 0.3327722990641673, -0.25865519186573077, -0.5249834203270723, 2.210439736747694, 1.4868281029978148, -0.055173290217659376, 0.6810743450616579, 1.1201918933301247, -3.006554288993701, 2.059144174793663, 1.1186289620559529, 1.430698428109793, -0.15362988691964707, -0.37365301936503936, 0.3580352337797304, -0.08898202166677846, -0.04184574231878968, 1.768180695052842, 0.529010595898417, -0.4277787273159136, 1.072779799946738, -0.9777473899734618, -0.5691266762647582, -0.07675520260662361, 0.9034819649637836, 0.6134635392208724, 1.340578397440634, 1.1794876620489507, 0.09751054604907994, -1.599082381325044, -1.0694045639152945, -1.0859337116392476, -0.07702898885737852, -1.2433770850780013, 0.647906551516251, -0.7704987217914406, -1.8198576057326572, 1.2166660826482707, -2.0341391270678466, 1.1577028935488611, 1.3467051811359683, -1.4754009779263195, 0.28965717028115695, 0.253367995055948, 0.3017589654698033, 0.4093233020640794, 2.395105830879792, 0.5968391120355252, -0.8286209784287213, -0.20999798156585636, 0.2990674470110154, -0.351107505928244, -1.3213446663248152, 0.174672941442942, 2.319515943125433, -0.9435139725261183, -1.0448653474976473, -0.05125846728609329, 0.9753528998319196, -1.1006264815623317, -1.2367946284127502, -0.22249046530218405, -1.9773297601118132, 0.34225060560384163, 0.9555695292075415, 0.18825276877207053, -0.9174810094974427, 0.09991249582171946, -0.4225000239880098, 0.11524717422189848, 0.18440781531826989, -0.11828193813013899, 1.035470462138381, -1.3053312045940983, -0.28157476932129866, -0.6086690458631697, -0.8771901234833885, -0.22709196206670046, 1.6169576813975972, -0.9151514250650393, 1.3521654126561744, 1.162329768395376, -0.15186886389729742, -1.1128192957099032, 0.6853049042075455, -2.331271489107596, 0.12264475023760779, -0.09935114347096108, -0.8658937467824297, 0.2284156526286557, 0.8521555433000494, -0.3145612567381806, -0.6144659777449295, 0.7336995491774299, 1.1215903977630028, 0.262044431542783, 1.2297204486939528, -0.12338473179134829, 1.267959991238679, 1.2162295464750723, -0.2503827072326186, -1.4277216368217807, 0.37566907757927126, 0.43827823128030763, -1.6952164850914233, -1.1662633069505683, 0.5866475753154837, -0.5595370802996311, -0.4799503768116724, 0.5273313985668381, 0.133794422371707, -0.7716899896675871, 1.5434461013017629, 1.4612393860405133, -0.41351290831204357, -0.18819431868394998, 0.816189626683514, 1.225928804061835, -0.41392634127405037, 0.7254134531553356, -1.718232382263107, 0.16743040012550425, -0.009862050889656415, -0.18015752660953144, -1.9188734755008867, 0.15558936239916765, 0.542088232691607, 0.46818654300957563, 2.5036981456621206, 0.9140652765274834, -0.7002834597310073, -0.08964602687572404, -1.8904372688370903, 0.9429055125066012, 0.5022579195182202, -0.7011567997621445, 0.8888383803158793, -0.24653079436808983, -1.480262394962551, 0.9518500561872016, 0.5140861361917465, 1.7585417217694377, -0.4671799833784402, 0.1475899442205577, 0.4315046118761682, 1.0433240610311065, -1.1455176027946896, 0.8713365426567107, 1.5613209506535701, -1.1300132240363154, -0.2526275679424248, -0.39018718087973525, -1.338413786507434, 0.3199793403666378, 0.05182580697801986, -1.1046072010145898, -0.0885908208254454, 1.3169795991780442, -1.1821561335389434, 0.3252537847685706, 0.11776220816408943, -1.5231181793240647, 0.9661827688758553, 1.6129558947302978, -0.8765087208263451, 1.1081125604886384, -0.01390987842512914, 0.4318226558888655, -0.1444372544659207, 0.0853910462447367, 0.5694228880048091, 0.8912570249888461, -0.8730736001882391, 0.06784462492839505, -0.51121206886136, 1.991772058340918, -0.9829212361554456, 0.031878995778895636, -0.31647515240014146, 1.215906518735066, 0.4552472846797292, 0.32037540214892524, 1.1384599323732791, -0.21454103714882594, -0.0843019069830635, 1.9824242488752644, 0.6363815704117448, -1.864784380723693, -0.3355052671526889, 1.4378316180763115, -0.5120503850659492, -1.86922415498511, -1.1735798773212305, 1.4698943180848538, 0.6137355887566595, -0.22511111487191116, 0.37370182123936263, 0.16305400919450577, -0.07928417282692546, 1.5081376628064342, 1.02825475291552, 0.7602787680807339, -0.699311054806479, 0.7685966522959577, -0.20019514924543447, -0.8676754131363211, 0.5300187453247076, 1.5484242329767337, -0.21980853878149018, 1.4744082700100973, 0.40491698457555025, -1.1768732004521203, -0.8915096046722768, -1.0990932540506462, -0.4878307134933998, 0.5523537104547096, -1.2426474416942592, -1.0330650249063151, 0.07549939002803671, -0.24306824359073054, -0.661810952087297, 0.9785186403492658, -0.5258432308744836, -1.156252825402607, -0.6304720815887063, 0.07777604371147606, 2.9022065937494554, 0.7768044211346533, -0.25713416871409367, 0.5494000386254752, -1.2052845311581932, 0.11036067711408581, -0.8384668798523833, -1.2913373750855723, -0.529756041281314, -0.4096939576129458, -0.8430334140836004, -0.9174235001155973, 0.16697182305886393, -0.11997170903028098, -0.1788396334445025, -0.08796603116454876, -0.7278945862105568, 0.47253953684982686, -0.4002402959532184, -1.468745281263262, 0.3959522571789568, 0.09419744931786747, 0.45086230255453996, -1.4166347916792712, 0.8872779120894343, 1.423816142696129, 0.050726705538497674, -0.3229564801866669, -0.6021675039981766, -0.2506501388440828, -0.3034778821671915, -0.3291390425845495, -0.6961521724484734, 0.531412788555841, 0.18120616170021714, -0.05609997933360525, 0.6893348019829002, 1.3265818986209028, -1.4865359770228928, -0.502405500220996, -0.8540960953217347, 0.8656044662161316, 0.6494742063690833, 0.29145269291250236, -0.11009219796008174, -0.8872437274145417, 0.06176043763125483, -1.9503601550240977, -0.8121055689982781, -0.6777906612391745, -1.131100347585105, -0.03322512720032528, -0.7297460002943991, 0.4704731963279936, -0.8414617923599965, -1.26996997648471, -0.8731764636934354, -1.322231355562891, -0.12613543408572503, -0.11913910758688495, 0.6549932006599634, 1.5144364265044339, -0.14684459753792983, -1.5921663628740472, 1.4742721486680728, -0.6123807844548157, 0.33370928613753903, -1.462588255678771, -0.3446256120340493, -0.5066993271725433, -0.298075159594009, 0.012580850890073991, -0.047717781450975494, -0.8958110393536494, -1.3541784352286461, 1.384846577891054, 0.8193904601320348, -0.25373877777476656, 0.7059270413107138, -1.091655511632057, 0.67679094133741, 0.49771326843375996, -0.35864939219945235, 0.5385510572687591, 0.7083870723262398, 0.4886448676590701, -1.3483595514090065, -2.0979943656631947, -0.0683735873646138, 1.665792725485281, 1.0810951271447402, -0.34205655155019227, -0.12933768210061514, -0.5018080525123261, 0.25998651063213096, -0.9143769789160252, -0.3902851894508049, -1.4398575942005287, -1.0434183586212964, 0.5468328445814801, 1.1829844388581283, 2.5911146513706345, 1.8413072720394608, -0.053125486147814205, -0.591107429473688, -0.08276586805612479, 0.6737670079937358, -1.4167481057006213, 0.03426781268089496, 1.7214690701407076, 1.2802336170756745, -1.312571758958599, -0.6848194680604616, -1.8075840715487965, -1.3198415939181822, 0.11640665594244637, -0.6811073373085328, -0.3329039465567172, -1.0087667213840492, 0.6591088095569049, -1.1068410069319905, -0.71747847005724, -0.872154133538858, -2.0879879803208947, 0.21530809869184664, 0.05429227437666978, -1.3246821324917242, 1.1456679667861787, -0.9703127492788893, 0.9980043528039847, 0.06720691643890153, -0.4710693591743491, -0.7987940986111938, 0.6399614466220112, 0.4386666150807308, -0.52685892878255, 0.626235790230252, 0.10120364155094852, 1.7622703509667668, 1.1439662859513444, -1.2677936474773603, -1.3260894185516001, -0.2550498681283092, -2.1265756010629784, 0.45180525716550246, -0.09654411062147783, -0.12764426810827276, 0.06715164429224285, -0.010815640373562974, 1.0579165695530177, 0.5747316493763226, 0.374457834397597, 0.22146850625853576, 1.0879868132404855, 0.47427954787017, 1.8385620669994163, 1.8058555541424972, -0.9370543137591169, -1.6159832685794306, 0.7875602783163688, 0.1240519958088101, -1.8259742021965948, 0.14039772603627076, -1.213525945822643, 1.3877040743831717, 0.19070763609232277, -0.7676668177279277, -0.26028823650540667, 1.0378007778130558, -1.1974443372055537, -1.4671202860043095, 0.7764815758324887, -0.7384062552159167, -0.11228257246669304, -0.21471533221043487, -0.5171778391984586, -0.21936329263166165, -0.9652555225903423, 0.44496845119289985, 1.0355224433579515, 0.6306285599088143, -1.1759745713630823, -1.5500861971142452, 0.9052446324695831, -0.5444410043454175, -0.7963884328452111, 2.305913747822006, -0.9857789745768271, 0.42985832440693184, -0.32984304451779234, 0.2192907114598199, 1.0668576875249252, 0.8951099613711062, 0.47955126199907594, 0.28058781328901816, 0.087355234377962, 0.41727011869041597, -1.0283423013728246, 1.1842298848797042, 0.5998521564869099, 0.3001727879571205, 0.8748176527611722, 1.3392791800311397, 1.330719825384655, -1.7577038264915252, -1.114443241422897, -0.2883736174863621, -0.2563229165991463, -2.2633502907507106, -0.017594902405752566, 0.33452508814131415, -1.4080989552511531, 1.6723141408445914, 0.09682337053085432, 1.969233952363747, 1.1211005560877911, -2.1618228485334683, -1.3542289956791018, -0.3319571162655406, -0.3673297087627084, -0.3077684835193245, 0.1430607292801442, -0.07715210096834046, 1.184776194286865, 0.9482719732941854, -0.36032397286529205, -0.48232050026844825, -0.36264113468622916, 0.12002059371904172, 0.0966235788428773, 1.4228881099476978, 0.5698818746789345, -2.523911209237326, -0.09720776416419419, 1.2508463945778585, 0.8125268509449886, 0.05134215481951769, -0.508745235993228, 0.32992937201891936, 1.437958844956384, 1.4265111255553586, 2.1122317199728124, -1.9900336379766723, 0.25800985697612616, 0.4897868833764398, -0.2718931958964861, -0.3797946481477855, 0.18044716242048642, 0.055373593278940314, 0.6783669191300161, 1.2752050649133793, 0.30728423595366405, -1.0249051723592022, -0.18186314501470102, 1.7165836717367764, 1.2341355791208408, -0.35933585481481767, 1.4770000758026065, -1.2395198731654524, -0.3130220969598944, 0.05510467773721857, 0.7027366329095224, -0.46381618213621406, 0.22419369504858055, -0.03065168664157758, -0.2347478417976412, 0.11279747569759753, -0.06773997882054361, -0.8824697874797827, 2.3749173752245905, -0.6294799049238102, 0.7097110925333087, -0.061975662069945425, 0.3934802517588487, 0.7295076109684759, 0.7329345199753821, 0.5517571296998873, 1.9156004135604325, -0.7841541825808676, -0.25017534863321567, -0.3803222128909747, -1.3947348122212557, 0.9567098978590471, 0.49155250418562946, 2.1131319468296743, 0.6544215733442725, 0.6241210469956218, 0.5559793600515585, -0.5526780805616178, 0.05372568951241119, -0.07158601925702707, 1.824770080635205, 3.8176986824911796, -0.56657031465045, -1.2516788180295084, 1.4310507397423367, -0.15081055089684053, 0.9197697394260329, 1.0927745707804424, 0.28282296845768495, -0.6149837671196114, 1.2909631151037513, -1.2182147215948038, -1.3657578523420608, 1.0553308669683528, -0.4176416168771875, 0.49973454217038027, -0.33453361182459407, -0.6973719497502535, -0.935703980093741, 0.3023557143034786, -0.7749957380426253, -1.1883323871777651, 0.7485671903205727, -0.8701599761774719, -0.7139990892209338, -2.3302385965791905, 1.1257549384691692, 0.5230457791144746, -1.7470478284362498, 1.6184901918911103, 0.1372710305377319, 1.2824222344819851, 1.3571046575807717, -0.04619744932030967, 0.9138725267207809, -1.378206556100091, -1.329062183578145, 2.136390565335723, 1.0035181149052343, 0.44787953243896234, 1.1940755137192145, 1.3077491497531533, -0.9480878673003519, -0.17723027003278324, -1.492916874982705, 1.293173154152041, -0.11605378766541619, 0.34432781117689415, 0.3382966519191404, 0.30729752815903066, 0.9439219715071623, -0.6660988236407404, 2.090800655747289, 0.32123558083142334, 0.6100217713338001, -1.557200920313292, 1.7869731930901933, -0.42453934625577616, 0.35457339233380414, 1.0132872206034862, 0.5475015446177216, 0.5273117159046097, 0.2169305890770043, 0.4579093087811089, -0.36075839010730015, 0.5494074294198076, -1.6476575449321162, -0.7114167543875075, -1.0257387092472685, 1.4427258015064222, -0.8623029122665253, 1.015101097353796, -0.10792473669774091, -1.3125266620218672, 1.1838306867900412, 0.5559692096817124, -0.8047013789753958, 0.35554451142549715, -1.4962432176351292, 0.2505250817732872, -0.24129672183418815, -1.416078444103662, -0.2959647644675387, -1.8482649522376933, 0.19017586191297808, 0.19136040292860923, 1.1969343943136486, -0.6965885909416336, 2.381439395709674, 0.32986825517060864, 0.2710603717659018, -0.11725628206680888, 0.45799940496789615, -0.3792188753421828, 0.31463732911862174, 0.0633672580665382, 1.5998486251679054, -1.9465517936033034, 0.219362457024404, 0.06536788144608074, -0.3450298070557154, 2.088353220205641, 0.6985347933746767, 0.16202705369953035, -1.1276104169320404, 0.4518379072293368, 0.7556834945309219, -0.1266993436360359, -1.090192723788134, -0.2619015794175007, 0.01907682778898734, 0.5015096186681758, 0.017492430341894516, 0.9658765503404677, -0.239198156671946, -0.0034596423593674652, -0.5791955659697, -0.9581577683995564, 0.8827884246350868, -1.1138354162692117, 1.1209250219375042, 0.9207482493648567, -1.2777715452197493, -1.382957010549404, -0.04466199196509554, 0.34947724777800365, 0.3897005922488508, 0.1934533765818499, 1.5385713784386046, -0.00908118608358044, -2.5361320752930068, -0.23735807841885403, 0.40419433693545687, 1.9190828270831901, 0.4983549954785209, -3.3191532793104965, -0.6191072274892637, -0.8041111869532145, 0.021097980008751627, 0.7859695924063823, -0.686466644702071, -0.07540541465318407, 0.9347230769516574, -0.9524323518200172, 1.7115674513531216, -0.8038691439456336, 0.6224245749257151, -0.1384416174319918, 0.4379809709665179, -0.16892261676259424, -0.29576377881779503, -1.216363466124057, 0.28775721013569333, -0.4743254787816929, -0.5228710616456512, 0.09924185875642377, 0.053587976644369095, 1.0580053853120808, -0.2921129132862176, -0.5491618545961928, -1.3127653951549614, 0.472402540751089, 0.04792742340593581, 0.22645002097084976, 0.40280806896422017, 0.8658108901352617, -1.2464907827524643, 1.0820685362709528, -2.7236235142246534, -0.8194625101842037, 0.7807046163379963, -0.8509441782614473, 0.6694136714516701, -1.9144483056228256, 0.32359673381379495, -0.8019751769793091, 0.03486386839963851, 0.16381285425043118, -0.4140955440628261, 1.2016035642471505, -0.7670394336671781, -0.7589085778115613, -1.7868851901314862, -1.469687860114352, 1.538215664503996, -0.532908583479862, 0.3037087683796662, -0.1893645134770292, -0.6863301843071451, -0.837408711691138, -1.3366536721555982, -0.4724891785956908, -0.4274747283506141, 0.008501196084997442, -0.851431681602133, -1.0633807847370158, -0.1474861403015244, -0.36223398412975905, -0.425021823721754, 0.5895477501374258, -0.477466013165079, 0.30201805907352586, -0.5287625011828048, -0.06401731521326054, 1.0378651889041366, -0.46616637230366537, -0.15305464225786414, 1.220116944387234, 0.7775762129144432, -0.49894763609976645, -0.4300819558356901, 0.6542769422983215]\n",
            "  Newton:\n",
            "    Iterações: 1\n",
            "    Tempo: 0.272887 s\n",
            "    Ponto final: [1.6807945613958482, 0.18175361100007226, -0.9432826493689846, 0.01414881046787686, -0.7522413521021151, 0.17592748683586906, -0.7418616778350366, 1.016726057550067, 0.737233021079082, -0.16691695753561775, -0.858553006468487, 0.8174780247087747, 0.9410116928149855, -0.048623822656205906, 0.5554815849459658, -0.14916233654462963, 0.8747995277557912, 1.5658914601523435, 1.0975420364968302, -2.5376813742181916, -0.18941879981829657, 0.9911927004468514, 0.5987094388665198, 0.19197584338212015, -0.2812927427751073, 1.525524168639414, -0.796214419967328, -0.2682591431818104, -0.6165306618363544, -1.5711748828189638, 2.2759137411228334, 0.45303794538796355, -0.13541969289347827, 1.8709182570088947, 0.512064888216563, -0.8700519029714228, -0.0008526805565139961, 0.4955316485640049, -0.3119843613939387, -0.7379568969137962, 0.7488565055694518, 0.7273675697692651, -0.7407130228529809, -0.627795515567449, -0.2648210392430572, -1.883728236137296, 1.0285136224246432, 1.3529025555760326, 1.6302158950193297, 0.10099399010816801, -0.9948466257317359, -0.14472815918984416, -0.08669341104065009, 0.11642263037033856, -1.366718032976212, 0.5640998201313254, 2.5101593987366844, 0.5142515474294245, -2.557274554332199, -0.2681085862217645, -0.6182736440299876, 0.532643357564615, -0.18935966366211388, -0.5607562609474707, 1.5450335477188815, 0.13654311889599996, -0.14924824197591058, -0.1867359429540072, 0.9503825877180199, 0.5242865216915586, 0.03357022029776002, -0.6341199188460688, 0.19622353679119592, 1.4770990571121312, -1.1750493775549904, 0.36602818797046593, 0.12546574046616432, -0.2646349576709368, 1.0933986530231163, -1.327059702977797, -0.5647964239723473, 0.657100667851125, 0.03836198125833756, 0.012281520395652556, -0.6386982662550357, -1.141051954338362, 0.39367077544013784, -0.7288461793798553, -1.193159274401156, 0.6456244804575046, 0.6202916796029523, 1.1415636187488318, 0.22409725151514026, 0.3439830345198689, 0.09795478061504817, -0.3187294905365323, -0.5197786600502168, 1.1111622665323548, 1.8505180587578107, 0.6043595157236143, -0.9828824809220877, -1.1346131615137331, 1.4857809319282331, -0.4898175118390873, -0.6645125910247721, 0.8446000906568403, 1.8629773308846125, -1.6855212118738891, 0.08295761118794143, 0.2792236608137737, -0.5468203019868179, 1.15954166868331, 0.6972229378303347, -1.2122561518632085, -0.9566872336300427, -0.37586831762429407, 0.32725345682360785, 0.4768911093072516, -1.6441666615383583, 1.5145219589355294, 0.8712088428851767, 0.5727956880146741, -0.013128577817977938, 1.2622852210443418, 0.0343948094557428, 0.8440639821770095, 0.34212476756049226, -0.13879491941709077, 0.608430968933559, 0.24292301581405706, -0.6007347180759642, 0.5876211487661955, 0.4306521933178139, 0.3668795524675188, -0.24946940001148932, 1.0834800952281396, -0.18899079461478308, -0.06336681499183605, -1.0743582846482989, 2.2383441382348344, -0.2738514301292123, 1.4251484842450788, 0.5568618485714419, -1.3930362416760436, -1.9438592799325762, -0.41588349804942726, -0.706516080897287, 1.0096343195956488, 0.26846727635485657, -1.2594184585149542, -0.19955350704622363, -1.0046391723464474, 0.2813376022848483, -0.564440268250602, -0.07335955765806368, -0.39964066155459754, 1.5669426182947506, 0.031666520640062146, 0.7268979646929102, -1.878001400615458, -0.20410207931488233, 1.5716322675745453, 1.4467197308152557, 1.229643414222825, -0.7523515689240393, 0.65389037779471, -0.34098885131398204, -1.120009390329709, -0.0208751568317046, -0.2722486912074591, -0.1322005207680348, 1.8506978540154362, 1.5157901278676975, 2.6754781100310274, -0.6500976645469082, 0.5432118927564422, 0.9839185971652056, 0.21255245497475628, -1.4645935997969197, 1.2218768286222281, 0.8910861521939433, 0.05234686741901129, -0.5893251706779754, 0.7428530324996705, -0.3066075738673054, 0.27351432227338746, -0.738213154640027, 1.9060667635032484, 0.3759667503805506, -0.24042401977609573, -0.5789463904372075, 0.16833579631871154, 0.30693440258398585, 0.5431906090682144, -0.9178499543649303, -0.031736054890524446, -0.3262278218045878, -0.5008087294040384, -0.40364731721668146, -1.0406963243282745, -0.6569133736731942, -0.04222721400296636, -0.5092676933884206, -0.017733281889402486, 0.7145010288958369, -1.886416290395638, 0.3789229918016174, -1.0427163233700716, -0.21012786733980326, 0.7321673524893435, -1.3455831194111678, -0.6899343398567079, -0.746900671774634, 0.06891627792498056, -1.5999234916159757, -2.6570009284647407, 1.2269623311301994, -0.3393920018127222, -1.2174915780515025, -0.14375665140058724, 0.1198233685151675, -0.16817416894101844, 0.8918953869418613, -1.1738495787314005, 0.42350597694696834, 0.345624146839921, 0.41324551260771003, 1.2259348082797852, -0.4006133377702219, -1.1861524109806387, 1.8419470016348507, -1.205282730645296, 1.285969420461811, -0.07777251388159456, -1.6020772090456807, 0.3939285497464361, -0.8839571379568427, 0.6134571672217566, 2.145600474527192, -1.1732138030901158, -0.7116003215248128, 0.7883850135223915, -0.6460510347083621, -0.26857721417771596, -0.03686599385121814, -0.6113260308726538, -1.4188634299538958, 0.8319571791235336, -0.5005750799537204, 0.2816590832829471, 0.27992705840133414, -1.279693349662581, -2.056521518520612, -0.22605891395752142, 0.2662798124930503, -0.21806851923253034, -0.7308970195534694, 1.1862212012435938, -0.1908722723305467, -0.8326414004528855, 0.15416300897095359, 0.8154835083627704, -1.1413966097475736, -0.8464750593994407, 0.35427471985589953, 1.11959486623679, -0.1896741355273105, -0.9029179801009622, -0.09975981976542697, 0.04751193785781069, 0.4270400461334354, 0.3327722990641673, -0.25865519186573077, -0.5249834203270723, 2.210439736747694, 1.4868281029978148, -0.055173290217659376, 0.6810743450616579, 1.1201918933301247, -3.006554288993701, 2.059144174793663, 1.1186289620559529, 1.430698428109793, -0.15362988691964707, -0.37365301936503936, 0.3580352337797304, -0.08898202166677846, -0.04184574231878968, 1.768180695052842, 0.529010595898417, -0.4277787273159136, 1.072779799946738, -0.9777473899734618, -0.5691266762647582, -0.07675520260662361, 0.9034819649637836, 0.6134635392208724, 1.340578397440634, 1.1794876620489507, 0.09751054604907994, -1.599082381325044, -1.0694045639152945, -1.0859337116392476, -0.07702898885737852, -1.2433770850780013, 0.647906551516251, -0.7704987217914406, -1.8198576057326572, 1.2166660826482707, -2.0341391270678466, 1.1577028935488611, 1.3467051811359683, -1.4754009779263195, 0.28965717028115695, 0.253367995055948, 0.3017589654698033, 0.4093233020640794, 2.395105830879792, 0.5968391120355252, -0.8286209784287213, -0.20999798156585636, 0.2990674470110154, -0.351107505928244, -1.3213446663248152, 0.174672941442942, 2.319515943125433, -0.9435139725261183, -1.0448653474976473, -0.05125846728609329, 0.9753528998319196, -1.1006264815623317, -1.2367946284127502, -0.22249046530218405, -1.9773297601118132, 0.34225060560384163, 0.9555695292075415, 0.18825276877207053, -0.9174810094974427, 0.09991249582171946, -0.4225000239880098, 0.11524717422189848, 0.18440781531826989, -0.11828193813013899, 1.035470462138381, -1.3053312045940983, -0.28157476932129866, -0.6086690458631697, -0.8771901234833885, -0.22709196206670046, 1.6169576813975972, -0.9151514250650393, 1.3521654126561744, 1.162329768395376, -0.15186886389729742, -1.1128192957099032, 0.6853049042075455, -2.331271489107596, 0.12264475023760779, -0.09935114347096108, -0.8658937467824297, 0.2284156526286557, 0.8521555433000494, -0.3145612567381806, -0.6144659777449295, 0.7336995491774299, 1.1215903977630028, 0.262044431542783, 1.2297204486939528, -0.12338473179134829, 1.267959991238679, 1.2162295464750723, -0.2503827072326186, -1.4277216368217807, 0.37566907757927126, 0.43827823128030763, -1.6952164850914233, -1.1662633069505683, 0.5866475753154837, -0.5595370802996311, -0.4799503768116724, 0.5273313985668381, 0.133794422371707, -0.7716899896675871, 1.5434461013017629, 1.4612393860405133, -0.41351290831204357, -0.18819431868394998, 0.816189626683514, 1.225928804061835, -0.41392634127405037, 0.7254134531553356, -1.718232382263107, 0.16743040012550425, -0.009862050889656415, -0.18015752660953144, -1.9188734755008867, 0.15558936239916765, 0.542088232691607, 0.46818654300957563, 2.5036981456621206, 0.9140652765274834, -0.7002834597310073, -0.08964602687572404, -1.8904372688370903, 0.9429055125066012, 0.5022579195182202, -0.7011567997621445, 0.8888383803158793, -0.24653079436808983, -1.480262394962551, 0.9518500561872016, 0.5140861361917465, 1.7585417217694377, -0.4671799833784402, 0.1475899442205577, 0.4315046118761682, 1.0433240610311065, -1.1455176027946896, 0.8713365426567107, 1.5613209506535701, -1.1300132240363154, -0.2526275679424248, -0.39018718087973525, -1.338413786507434, 0.3199793403666378, 0.05182580697801986, -1.1046072010145898, -0.0885908208254454, 1.3169795991780442, -1.1821561335389434, 0.3252537847685706, 0.11776220816408943, -1.5231181793240647, 0.9661827688758553, 1.6129558947302978, -0.8765087208263451, 1.1081125604886384, -0.01390987842512914, 0.4318226558888655, -0.1444372544659207, 0.0853910462447367, 0.5694228880048091, 0.8912570249888461, -0.8730736001882391, 0.06784462492839505, -0.51121206886136, 1.991772058340918, -0.9829212361554456, 0.031878995778895636, -0.31647515240014146, 1.215906518735066, 0.4552472846797292, 0.32037540214892524, 1.1384599323732791, -0.21454103714882594, -0.0843019069830635, 1.9824242488752644, 0.6363815704117448, -1.864784380723693, -0.3355052671526889, 1.4378316180763115, -0.5120503850659492, -1.86922415498511, -1.1735798773212305, 1.4698943180848538, 0.6137355887566595, -0.22511111487191116, 0.37370182123936263, 0.16305400919450577, -0.07928417282692546, 1.5081376628064342, 1.02825475291552, 0.7602787680807339, -0.699311054806479, 0.7685966522959577, -0.20019514924543447, -0.8676754131363211, 0.5300187453247076, 1.5484242329767337, -0.21980853878149018, 1.4744082700100973, 0.40491698457555025, -1.1768732004521203, -0.8915096046722768, -1.0990932540506462, -0.4878307134933998, 0.5523537104547096, -1.2426474416942592, -1.0330650249063151, 0.07549939002803671, -0.24306824359073054, -0.661810952087297, 0.9785186403492658, -0.5258432308744836, -1.156252825402607, -0.6304720815887063, 0.07777604371147606, 2.9022065937494554, 0.7768044211346533, -0.25713416871409367, 0.5494000386254752, -1.2052845311581932, 0.11036067711408581, -0.8384668798523833, -1.2913373750855723, -0.529756041281314, -0.4096939576129458, -0.8430334140836004, -0.9174235001155973, 0.16697182305886393, -0.11997170903028098, -0.1788396334445025, -0.08796603116454876, -0.7278945862105568, 0.47253953684982686, -0.4002402959532184, -1.468745281263262, 0.3959522571789568, 0.09419744931786747, 0.45086230255453996, -1.4166347916792712, 0.8872779120894343, 1.423816142696129, 0.050726705538497674, -0.3229564801866669, -0.6021675039981766, -0.2506501388440828, -0.3034778821671915, -0.3291390425845495, -0.6961521724484734, 0.531412788555841, 0.18120616170021714, -0.05609997933360525, 0.6893348019829002, 1.3265818986209028, -1.4865359770228928, -0.502405500220996, -0.8540960953217347, 0.8656044662161316, 0.6494742063690833, 0.29145269291250236, -0.11009219796008174, -0.8872437274145417, 0.06176043763125483, -1.9503601550240977, -0.8121055689982781, -0.6777906612391745, -1.131100347585105, -0.03322512720032528, -0.7297460002943991, 0.4704731963279936, -0.8414617923599965, -1.26996997648471, -0.8731764636934354, -1.322231355562891, -0.12613543408572503, -0.11913910758688495, 0.6549932006599634, 1.5144364265044339, -0.14684459753792983, -1.5921663628740472, 1.4742721486680728, -0.6123807844548157, 0.33370928613753903, -1.462588255678771, -0.3446256120340493, -0.5066993271725433, -0.298075159594009, 0.012580850890073991, -0.047717781450975494, -0.8958110393536494, -1.3541784352286461, 1.384846577891054, 0.8193904601320348, -0.25373877777476656, 0.7059270413107138, -1.091655511632057, 0.67679094133741, 0.49771326843375996, -0.35864939219945235, 0.5385510572687591, 0.7083870723262398, 0.4886448676590701, -1.3483595514090065, -2.0979943656631947, -0.0683735873646138, 1.665792725485281, 1.0810951271447402, -0.34205655155019227, -0.12933768210061514, -0.5018080525123261, 0.25998651063213096, -0.9143769789160252, -0.3902851894508049, -1.4398575942005287, -1.0434183586212964, 0.5468328445814801, 1.1829844388581283, 2.5911146513706345, 1.8413072720394608, -0.053125486147814205, -0.591107429473688, -0.08276586805612479, 0.6737670079937358, -1.4167481057006213, 0.03426781268089496, 1.7214690701407076, 1.2802336170756745, -1.312571758958599, -0.6848194680604616, -1.8075840715487965, -1.3198415939181822, 0.11640665594244637, -0.6811073373085328, -0.3329039465567172, -1.0087667213840492, 0.6591088095569049, -1.1068410069319905, -0.71747847005724, -0.872154133538858, -2.0879879803208947, 0.21530809869184664, 0.05429227437666978, -1.3246821324917242, 1.1456679667861787, -0.9703127492788893, 0.9980043528039847, 0.06720691643890153, -0.4710693591743491, -0.7987940986111938, 0.6399614466220112, 0.4386666150807308, -0.52685892878255, 0.626235790230252, 0.10120364155094852, 1.7622703509667668, 1.1439662859513444, -1.2677936474773603, -1.3260894185516001, -0.2550498681283092, -2.1265756010629784, 0.45180525716550246, -0.09654411062147783, -0.12764426810827276, 0.06715164429224285, -0.010815640373562974, 1.0579165695530177, 0.5747316493763226, 0.374457834397597, 0.22146850625853576, 1.0879868132404855, 0.47427954787017, 1.8385620669994163, 1.8058555541424972, -0.9370543137591169, -1.6159832685794306, 0.7875602783163688, 0.1240519958088101, -1.8259742021965948, 0.14039772603627076, -1.213525945822643, 1.3877040743831717, 0.19070763609232277, -0.7676668177279277, -0.26028823650540667, 1.0378007778130558, -1.1974443372055537, -1.4671202860043095, 0.7764815758324887, -0.7384062552159167, -0.11228257246669304, -0.21471533221043487, -0.5171778391984586, -0.21936329263166165, -0.9652555225903423, 0.44496845119289985, 1.0355224433579515, 0.6306285599088143, -1.1759745713630823, -1.5500861971142452, 0.9052446324695831, -0.5444410043454175, -0.7963884328452111, 2.305913747822006, -0.9857789745768271, 0.42985832440693184, -0.32984304451779234, 0.2192907114598199, 1.0668576875249252, 0.8951099613711062, 0.47955126199907594, 0.28058781328901816, 0.087355234377962, 0.41727011869041597, -1.0283423013728246, 1.1842298848797042, 0.5998521564869099, 0.3001727879571205, 0.8748176527611722, 1.3392791800311397, 1.330719825384655, -1.7577038264915252, -1.114443241422897, -0.2883736174863621, -0.2563229165991463, -2.2633502907507106, -0.017594902405752566, 0.33452508814131415, -1.4080989552511531, 1.6723141408445914, 0.09682337053085432, 1.969233952363747, 1.1211005560877911, -2.1618228485334683, -1.3542289956791018, -0.3319571162655406, -0.3673297087627084, -0.3077684835193245, 0.1430607292801442, -0.07715210096834046, 1.184776194286865, 0.9482719732941854, -0.36032397286529205, -0.48232050026844825, -0.36264113468622916, 0.12002059371904172, 0.0966235788428773, 1.4228881099476978, 0.5698818746789345, -2.523911209237326, -0.09720776416419419, 1.2508463945778585, 0.8125268509449886, 0.05134215481951769, -0.508745235993228, 0.32992937201891936, 1.437958844956384, 1.4265111255553586, 2.1122317199728124, -1.9900336379766723, 0.25800985697612616, 0.4897868833764398, -0.2718931958964861, -0.3797946481477855, 0.18044716242048642, 0.055373593278940314, 0.6783669191300161, 1.2752050649133793, 0.30728423595366405, -1.0249051723592022, -0.18186314501470102, 1.7165836717367764, 1.2341355791208408, -0.35933585481481767, 1.4770000758026065, -1.2395198731654524, -0.3130220969598944, 0.05510467773721857, 0.7027366329095224, -0.46381618213621406, 0.22419369504858055, -0.03065168664157758, -0.2347478417976412, 0.11279747569759753, -0.06773997882054361, -0.8824697874797827, 2.3749173752245905, -0.6294799049238102, 0.7097110925333087, -0.061975662069945425, 0.3934802517588487, 0.7295076109684759, 0.7329345199753821, 0.5517571296998873, 1.9156004135604325, -0.7841541825808676, -0.25017534863321567, -0.3803222128909747, -1.3947348122212557, 0.9567098978590471, 0.49155250418562946, 2.1131319468296743, 0.6544215733442725, 0.6241210469956218, 0.5559793600515585, -0.5526780805616178, 0.05372568951241119, -0.07158601925702707, 1.824770080635205, 3.8176986824911796, -0.56657031465045, -1.2516788180295084, 1.4310507397423367, -0.15081055089684053, 0.9197697394260329, 1.0927745707804424, 0.28282296845768495, -0.6149837671196114, 1.2909631151037513, -1.2182147215948038, -1.3657578523420608, 1.0553308669683528, -0.4176416168771875, 0.49973454217038027, -0.33453361182459407, -0.6973719497502535, -0.935703980093741, 0.3023557143034786, -0.7749957380426253, -1.1883323871777651, 0.7485671903205727, -0.8701599761774719, -0.7139990892209338, -2.3302385965791905, 1.1257549384691692, 0.5230457791144746, -1.7470478284362498, 1.6184901918911103, 0.1372710305377319, 1.2824222344819851, 1.3571046575807717, -0.04619744932030967, 0.9138725267207809, -1.378206556100091, -1.329062183578145, 2.136390565335723, 1.0035181149052343, 0.44787953243896234, 1.1940755137192145, 1.3077491497531533, -0.9480878673003519, -0.17723027003278324, -1.492916874982705, 1.293173154152041, -0.11605378766541619, 0.34432781117689415, 0.3382966519191404, 0.30729752815903066, 0.9439219715071623, -0.6660988236407404, 2.090800655747289, 0.32123558083142334, 0.6100217713338001, -1.557200920313292, 1.7869731930901933, -0.42453934625577616, 0.35457339233380414, 1.0132872206034862, 0.5475015446177216, 0.5273117159046097, 0.2169305890770043, 0.4579093087811089, -0.36075839010730015, 0.5494074294198076, -1.6476575449321162, -0.7114167543875075, -1.0257387092472685, 1.4427258015064222, -0.8623029122665253, 1.015101097353796, -0.10792473669774091, -1.3125266620218672, 1.1838306867900412, 0.5559692096817124, -0.8047013789753958, 0.35554451142549715, -1.4962432176351292, 0.2505250817732872, -0.24129672183418815, -1.416078444103662, -0.2959647644675387, -1.8482649522376933, 0.19017586191297808, 0.19136040292860923, 1.1969343943136486, -0.6965885909416336, 2.381439395709674, 0.32986825517060864, 0.2710603717659018, -0.11725628206680888, 0.45799940496789615, -0.3792188753421828, 0.31463732911862174, 0.0633672580665382, 1.5998486251679054, -1.9465517936033034, 0.219362457024404, 0.06536788144608074, -0.3450298070557154, 2.088353220205641, 0.6985347933746767, 0.16202705369953035, -1.1276104169320404, 0.4518379072293368, 0.7556834945309219, -0.1266993436360359, -1.090192723788134, -0.2619015794175007, 0.01907682778898734, 0.5015096186681758, 0.017492430341894516, 0.9658765503404677, -0.239198156671946, -0.0034596423593674652, -0.5791955659697, -0.9581577683995564, 0.8827884246350868, -1.1138354162692117, 1.1209250219375042, 0.9207482493648567, -1.2777715452197493, -1.382957010549404, -0.04466199196509554, 0.34947724777800365, 0.3897005922488508, 0.1934533765818499, 1.5385713784386046, -0.00908118608358044, -2.5361320752930068, -0.23735807841885403, 0.40419433693545687, 1.9190828270831901, 0.4983549954785209, -3.3191532793104965, -0.6191072274892637, -0.8041111869532145, 0.021097980008751627, 0.7859695924063823, -0.686466644702071, -0.07540541465318407, 0.9347230769516574, -0.9524323518200172, 1.7115674513531216, -0.8038691439456336, 0.6224245749257151, -0.1384416174319918, 0.4379809709665179, -0.16892261676259424, -0.29576377881779503, -1.216363466124057, 0.28775721013569333, -0.4743254787816929, -0.5228710616456512, 0.09924185875642377, 0.053587976644369095, 1.0580053853120808, -0.2921129132862176, -0.5491618545961928, -1.3127653951549614, 0.472402540751089, 0.04792742340593581, 0.22645002097084976, 0.40280806896422017, 0.8658108901352617, -1.2464907827524643, 1.0820685362709528, -2.7236235142246534, -0.8194625101842037, 0.7807046163379963, -0.8509441782614473, 0.6694136714516701, -1.9144483056228256, 0.32359673381379495, -0.8019751769793091, 0.03486386839963851, 0.16381285425043118, -0.4140955440628261, 1.2016035642471505, -0.7670394336671781, -0.7589085778115613, -1.7868851901314862, -1.469687860114352, 1.538215664503996, -0.532908583479862, 0.3037087683796662, -0.1893645134770292, -0.6863301843071451, -0.837408711691138, -1.3366536721555982, -0.4724891785956908, -0.4274747283506141, 0.008501196084997442, -0.851431681602133, -1.0633807847370158, -0.1474861403015244, -0.36223398412975905, -0.425021823721754, 0.5895477501374258, -0.477466013165079, 0.30201805907352586, -0.5287625011828048, -0.06401731521326054, 1.0378651889041366, -0.46616637230366537, -0.15305464225786414, 1.220116944387234, 0.7775762129144432, -0.49894763609976645, -0.4300819558356901, 0.6542769422983215] \n",
            "\n",
            "Dimensão: 1000, Caso: two\n",
            "  Gradiente:\n",
            "    Iterações: 17\n",
            "    Tempo: 0.026244 s\n",
            "    Ponto final: [-0.5471683145820243, 0.08402861393845429, -0.4670227557339881, -0.8117624242570096, 0.1467302220507355, -0.052930995216430105, 0.021838892716785296, 0.42884989290041414, 0.21374454107594987, -0.2664318912497997, 0.21122159058732715, -0.31375376505433783, 0.23785940193617744, 0.6168843719416255, -0.02373929297312294, -0.1697324127292814, 0.06560625298113307, -0.14838236085376488, -1.1881325911726415, -0.3223422338699188, 0.3700828455755363, -0.09018253051414393, 0.2935556801099569, 0.6313170775222242, -0.49636342002257927, -0.047620317212499375, 0.31612587523193536, -0.3571861222691279, -0.31470241509216484, -0.0057579750579431765, 0.263157172093598, 0.730811530574861, 0.11370918661533913, 0.11887969371133789, -0.7545153956220078, 0.0666460355614733, 0.7006891696944282, -0.8809499887682034, -0.7889489265993594, -0.009514232950393886, -0.005338050503782776, 0.1534360931098676, -0.0013668331994647342, 0.9217899135482226, 0.08569352592156787, 0.29371719284732123, 0.2463939364246981, 0.055923104288470804, 0.07372861090940391, -0.29427391496042676, 0.2529440456379868, -0.20877256188501736, 0.11128876936329514, 0.19967457233069041, -0.8200710302424082, 0.49917585624063454, -0.021116199945280467, -0.8100143342104411, 0.007278577569652556, -0.13131250707068487, 0.16010635866679546, -0.14790839044346665, 0.23697759027271342, 0.015744860361311314, -0.0769705222022945, 0.0785321960337616, 0.35572549645510987, 0.012401801068987972, -0.6213453727484555, 0.22451245449748433, 0.1044155863010757, -0.18497406432488467, 0.03450512538881789, -0.1355650411477181, -0.10600054880134482, 0.11288924135229672, -0.3154897474979971, -0.1504979331488967, -0.40171600014160036, -0.201060181495767, 0.15513427050782047, 0.011443601815516152, -0.5517621518995077, -0.2803508683791148, -0.44989048452327085, 0.010511556489894103, 0.13708668292761406, 0.1416351479367759, 0.4214412697033948, -0.031250828521221075, 0.023159474614781524, 0.18314157241393858, -0.44821302734010293, -0.4415638563190787, 0.08711244276056851, 0.37807907729634505, 0.15908817479304882, 0.2139452083815395, -0.3654620267298381, 0.09653257474401056, -0.4633396519347298, 1.0280636074857528, -0.2917695093250495, 0.7070659688055811, 0.598447455418423, -0.07266109980848706, -0.7139364818819288, -0.5855351301008822, 0.06701544815391952, -0.30174554433589873, 0.12960920900932912, -0.1393919441940857, -0.1614003430420325, -0.04385813097893285, 0.8318700348796353, -0.22710423923846587, 0.12151822246352763, 0.20596047214959262, -0.11600305446725567, -0.12197192967716819, 0.2245088119319809, 0.0147218292462592, 0.03210241992166174, 1.1722590105041402, -0.6548417798290176, 0.8905368710672152, 0.12977390330417382, 0.2326987531437309, 0.7166351143183398, 0.2487902025881581, -0.034074434099290674, -0.17528229086863711, 0.1652349642425689, -0.25400739383751103, 0.6042302336194865, 0.2359308289131965, 0.014405924819767713, 0.1482107324345443, -0.11949984200186131, -0.5420777011695338, 0.6448481288190243, -0.3226563026539361, 0.15616639150806888, -0.546058784852663, 0.65184663367531, -0.8498861901467127, -0.3643110449036643, -0.015567167284308514, 0.3179989442884526, -0.32414710483333764, -0.01769512821590298, 0.11947152859381838, 0.16415798719121177, -0.05143398077407113, -0.3436746420058938, -0.10627335854035791, 0.02142825811360649, 0.5942923258904249, -0.10170264818575502, -0.1325562009231258, -0.5229280190889551, 0.26125883023393154, 0.27619020268604755, 0.6681127735878556, 0.40749640929299424, -0.026796252620055694, -0.10628330533651097, -0.2687783735787438, 0.43052193349632173, 0.696197583365765, 0.07069587916613074, -0.2879655552626293, 0.07479613713707889, -0.49688441358580393, 0.09580655538397423, 0.24442761632953025, 0.9397947730137759, -0.42444380321708386, 0.04281823345556535, 0.1547546026477964, 0.13701411612942982, 0.24893353325359735, -0.020607962207373376, 0.22622998095767688, 0.15191586079690023, 0.37126452560779644, -0.059694845542803465, 0.666991728784338, -0.09348895481195946, -0.34339299085269803, 0.31574524260163983, -1.1564488534668458, -0.2473293253282154, -0.15936350572759572, -0.2709812838450778, -0.02745109315822125, 0.021380303492967406, -0.0645086750684567, -0.268673476544078, 0.05496735010102005, 0.5912567817975007, -0.1575270042910557, -1.1801450751554183, 0.14089860023992737, -0.3938445077562973, -0.04621307176677103, -0.001894148259331624, 0.3187983578787329, 0.022341350752904443, -0.048944125854556875, -0.3248416021729337, -0.7011608741661784, -0.007059978504319497, 0.3111062107096477, -0.18948717047019026, 0.277153978035358, -0.03580164983078743, -0.5299258775769969, -0.22660580394618562, -0.045700188399663666, -0.4425170660641563, 0.24309797468184335, -0.05546863657593548, -0.3862737949559957, -0.08126432814179274, 0.29207669123521596, 0.08358386499940174, -0.5128434942694402, 0.20513079298261855, 0.2283321985785418, 0.20700054607093232, -0.10277711871697091, 0.08878152401323613, -0.18022377958152824, -0.30914378477373883, -0.4802217715536208, -0.37101013369108105, -0.2535684401445654, 0.25371672307496707, -0.14574664795056003, 0.38181982700870226, 0.8377378239099216, -0.21967571461563395, -0.024043423514430007, -0.029204265822343645, 0.5154502041116038, 0.2427622727956641, -0.4706406044606698, 0.024552892813214267, -0.010460532545374934, -0.005315841382388498, -0.7100077448643158, 0.13047243922313065, -0.3591934939234752, -0.056306123776015404, -0.019987700853525525, 0.32913233289658334, -0.027830194962555288, -0.7303216929919074, -0.5938268845316228, 0.09916380103696991, -0.22713394845329327, -0.2941448209712183, 0.6210831716263077, 0.15923583081444592, -0.10560485564197264, 0.807363642897676, -0.42295977789292144, 0.42135248629554606, -0.25550901427284683, -0.23203468779443284, -0.3263583489371274, -0.09071461116087753, 0.08795361067609564, -0.13206794557170073, 0.24021647862575987, -0.06018063756994063, -0.061885336188360895, 0.29098354277420413, 0.2490928603250624, 0.1925046411788498, -0.30280659725285863, -0.3130628018684053, -0.059739080642934456, 0.16953079910815505, -0.07430283801319715, -0.11275282016878307, -0.03114457685656158, 0.006429489235396435, -0.28244498536238727, -0.5035103606286424, -0.2995976298077494, -0.4162322722641825, -0.1746024425662649, 0.31160540735313735, 0.0975078480392438, -0.18702439646608238, 0.3005490384048023, 0.13978183244563833, -0.028015865933033957, 0.3766767893841098, 0.46151212648445894, -0.8330260275987635, -0.026077351462289844, 0.5261179500567901, -0.398064634674669, -0.301947193437194, 0.03128863300795848, 0.2777434257560376, -1.0625211996433612, -0.22651780324534831, 0.2740032430972168, -0.35670462227095867, 0.08164290265410434, 0.013286329971505806, -0.5518383099786313, 0.11638616949630753, 0.22951768117274812, 0.4187919967116269, -0.06398513451026122, -0.7628628283782695, -0.15518152718736886, 0.29770776061723114, 0.18235591299105552, -0.8494067415237421, 0.5185624561116922, -0.10133075180621065, 0.015163869760250748, 0.034589775008937784, -0.2177712096930482, 0.22107290446811612, 0.003135863061407118, 0.5483399490717416, -1.0310838641070132, -0.0333266304161518, -0.018364462183383334, 0.41948452195185015, 0.2831478660636688, -0.02913446437747333, 0.3985611939888254, -0.16446106990549714, -0.02636261781637972, 0.13199941299236115, -0.08391301102528947, 0.9715452540259385, 0.05348977744219119, 0.4539166468859899, 0.028906946405541367, -0.028713856758687095, -0.19985785199159, -0.19765430210652601, 1.32568302858943, 0.1572717441740139, -0.17510730814893458, 0.17463365260156646, 0.6632774240815724, 0.021758883239505367, -0.07604451120312516, 0.07478213956361857, 0.4068782369329539, -0.32525509501507077, -0.37673981768832365, -0.832200584263985, 0.25546774035539166, -0.6331771640630321, -0.012277131867808766, 0.05749156309989467, 0.12820176884692203, 0.016654360016525538, -0.08692240199513845, 0.3835013308377142, 0.07301519328194539, -0.843699196823642, -0.16548334597341724, -0.254216069321907, -0.07611743894087075, -0.0857159964751073, -0.10516108581809125, 0.08632819334427466, -0.5835826599077452, 0.009642570324226829, 0.1282685344405925, -0.058570304223585445, 0.14767501871745858, 0.6917341995767335, -0.23907187128176965, 0.10142156846841655, 0.261531500717056, 0.004867237164785099, 0.25702450927624443, 0.19791992590503826, -0.2663727542014236, 4.346572762328749e-5, -0.4855411142453866, 0.6035329150769603, 0.22177789815921178, 0.09100752434986126, 0.4546198445074938, -0.1975620210763388, -0.04306847467073971, -0.13433429916021494, 0.10369376091037541, 0.23106395086358408, 0.15000817619979068, -0.20083614813841721, 0.07940746059961401, -0.43765861619275903, -0.1980839260537242, 0.5518446555415855, -0.051190356968510514, -0.11214854821908249, 0.04996687432813307, -0.03045797277420048, 0.28734028357459196, 0.0571100004311631, 0.28641137104671954, 0.3587159945275519, -0.10213360060934251, 0.019273113032185485, 0.17525967247875118, -0.17719389588491175, -0.32163621599060044, 0.0786586771028126, -0.4251614134809247, -0.5493770046302926, -0.28654858827389496, 0.7161617060289881, -0.24755737610227158, 0.2527767483866895, 0.08017786874436643, 0.19108488134662382, -0.4206456666718501, -0.2082928301774225, 0.23421254420448356, 0.9221552925159006, 0.43961607373730355, 0.010665596841769154, -0.5716232693961617, -0.12201349646725501, -0.15407792845673685, 0.46094740542124624, -0.43250976663316254, 0.7420502968149494, -0.6091886655019543, 0.9916982234741616, 0.2299342845682333, -0.35922103895435287, 0.48673540514502833, 0.1991920715221105, -0.15052988121153446, 0.09915622975712961, 0.13653445743669557, 0.012617663070063928, 0.1789585342587825, 0.017193202173205857, -0.08229205859783484, 0.15084104191956205, -0.28403148396267136, -0.04885016011312615, -0.5764220186507768, 0.1748058735810264, -0.826601453117809, 0.20215444656773007, 0.49380533596274523, 0.3928627838764665, -0.21169523812573143, 0.16536126305846166, 0.11613121305225516, -0.012856467893760493, -1.2806435410751642, -0.16458885636014342, 0.02661534101129099, -0.1119682879152859, -0.27787483236774857, -0.07150567811424713, -0.619499311148465, -0.1432729636410044, 0.09851718129050058, 0.8313623524190785, 0.368970876204329, 0.40064723494085447, 0.14890235130001273, -0.4835247396718434, 0.5148631467682498, -1.2911186873369918, 0.9489992743855196, -0.5166405757621959, -0.0004795336165503983, 0.07662365897508938, 0.07201028456636233, -0.24596748691676182, 0.08753345668915102, 0.031894731094592954, 0.11928802977774611, -0.06629768667044118, 0.33335935130015715, -0.15836301508458278, 0.4794078712673895, -0.18566600779253628, -0.007133538090204894, 0.454301952897614, 0.05848440599937413, -0.920618847085102, -0.2417501112362067, 0.15790145890793159, 0.12898924448007176, -0.11304406784846721, -0.4267549715268936, -0.7940154250621014, -0.00934465713382887, -0.4629685117070681, 0.0659815198902457, -0.16315157444476297, 0.5625946766257138, 0.15902384792417723, -0.07720030539529946, 0.07035311185728019, 0.019226524390921762, -0.1677996652859839, -0.015164317915855374, -0.011879499354224388, 0.26111906098951243, -0.3095246400762624, -0.09566934084115475, 0.21825794945303179, 0.7066426729695037, 0.3206514603515167, 0.7299426247040242, 0.17502993809699738, 0.27308999926128297, -0.03993612058901519, 0.15628650907542102, -0.2813008137954711, 0.12302069878000532, 0.40038804709814735, -0.06830724261050558, 0.595800598063008, -0.3079377390799891, -0.013257065955949443, -0.1851175014993136, 0.1922881093361224, 0.5489923366683227, 0.12361107240421665, -0.4423746894957965, 0.10409017760173062, -0.33003395856626516, -0.4039543007772495, -0.5448350611846658, 0.16206766595502775, -0.5228144981667804, 0.06777363033748252, -0.1969950383704746, -0.10652410407362595, -0.13523711580765063, -0.08403743106287687, 1.0055666361681515, -0.9093715500348134, 0.07332332072933201, 0.515518357725786, -0.2754990229569866, -0.4541814009375037, -0.1812371002683648, 0.5710384536483077, -0.10727195592140559, -0.21004847811502736, 0.5964045920913474, 0.39185477853965833, 0.41772568590333947, 0.3543364724627158, -0.16988401230063746, -0.6235600567260584, -0.315205590170766, -0.2887038180135261, -0.12134485478777451, 0.12043368165051904, 0.2013199476932186, 0.24707453438134364, -0.134877501289642, 0.06780237976429734, 0.0296941973460072, -0.09154047760078593, -0.06982826655122587, -0.13578553162947127, -0.1278858957646154, 0.24869416307108666, -0.25940491649116415, -0.2097244408001962, -1.319727637504342, 0.4519894184583919, 0.8422695152793427, -0.10710115584954857, 0.025024482502407852, 0.36249557101472807, -0.06910842864672156, -0.24301631511782246, 0.2697754095877437, -0.5632407939269028, -0.13267206090291828, -0.12159724009121675, 0.2777124563947617, 0.537015390096532, -0.11900651064579437, 0.21455295627793453, -0.22512888163625688, -0.19953916049875076, 0.2673156590218218, 0.27286351797166053, -0.11006610499500331, -0.25902907675654685, -0.13689631649081013, 0.24307513511905754, 0.2919286288844901, 0.5993345849344446, 0.25091494990536845, -0.055084293886920044, -0.12608408079421263, 0.0019398704042463688, 0.5166787069019279, -0.5128216762693238, 0.14241253248898522, 0.24911162466633033, -0.03534595915531025, -0.3146443908293279, 0.0780535668729343, 0.05656132392950325, -0.07062846369859, -0.20529436169722937, 0.17141553636491114, -0.14222134971649047, -0.08619125661770011, 0.368971714927109, -0.21370177616528602, -0.10521580057777524, 0.3440949467067918, -0.20043317129750005, 0.17672448644844346, -0.1020053368710033, 0.07625401445060842, -0.5936739481474212, 0.11847445622110642, -0.3113650580841141, 0.7962136803035293, 0.16564730289340046, 0.050403466373340367, 0.18261844436856406, -0.26212589516850215, 0.39436258620399905, 0.4598337623281572, 0.1455265046135387, -0.3754714804416557, -0.08529827953022806, 0.20316039866394608, -0.3123597386696151, -0.24559599344138938, -0.1489755601511209, 1.0817806020844158, 0.09483890533012362, 0.31169038214152833, -0.6751552721064047, 0.044160740261939835, 0.23519199580214956, 0.1609108027437609, -0.10990635860861442, -1.0638094544167238, 0.5801643501148289, -0.4337355817238657, 0.27401746783128245, -0.15323244387670104, -0.10625899810718542, -0.2715064620607629, 0.3850762396412166, -0.616921745489205, -0.18872980554588492, -0.19459055594911223, -0.3720263534897015, -0.009452972126682502, 0.17598821077368498, 0.14714441093080796, 0.2444069641865958, 0.2793966199269723, -0.3050576039309377, 0.33814495028559743, -0.4666707578670286, 0.11433591177107544, 0.04908398299051453, 0.2472567663977283, 0.6759270985929233, -0.2188971840330285, -0.06434085792842897, -0.3713575670871794, -0.26230436902962223, 0.042190978839391935, -0.40651056626612947, 0.008723118127490048, -0.14777127864880757, 0.44135271531120646, -0.054560785697037595, -0.37156612703965597, -0.07379389049256946, 0.07365250097749165, -0.3607932929095413, -0.08628836809852439, 0.2472011664134094, -0.011232535309862346, 0.10694287977933259, 0.1401018203097803, 0.5769928993004279, -0.1358420322810192, 0.022731355321301834, 0.02354558587229505, -0.3136215830676852, -0.06790057526315407, -0.38665713283418907, -0.018074299449419573, 0.29580434069539646, 0.008306159616156439, -0.09965915284407889, -0.58595392595679, -0.701276463631348, -0.1917933787184246, -0.08551399834822732, 0.6239984098785265, -0.4586757422644734, -0.4660151613243623, 0.12645938678315205, 0.12637494296615182, 0.2832853468776421, -0.15760915044335438, 0.09922621916709895, -0.18392885597219366, 0.03943961252370243, 0.3879733717993692, 0.6074483978007805, 0.372681932812164, -0.1651923363421473, 0.2137972447209769, 0.3566180709407565, -0.23796393521068743, 0.13603008421644763, 0.3934742687777899, 0.09016360024494716, 0.21065978778400068, -0.06069163965259572, 0.4158411469678577, -0.33888104862966584, 0.16767072811350225, -0.3452255944388385, 0.21216479778838782, 0.2161860849096472, 0.12334611462801226, -0.11677417820583669, 0.4810965638027166, -0.7773331151898377, -0.10654397164223262, 0.47696832892441354, 0.5899135311781458, 0.6770219515049323, -0.025850575744646553, 0.18624047065035032, -0.3255992169991441, -0.12390578692862664, -0.20574131735523693, -0.0630956643928765, -0.15138826405439143, -0.27285181842401807, -0.24005500046724393, 0.1549086041572183, -1.3826244414034594, -0.15176135541637287, 0.11811850935367052, -0.5385883445547002, 0.6898602988064149, -0.45700296976429156, -0.7547805021660163, -0.027432608455977947, 0.32014918953014126, 0.050600166421611026, -0.6910268022721126, 0.25487116833773726, -0.11450376522385819, 0.11353561048601309, 0.47325319924985554, -0.1454680113962888, 0.0925655919343615, 1.1202608810507093, -1.2009537516819897, 0.26830942897382887, -0.06782197684462266, -0.013099298190383912, -0.09466511774423814, -0.0889462632506186, 0.6916477749773136, 0.3235934151614261, -0.23744199924215992, 0.22699452776503504, -0.13149768621487035, -0.21657055225094757, -0.09463312120222123, -0.6179045223949325, 0.020578090433185037, -0.696276378003579, 1.2055913378730132, 0.2519965923864774, -0.048279360923793396, -0.6058306803526549, -1.0219856532412244, -0.6283439010414736, -0.06584008230863408, 0.05187321152024299, 0.09301431468333482, 0.014199694992431677, 0.3680525663762757, 0.17873605737923182, -0.073262395969244, -0.5439804335303424, 0.04134369485884182, 0.7248847232523689, -0.13327813675833544, -0.010823167084329066, 0.1302350911204777, 0.37274110521722476, -0.6022351752964066, -0.6285332629698149, 0.25222856140504657, -0.18592713800723548, 0.04425544653906266, 0.7325716957666453, 0.0073997575929437565, 0.37962268620169254, 0.06654636524196078, -0.48232178488371313, 0.1429821382875457, -0.05939419345323804, 0.4734845750100418, 0.9003823229503642, 0.05187640216592859, -0.5375709568261301, 0.5527360009755435, -0.12129896462340772, -0.159950727916999, 0.05764954463607053, 0.308881112971473, -0.06485720575302567, 0.7197763629066791, 0.08593290098962958, -0.24592938194309255, 0.24735976447332841, 0.38590246390153515, -0.4373274218275042, -0.7713686156470146, 0.19587969704071906, 0.25974341789749217, -0.03328079064437006, 0.14506564224416157, 0.12483769352959173, -0.30763385445469416, 0.26954337872875556, 0.9552116766184326, -0.06820319772290814, -0.24455600208912598, -0.07878206850513447, -0.05695801577225615, -0.28740118067778453, 0.16342466999567695, 0.03537858418744655, 0.24423569510597454, -0.2401030808001226, -0.7622991115554845, -0.673723092653799, -0.10896370913738607, -0.07395525296553507, -0.28784626765266497, 0.6579658703919113, -0.08633569437807309, -0.18673304553060432, -0.162395249743999, -0.015154378543693392, -0.3614453252654777, -0.31627132011834536, -0.037315801554062666, -0.3914878416255583, 0.4504700543216097, 0.05893886645746596, 0.1498673824140475, 0.3367433865020474, 0.2308997057460836, -0.6252250648897296, -0.49703540112614275, 0.16466558591511649, 0.16215693631664174, 0.2979821850279907, -0.2222474447807209, 0.432037269904724, -0.6894406891588493, -0.04928610180643689, -0.1244659210936388, 0.07111663454644224, 0.1880204450799594, 0.23085688325858905, -0.3022716241417276, 0.2545517140142608, 0.19274993349028402, 0.006263943357802448, -0.5085269419896008, -0.629004136067578, -0.05234976066748859, 0.19036450881252498, -0.61997093214892, -0.14565975010726517, -0.1594697847489886, -0.24194582841720141, 0.19488796684428, 0.0057629366933555914, -0.9841611070319758, 0.06553320564779952, 0.3677188515918128, 0.14504869591373903, -0.03988269220571672, 0.3983071379690743, -0.021305773100571912, -0.24811230297165943, -0.547481923701782, -0.38733692917307816, 0.09413288550484161, -0.40467163850452215, 0.1970068198934838, 0.13176673802310457, 0.15254105218425484, -0.49495254197672184, -0.9136772318687014, -0.009724082421947111, 0.2023312916565047, 0.07501106601683143, 0.011112174613747694, -0.3413113324214352, -0.18630669872181893, -0.10822035914531175, -0.30534665940377437, -0.1395368104692647, 0.0619382696590437, -0.27797707602644367, -0.4567214969231791, -1.065627558120493, -0.035779027290958616, -0.09399691925953624, -0.04010279174309178, -0.07535560562334809, -0.9427409388751399, 0.4457879244033174, 0.23886148033250287, -0.11360064142214876, -0.016684412416613004, -0.152450990929752, 0.7753328978915143, -0.7708951333043578, -0.09853912233104978, -0.127139789907315, -0.44172598803812735, -0.17531202351686453, 0.14759313904471405, -0.31912583807872974, -0.03865265526874628, -0.229638438221329, 0.09773312626917308, 0.3317733526799426, 0.24862910764866547, 0.17132352852401356, -0.14844135805153158, 0.23473984329857756, 0.4014363259547582, 0.013164310068927987, -0.37336856657407547, 0.008858142669530361, -0.5526539922596222, 0.48103813860084016, 0.08197316035475963, 0.08725192097340773, -0.17842673242081197, -0.09396285071119659, 0.5125488563512688, 0.48992378946850035, 0.1668903380732969, -0.31316159118541137, -0.09115718618130897, -0.9148033733025233, -0.0332494248796682, -0.06457669587386619, -0.36652414145579326, 0.5567281600400696, 0.09545460411433793, 0.45546499367281934, -0.01651441088009828, -0.9308745720365875, 0.29014780883616664, -0.0024259074194370456, 0.3982268095578315, -0.12443235460372581, -0.09043112716745938, 0.2706165175519495, -0.5219764979115762]\n",
            "  Newton:\n",
            "    Iterações: 1\n",
            "    Tempo: 0.037734 s\n",
            "    Ponto final: [-0.5471683145820243, 0.08402861393845429, -0.4670227557339881, -0.8117624242570096, 0.1467302220507355, -0.052930995216430105, 0.021838892716785296, 0.42884989290041414, 0.21374454107594987, -0.2664318912497997, 0.21122159058732715, -0.31375376505433783, 0.23785940193617744, 0.6168843719416255, -0.02373929297312294, -0.1697324127292814, 0.06560625298113307, -0.14838236085376488, -1.1881325911726415, -0.3223422338699188, 0.3700828455755363, -0.09018253051414393, 0.2935556801099569, 0.6313170775222242, -0.49636342002257927, -0.047620317212499375, 0.31612587523193536, -0.3571861222691279, -0.31470241509216484, -0.0057579750579431765, 0.263157172093598, 0.730811530574861, 0.11370918661533913, 0.11887969371133789, -0.7545153956220078, 0.0666460355614733, 0.7006891696944282, -0.8809499887682034, -0.7889489265993594, -0.009514232950393886, -0.005338050503782776, 0.1534360931098676, -0.0013668331994647342, 0.9217899135482226, 0.08569352592156787, 0.29371719284732123, 0.2463939364246981, 0.055923104288470804, 0.07372861090940391, -0.29427391496042676, 0.2529440456379868, -0.20877256188501736, 0.11128876936329514, 0.19967457233069041, -0.8200710302424082, 0.49917585624063454, -0.021116199945280467, -0.8100143342104411, 0.007278577569652556, -0.13131250707068487, 0.16010635866679546, -0.14790839044346665, 0.23697759027271342, 0.015744860361311314, -0.0769705222022945, 0.0785321960337616, 0.35572549645510987, 0.012401801068987972, -0.6213453727484555, 0.22451245449748433, 0.1044155863010757, -0.18497406432488467, 0.03450512538881789, -0.1355650411477181, -0.10600054880134482, 0.11288924135229672, -0.3154897474979971, -0.1504979331488967, -0.40171600014160036, -0.201060181495767, 0.15513427050782047, 0.011443601815516152, -0.5517621518995077, -0.2803508683791148, -0.44989048452327085, 0.010511556489894103, 0.13708668292761406, 0.1416351479367759, 0.4214412697033948, -0.031250828521221075, 0.023159474614781524, 0.18314157241393858, -0.44821302734010293, -0.4415638563190787, 0.08711244276056851, 0.37807907729634505, 0.15908817479304882, 0.2139452083815395, -0.3654620267298381, 0.09653257474401056, -0.4633396519347298, 1.0280636074857528, -0.2917695093250495, 0.7070659688055811, 0.598447455418423, -0.07266109980848706, -0.7139364818819288, -0.5855351301008822, 0.06701544815391952, -0.30174554433589873, 0.12960920900932912, -0.1393919441940857, -0.1614003430420325, -0.04385813097893285, 0.8318700348796353, -0.22710423923846587, 0.12151822246352763, 0.20596047214959262, -0.11600305446725567, -0.12197192967716819, 0.2245088119319809, 0.0147218292462592, 0.03210241992166174, 1.1722590105041402, -0.6548417798290176, 0.8905368710672152, 0.12977390330417382, 0.2326987531437309, 0.7166351143183398, 0.2487902025881581, -0.034074434099290674, -0.17528229086863711, 0.1652349642425689, -0.25400739383751103, 0.6042302336194865, 0.2359308289131965, 0.014405924819767713, 0.1482107324345443, -0.11949984200186131, -0.5420777011695338, 0.6448481288190243, -0.3226563026539361, 0.15616639150806888, -0.546058784852663, 0.65184663367531, -0.8498861901467127, -0.3643110449036643, -0.015567167284308514, 0.3179989442884526, -0.32414710483333764, -0.01769512821590298, 0.11947152859381838, 0.16415798719121177, -0.05143398077407113, -0.3436746420058938, -0.10627335854035791, 0.02142825811360649, 0.5942923258904249, -0.10170264818575502, -0.1325562009231258, -0.5229280190889551, 0.26125883023393154, 0.27619020268604755, 0.6681127735878556, 0.40749640929299424, -0.026796252620055694, -0.10628330533651097, -0.2687783735787438, 0.43052193349632173, 0.696197583365765, 0.07069587916613074, -0.2879655552626293, 0.07479613713707889, -0.49688441358580393, 0.09580655538397423, 0.24442761632953025, 0.9397947730137759, -0.42444380321708386, 0.04281823345556535, 0.1547546026477964, 0.13701411612942982, 0.24893353325359735, -0.020607962207373376, 0.22622998095767688, 0.15191586079690023, 0.37126452560779644, -0.059694845542803465, 0.666991728784338, -0.09348895481195946, -0.34339299085269803, 0.31574524260163983, -1.1564488534668458, -0.2473293253282154, -0.15936350572759572, -0.2709812838450778, -0.02745109315822125, 0.021380303492967406, -0.0645086750684567, -0.268673476544078, 0.05496735010102005, 0.5912567817975007, -0.1575270042910557, -1.1801450751554183, 0.14089860023992737, -0.3938445077562973, -0.04621307176677103, -0.001894148259331624, 0.3187983578787329, 0.022341350752904443, -0.048944125854556875, -0.3248416021729337, -0.7011608741661784, -0.007059978504319497, 0.3111062107096477, -0.18948717047019026, 0.277153978035358, -0.03580164983078743, -0.5299258775769969, -0.22660580394618562, -0.045700188399663666, -0.4425170660641563, 0.24309797468184335, -0.05546863657593548, -0.3862737949559957, -0.08126432814179274, 0.29207669123521596, 0.08358386499940174, -0.5128434942694402, 0.20513079298261855, 0.2283321985785418, 0.20700054607093232, -0.10277711871697091, 0.08878152401323613, -0.18022377958152824, -0.30914378477373883, -0.4802217715536208, -0.37101013369108105, -0.2535684401445654, 0.25371672307496707, -0.14574664795056003, 0.38181982700870226, 0.8377378239099216, -0.21967571461563395, -0.024043423514430007, -0.029204265822343645, 0.5154502041116038, 0.2427622727956641, -0.4706406044606698, 0.024552892813214267, -0.010460532545374934, -0.005315841382388498, -0.7100077448643158, 0.13047243922313065, -0.3591934939234752, -0.056306123776015404, -0.019987700853525525, 0.32913233289658334, -0.027830194962555288, -0.7303216929919074, -0.5938268845316228, 0.09916380103696991, -0.22713394845329327, -0.2941448209712183, 0.6210831716263077, 0.15923583081444592, -0.10560485564197264, 0.807363642897676, -0.42295977789292144, 0.42135248629554606, -0.25550901427284683, -0.23203468779443284, -0.3263583489371274, -0.09071461116087753, 0.08795361067609564, -0.13206794557170073, 0.24021647862575987, -0.06018063756994063, -0.061885336188360895, 0.29098354277420413, 0.2490928603250624, 0.1925046411788498, -0.30280659725285863, -0.3130628018684053, -0.059739080642934456, 0.16953079910815505, -0.07430283801319715, -0.11275282016878307, -0.03114457685656158, 0.006429489235396435, -0.28244498536238727, -0.5035103606286424, -0.2995976298077494, -0.4162322722641825, -0.1746024425662649, 0.31160540735313735, 0.0975078480392438, -0.18702439646608238, 0.3005490384048023, 0.13978183244563833, -0.028015865933033957, 0.3766767893841098, 0.46151212648445894, -0.8330260275987635, -0.026077351462289844, 0.5261179500567901, -0.398064634674669, -0.301947193437194, 0.03128863300795848, 0.2777434257560376, -1.0625211996433612, -0.22651780324534831, 0.2740032430972168, -0.35670462227095867, 0.08164290265410434, 0.013286329971505806, -0.5518383099786313, 0.11638616949630753, 0.22951768117274812, 0.4187919967116269, -0.06398513451026122, -0.7628628283782695, -0.15518152718736886, 0.29770776061723114, 0.18235591299105552, -0.8494067415237421, 0.5185624561116922, -0.10133075180621065, 0.015163869760250748, 0.034589775008937784, -0.2177712096930482, 0.22107290446811612, 0.003135863061407118, 0.5483399490717416, -1.0310838641070132, -0.0333266304161518, -0.018364462183383334, 0.41948452195185015, 0.2831478660636688, -0.02913446437747333, 0.3985611939888254, -0.16446106990549714, -0.02636261781637972, 0.13199941299236115, -0.08391301102528947, 0.9715452540259385, 0.05348977744219119, 0.4539166468859899, 0.028906946405541367, -0.028713856758687095, -0.19985785199159, -0.19765430210652601, 1.32568302858943, 0.1572717441740139, -0.17510730814893458, 0.17463365260156646, 0.6632774240815724, 0.021758883239505367, -0.07604451120312516, 0.07478213956361857, 0.4068782369329539, -0.32525509501507077, -0.37673981768832365, -0.832200584263985, 0.25546774035539166, -0.6331771640630321, -0.012277131867808766, 0.05749156309989467, 0.12820176884692203, 0.016654360016525538, -0.08692240199513845, 0.3835013308377142, 0.07301519328194539, -0.843699196823642, -0.16548334597341724, -0.254216069321907, -0.07611743894087075, -0.0857159964751073, -0.10516108581809125, 0.08632819334427466, -0.5835826599077452, 0.009642570324226829, 0.1282685344405925, -0.058570304223585445, 0.14767501871745858, 0.6917341995767335, -0.23907187128176965, 0.10142156846841655, 0.261531500717056, 0.004867237164785099, 0.25702450927624443, 0.19791992590503826, -0.2663727542014236, 4.346572762328749e-5, -0.4855411142453866, 0.6035329150769603, 0.22177789815921178, 0.09100752434986126, 0.4546198445074938, -0.1975620210763388, -0.04306847467073971, -0.13433429916021494, 0.10369376091037541, 0.23106395086358408, 0.15000817619979068, -0.20083614813841721, 0.07940746059961401, -0.43765861619275903, -0.1980839260537242, 0.5518446555415855, -0.051190356968510514, -0.11214854821908249, 0.04996687432813307, -0.03045797277420048, 0.28734028357459196, 0.0571100004311631, 0.28641137104671954, 0.3587159945275519, -0.10213360060934251, 0.019273113032185485, 0.17525967247875118, -0.17719389588491175, -0.32163621599060044, 0.0786586771028126, -0.4251614134809247, -0.5493770046302926, -0.28654858827389496, 0.7161617060289881, -0.24755737610227158, 0.2527767483866895, 0.08017786874436643, 0.19108488134662382, -0.4206456666718501, -0.2082928301774225, 0.23421254420448356, 0.9221552925159006, 0.43961607373730355, 0.010665596841769154, -0.5716232693961617, -0.12201349646725501, -0.15407792845673685, 0.46094740542124624, -0.43250976663316254, 0.7420502968149494, -0.6091886655019543, 0.9916982234741616, 0.2299342845682333, -0.35922103895435287, 0.48673540514502833, 0.1991920715221105, -0.15052988121153446, 0.09915622975712961, 0.13653445743669557, 0.012617663070063928, 0.1789585342587825, 0.017193202173205857, -0.08229205859783484, 0.15084104191956205, -0.28403148396267136, -0.04885016011312615, -0.5764220186507768, 0.1748058735810264, -0.826601453117809, 0.20215444656773007, 0.49380533596274523, 0.3928627838764665, -0.21169523812573143, 0.16536126305846166, 0.11613121305225516, -0.012856467893760493, -1.2806435410751642, -0.16458885636014342, 0.02661534101129099, -0.1119682879152859, -0.27787483236774857, -0.07150567811424713, -0.619499311148465, -0.1432729636410044, 0.09851718129050058, 0.8313623524190785, 0.368970876204329, 0.40064723494085447, 0.14890235130001273, -0.4835247396718434, 0.5148631467682498, -1.2911186873369918, 0.9489992743855196, -0.5166405757621959, -0.0004795336165503983, 0.07662365897508938, 0.07201028456636233, -0.24596748691676182, 0.08753345668915102, 0.031894731094592954, 0.11928802977774611, -0.06629768667044118, 0.33335935130015715, -0.15836301508458278, 0.4794078712673895, -0.18566600779253628, -0.007133538090204894, 0.454301952897614, 0.05848440599937413, -0.920618847085102, -0.2417501112362067, 0.15790145890793159, 0.12898924448007176, -0.11304406784846721, -0.4267549715268936, -0.7940154250621014, -0.00934465713382887, -0.4629685117070681, 0.0659815198902457, -0.16315157444476297, 0.5625946766257138, 0.15902384792417723, -0.07720030539529946, 0.07035311185728019, 0.019226524390921762, -0.1677996652859839, -0.015164317915855374, -0.011879499354224388, 0.26111906098951243, -0.3095246400762624, -0.09566934084115475, 0.21825794945303179, 0.7066426729695037, 0.3206514603515167, 0.7299426247040242, 0.17502993809699738, 0.27308999926128297, -0.03993612058901519, 0.15628650907542102, -0.2813008137954711, 0.12302069878000532, 0.40038804709814735, -0.06830724261050558, 0.595800598063008, -0.3079377390799891, -0.013257065955949443, -0.1851175014993136, 0.1922881093361224, 0.5489923366683227, 0.12361107240421665, -0.4423746894957965, 0.10409017760173062, -0.33003395856626516, -0.4039543007772495, -0.5448350611846658, 0.16206766595502775, -0.5228144981667804, 0.06777363033748252, -0.1969950383704746, -0.10652410407362595, -0.13523711580765063, -0.08403743106287687, 1.0055666361681515, -0.9093715500348134, 0.07332332072933201, 0.515518357725786, -0.2754990229569866, -0.4541814009375037, -0.1812371002683648, 0.5710384536483077, -0.10727195592140559, -0.21004847811502736, 0.5964045920913474, 0.39185477853965833, 0.41772568590333947, 0.3543364724627158, -0.16988401230063746, -0.6235600567260584, -0.315205590170766, -0.2887038180135261, -0.12134485478777451, 0.12043368165051904, 0.2013199476932186, 0.24707453438134364, -0.134877501289642, 0.06780237976429734, 0.0296941973460072, -0.09154047760078593, -0.06982826655122587, -0.13578553162947127, -0.1278858957646154, 0.24869416307108666, -0.25940491649116415, -0.2097244408001962, -1.319727637504342, 0.4519894184583919, 0.8422695152793427, -0.10710115584954857, 0.025024482502407852, 0.36249557101472807, -0.06910842864672156, -0.24301631511782246, 0.2697754095877437, -0.5632407939269028, -0.13267206090291828, -0.12159724009121675, 0.2777124563947617, 0.537015390096532, -0.11900651064579437, 0.21455295627793453, -0.22512888163625688, -0.19953916049875076, 0.2673156590218218, 0.27286351797166053, -0.11006610499500331, -0.25902907675654685, -0.13689631649081013, 0.24307513511905754, 0.2919286288844901, 0.5993345849344446, 0.25091494990536845, -0.055084293886920044, -0.12608408079421263, 0.0019398704042463688, 0.5166787069019279, -0.5128216762693238, 0.14241253248898522, 0.24911162466633033, -0.03534595915531025, -0.3146443908293279, 0.0780535668729343, 0.05656132392950325, -0.07062846369859, -0.20529436169722937, 0.17141553636491114, -0.14222134971649047, -0.08619125661770011, 0.368971714927109, -0.21370177616528602, -0.10521580057777524, 0.3440949467067918, -0.20043317129750005, 0.17672448644844346, -0.1020053368710033, 0.07625401445060842, -0.5936739481474212, 0.11847445622110642, -0.3113650580841141, 0.7962136803035293, 0.16564730289340046, 0.050403466373340367, 0.18261844436856406, -0.26212589516850215, 0.39436258620399905, 0.4598337623281572, 0.1455265046135387, -0.3754714804416557, -0.08529827953022806, 0.20316039866394608, -0.3123597386696151, -0.24559599344138938, -0.1489755601511209, 1.0817806020844158, 0.09483890533012362, 0.31169038214152833, -0.6751552721064047, 0.044160740261939835, 0.23519199580214956, 0.1609108027437609, -0.10990635860861442, -1.0638094544167238, 0.5801643501148289, -0.4337355817238657, 0.27401746783128245, -0.15323244387670104, -0.10625899810718542, -0.2715064620607629, 0.3850762396412166, -0.616921745489205, -0.18872980554588492, -0.19459055594911223, -0.3720263534897015, -0.009452972126682502, 0.17598821077368498, 0.14714441093080796, 0.2444069641865958, 0.2793966199269723, -0.3050576039309377, 0.33814495028559743, -0.4666707578670286, 0.11433591177107544, 0.04908398299051453, 0.2472567663977283, 0.6759270985929233, -0.2188971840330285, -0.06434085792842897, -0.3713575670871794, -0.26230436902962223, 0.042190978839391935, -0.40651056626612947, 0.008723118127490048, -0.14777127864880757, 0.44135271531120646, -0.054560785697037595, -0.37156612703965597, -0.07379389049256946, 0.07365250097749165, -0.3607932929095413, -0.08628836809852439, 0.2472011664134094, -0.011232535309862346, 0.10694287977933259, 0.1401018203097803, 0.5769928993004279, -0.1358420322810192, 0.022731355321301834, 0.02354558587229505, -0.3136215830676852, -0.06790057526315407, -0.38665713283418907, -0.018074299449419573, 0.29580434069539646, 0.008306159616156439, -0.09965915284407889, -0.58595392595679, -0.701276463631348, -0.1917933787184246, -0.08551399834822732, 0.6239984098785265, -0.4586757422644734, -0.4660151613243623, 0.12645938678315205, 0.12637494296615182, 0.2832853468776421, -0.15760915044335438, 0.09922621916709895, -0.18392885597219366, 0.03943961252370243, 0.3879733717993692, 0.6074483978007805, 0.372681932812164, -0.1651923363421473, 0.2137972447209769, 0.3566180709407565, -0.23796393521068743, 0.13603008421644763, 0.3934742687777899, 0.09016360024494716, 0.21065978778400068, -0.06069163965259572, 0.4158411469678577, -0.33888104862966584, 0.16767072811350225, -0.3452255944388385, 0.21216479778838782, 0.2161860849096472, 0.12334611462801226, -0.11677417820583669, 0.4810965638027166, -0.7773331151898377, -0.10654397164223262, 0.47696832892441354, 0.5899135311781458, 0.6770219515049323, -0.025850575744646553, 0.18624047065035032, -0.3255992169991441, -0.12390578692862664, -0.20574131735523693, -0.0630956643928765, -0.15138826405439143, -0.27285181842401807, -0.24005500046724393, 0.1549086041572183, -1.3826244414034594, -0.15176135541637287, 0.11811850935367052, -0.5385883445547002, 0.6898602988064149, -0.45700296976429156, -0.7547805021660163, -0.027432608455977947, 0.32014918953014126, 0.050600166421611026, -0.6910268022721126, 0.25487116833773726, -0.11450376522385819, 0.11353561048601309, 0.47325319924985554, -0.1454680113962888, 0.0925655919343615, 1.1202608810507093, -1.2009537516819897, 0.26830942897382887, -0.06782197684462266, -0.013099298190383912, -0.09466511774423814, -0.0889462632506186, 0.6916477749773136, 0.3235934151614261, -0.23744199924215992, 0.22699452776503504, -0.13149768621487035, -0.21657055225094757, -0.09463312120222123, -0.6179045223949325, 0.020578090433185037, -0.696276378003579, 1.2055913378730132, 0.2519965923864774, -0.048279360923793396, -0.6058306803526549, -1.0219856532412244, -0.6283439010414736, -0.06584008230863408, 0.05187321152024299, 0.09301431468333482, 0.014199694992431677, 0.3680525663762757, 0.17873605737923182, -0.073262395969244, -0.5439804335303424, 0.04134369485884182, 0.7248847232523689, -0.13327813675833544, -0.010823167084329066, 0.1302350911204777, 0.37274110521722476, -0.6022351752964066, -0.6285332629698149, 0.25222856140504657, -0.18592713800723548, 0.04425544653906266, 0.7325716957666453, 0.0073997575929437565, 0.37962268620169254, 0.06654636524196078, -0.48232178488371313, 0.1429821382875457, -0.05939419345323804, 0.4734845750100418, 0.9003823229503642, 0.05187640216592859, -0.5375709568261301, 0.5527360009755435, -0.12129896462340772, -0.159950727916999, 0.05764954463607053, 0.308881112971473, -0.06485720575302567, 0.7197763629066791, 0.08593290098962958, -0.24592938194309255, 0.24735976447332841, 0.38590246390153515, -0.4373274218275042, -0.7713686156470146, 0.19587969704071906, 0.25974341789749217, -0.03328079064437006, 0.14506564224416157, 0.12483769352959173, -0.30763385445469416, 0.26954337872875556, 0.9552116766184326, -0.06820319772290814, -0.24455600208912598, -0.07878206850513447, -0.05695801577225615, -0.28740118067778453, 0.16342466999567695, 0.03537858418744655, 0.24423569510597454, -0.2401030808001226, -0.7622991115554845, -0.673723092653799, -0.10896370913738607, -0.07395525296553507, -0.28784626765266497, 0.6579658703919113, -0.08633569437807309, -0.18673304553060432, -0.162395249743999, -0.015154378543693392, -0.3614453252654777, -0.31627132011834536, -0.037315801554062666, -0.3914878416255583, 0.4504700543216097, 0.05893886645746596, 0.1498673824140475, 0.3367433865020474, 0.2308997057460836, -0.6252250648897296, -0.49703540112614275, 0.16466558591511649, 0.16215693631664174, 0.2979821850279907, -0.2222474447807209, 0.432037269904724, -0.6894406891588493, -0.04928610180643689, -0.1244659210936388, 0.07111663454644224, 0.1880204450799594, 0.23085688325858905, -0.3022716241417276, 0.2545517140142608, 0.19274993349028402, 0.006263943357802448, -0.5085269419896008, -0.629004136067578, -0.05234976066748859, 0.19036450881252498, -0.61997093214892, -0.14565975010726517, -0.1594697847489886, -0.24194582841720141, 0.19488796684428, 0.0057629366933555914, -0.9841611070319758, 0.06553320564779952, 0.3677188515918128, 0.14504869591373903, -0.03988269220571672, 0.3983071379690743, -0.021305773100571912, -0.24811230297165943, -0.547481923701782, -0.38733692917307816, 0.09413288550484161, -0.40467163850452215, 0.1970068198934838, 0.13176673802310457, 0.15254105218425484, -0.49495254197672184, -0.9136772318687014, -0.009724082421947111, 0.2023312916565047, 0.07501106601683143, 0.011112174613747694, -0.3413113324214352, -0.18630669872181893, -0.10822035914531175, -0.30534665940377437, -0.1395368104692647, 0.0619382696590437, -0.27797707602644367, -0.4567214969231791, -1.065627558120493, -0.035779027290958616, -0.09399691925953624, -0.04010279174309178, -0.07535560562334809, -0.9427409388751399, 0.4457879244033174, 0.23886148033250287, -0.11360064142214876, -0.016684412416613004, -0.152450990929752, 0.7753328978915143, -0.7708951333043578, -0.09853912233104978, -0.127139789907315, -0.44172598803812735, -0.17531202351686453, 0.14759313904471405, -0.31912583807872974, -0.03865265526874628, -0.229638438221329, 0.09773312626917308, 0.3317733526799426, 0.24862910764866547, 0.17132352852401356, -0.14844135805153158, 0.23473984329857756, 0.4014363259547582, 0.013164310068927987, -0.37336856657407547, 0.008858142669530361, -0.5526539922596222, 0.48103813860084016, 0.08197316035475963, 0.08725192097340773, -0.17842673242081197, -0.09396285071119659, 0.5125488563512688, 0.48992378946850035, 0.1668903380732969, -0.31316159118541137, -0.09115718618130897, -0.9148033733025233, -0.0332494248796682, -0.06457669587386619, -0.36652414145579326, 0.5567281600400696, 0.09545460411433793, 0.45546499367281934, -0.01651441088009828, -0.9308745720365875, 0.29014780883616664, -0.0024259074194370456, 0.3982268095578315, -0.12443235460372581, -0.09043112716745938, 0.2706165175519495, -0.5219764979115762] \n",
            "\n",
            "Dimensão: 1000, Caso: spread\n",
            "  Gradiente:\n",
            "    Iterações: 7453\n",
            "    Tempo: 9.62597 s\n",
            "    Ponto final: [-0.01018857049420041, -0.0008669575845611788, 0.0016052912348643034, -0.0025054952554276477, 0.0003995701749799352, -0.0016888150675158364, 0.004586667963719648, 0.0031088233863948156, -0.0023359156803621772, -0.013414935368689707, 0.004503956626366601, 0.0032696146736368448, 0.00497544089087254, -7.566234234324121e-5, -0.003430270333133839, -0.0008885146215091844, 0.01062958271977732, 0.004218859552277299, 0.004519807106019014, -0.0022613953290678834, -0.002713442161425106, 0.007624072082344321, 0.001166733916856899, 0.02897260607188623, 0.00033710749515414307, -0.0237802056493992, 0.00011584389048735488, -0.005271294238452406, 0.0074722500821939875, -0.001073528508835464, 0.0011435336086667303, 0.002522829302414542, -0.0016035856983567243, -0.002951345014130524, 0.0037970855584788382, -0.0002719736159513264, 0.0026102131879267125, 0.0004267587598618672, 0.0027271207346604154, -0.0005317166652922811, -0.008780385390168788, -0.00239875997360528, -0.0015269100557946946, 0.0014691072421630924, 0.009747511587283375, 0.002167413748335567, 0.006543864335395877, 6.761898113927245e-5, -0.00390637529887794, 0.004093434350328051, 0.025491585018506013, 0.0002461906669982139, 0.0017503373486827956, 0.0010281639696778644, -0.0014636400153668072, 0.00287363530110496, -0.0017981597920408987, 0.007201727632553667, -0.0004225654707773474, -0.0018330954819083534, -0.0042685004303535945, -0.002794243177341449, 0.0006908519834885052, -0.003500159026709193, -0.0024634657164108453, 0.002395537156513694, 0.00038008101227615665, -0.007401768241854789, -0.00496269520568593, 0.004872769083551498, -0.004390235128919562, 0.004246381101622676, -0.0051618538477305465, 0.0006750008021820797, -0.012624663081128307, 0.009879643668857074, 0.0029119538177337922, 0.0036099945470827732, 0.006473907337659401, 0.002719358674097283, 0.001111387701801858, -0.009141158353500156, -0.0041130687047461895, 0.003000523462045601, -0.00048003037364341417, 2.402270877634875, 0.0049763500895931845, 0.0015068308956205333, -0.001090023338526258, 0.0005290220548055391, 0.004658744970561957, -0.0016843112158240192, 0.0007194672502376515, -0.003429195651561745, -0.1879819421129742, -0.00535238202191235, -0.002454736379775113, 0.0006280480361091634, 0.0002951441678201716, -0.0016060810721048036, -0.001904176268384461, 0.003432849944300931, -0.0031170744033923725, -0.002333540560273628, 0.0009803507416599189, -0.007889981812609692, -0.00022854172909152204, 0.0016989334555961577, -0.0015715461642251266, 0.0018403125729999914, 0.001473156415782828, -0.012626543852118144, -0.007343494801482553, -0.0020139365197130443, 0.004992009365685335, 0.0006217430636459298, -0.007120132856427597, -0.0031816032489546675, 0.0003700877373877809, -0.0013397065605151859, -0.0035626801746939663, -0.008076416378929197, -0.001306967618324384, -9.590429994799088e-5, 0.0011452256367903146, -0.008847603541347171, 0.009605392686635517, -0.0017974705471380803, -0.0070858495328055965, 0.001350917644490801, -0.0010417665573621004, -0.032249462360467884, -0.0015410231670673902, -0.0029750619836039494, 0.006813462421091376, 0.001655655600859951, -0.001255415293870965, -0.0002602546943786255, -0.0002537423897854274, -0.004004075702570553, -0.005423990059611805, -0.0012272762633693812, -0.006114412156390303, 0.001166247302555934, 0.010602309973281043, 0.0015982523536489657, -0.0005514298235810289, -0.001056620802217953, -0.0504314136422645, -0.006832074988752546, 0.0008523371805835289, 0.0036549835482954096, 0.0032893202297830104, 0.0032932413080857814, -0.002157666298274852, -0.00784696246183525, 0.0027393491331804687, -0.013067505627878812, 0.0029259794431608643, -0.0023613805952122924, 0.012814494263015286, 0.006637013215804233, 0.0010183762817422837, -0.004645667932468234, -4.7145295737904824e-5, 0.004493703541305183, -0.001354351655927566, 0.007289804041159975, -0.0025539955883271404, 0.006828886165540338, -4.801984435563733e-5, -0.01264759380498015, -0.002925351810098592, 0.0009914276408624634, -0.0007601406976665004, 0.00042588091147748725, 0.004071052873915626, 0.0033182396223978006, 0.0029418409607688822, 0.0008936856572294705, 0.0004722360545446058, 0.002787249492519628, 0.005853052269768233, -0.0027503208110148947, -0.0018177476917968782, -0.0016491593003831184, 0.005718890656757125, 0.0024339593347961763, 0.005654829030755537, 0.0026376232253019216, -0.0009560463800248886, 0.0034304637833820206, 0.0015497469010518142, 0.0026252513144104928, -0.001472468343864386, 0.0030104750177990525, 0.19239185556729843, -0.010028025046123434, 0.002557131522009537, -0.002509045381793751, -0.002652319255320279, -0.0009357475108935087, -0.0033055830301613742, 0.0030858188329431213, 0.007569650981454533, 0.0045151657678728085, -0.008711043351800674, -0.005881236402179295, 0.0005721047386640921, 0.0022567766178203524, -0.0073990807116348645, 0.010358181135194378, -0.0016476695981032519, -0.0008289011124365531, 0.012812116244295346, 0.0035392823954534247, 0.003620725537556324, 0.0013867532556677276, 0.0035715290665579436, 0.001366571502220415, 0.000910848755121707, 0.0013248809340378198, -0.0023866097344300563, 0.0010317907219429268, 0.0040080404466285025, 0.005536209508506529, 0.00402719795467734, -0.020093331688544547, 0.0035260277865921674, 0.003459784257716425, -0.003548627822595433, 0.003709905307481165, 0.011933519833165485, -0.001615622838056413, 0.007266617631751182, 0.00451840826802663, -0.0038647216839129417, 0.0015638804332544776, -0.006789964128423476, 0.008317412285898662, -0.0016641441906074528, -0.005993115566085654, -6.695637399906085e-5, -0.0036921841277590683, 0.002621908348587887, -0.004100309582306838, 0.0029857713231088287, 0.0028037400011999836, 0.00034544881297537966, 0.0005543258084268476, 0.0015715691772102414, -0.004946673969043802, 0.006028717758898461, 0.0013020379779469238, -0.006161601757799451, 0.00256445853342524, -0.005394359568266616, -0.006524579986691925, 0.003977639347057554, -0.0028157341615986375, -0.002697131070088399, -0.001787422832050467, -6.178489049180058e-5, -0.005513894215564058, -0.0017234979901815661, -0.0020383189561142823, 0.0020326845006637395, -0.012836398494535883, -0.012856956217206505, -0.014553010964366786, -0.002567908504492844, 0.001970260504810417, -0.0047705941307836786, 0.00049512448601996, 0.0002628039529180559, -0.0017592221152469278, 0.0012787806354346287, 0.00440631994435392, 0.0005745260181270195, -0.0018161386011867897, -0.006781054123384034, 0.008648294110104704, -0.00048152335709805705, -0.0014507093402678084, 0.002081156254955613, 0.004327766415436862, -0.011868385758565497, -0.008699633025876619, 0.007031460452617377, -0.002702980428789914, -0.00020842792435993296, -0.012894338934004324, -0.007549105206988094, 0.0019678497514153473, -0.003117539741113895, 0.0059253596317694335, -0.008795505355434552, -0.0014440935386160758, 0.0002576911601892551, -0.009961668002950008, 0.03536214796247705, 0.002268850238049236, 0.00023925784058109745, 0.009138928717201122, -0.0004819444308274967, 0.005711107199529941, 0.046279082281200035, 0.0125343030137397, -0.0013751830889359162, 0.0014664624498872403, 0.0050019782736545615, -0.004940185608024783, -0.004309192763429989, 0.01742988778280996, -0.0010099958723646107, -0.00352555977079394, 0.006359874229497464, 0.0018726056850453254, -0.006615557319860077, 0.02732934716342189, 0.0009296851542459211, 0.005289463075364749, -0.00020004127277389872, 0.004359905835439104, 0.002579326573942109, -0.0028770126297776033, -0.012903883909912484, -0.007815429988180522, -0.026339457993715953, 0.001159083639074035, -0.005704108985446488, -0.02944219324991333, 0.0010824606620328386, 0.01681522648481247, -0.021981313516440504, -0.003228791841829004, -0.0065809033477584045, 0.007012000117514322, -0.006190257861548282, 0.005308842361521113, 0.0015273938459947067, 0.005284424936727733, 0.008400287501458603, -0.0032795728824028814, -0.000606499548809647, -0.0012144607993491707, -0.0028190893960273467, 0.007420103215865836, -0.0020122818993333347, 0.003156074090688854, -0.002486899670257614, 0.009960113477225363, -0.003729827240683825, -0.0002055061029344607, 0.007206653455612888, 0.0013784046755718204, -0.0052832161671048095, 0.0043605647491822275, -0.0042977432892654654, -0.0016099412946996017, 0.00037958597954002027, -0.004953218537507187, 0.006017984803927234, 0.015413898068011411, -0.0014184252182704027, 0.0033684987003377576, 0.0023164251667397995, 0.007374371111728277, 0.00012603370007832626, 0.001942461717941324, 0.055762333545320564, -0.0019334470358987055, -0.0014904375338502807, 0.006068052714226058, 0.006680134961756012, 0.00514945245609888, 0.005410155174495612, 0.011639983992847602, -0.0016956140336255032, -0.007647317077524196, 0.00025188568445755344, -0.00025367178853608063, -0.003288109037024478, 0.004768616806729131, 0.0053380369265979555, -0.0021310445865382888, 0.005209118488674336, -0.003156853193004794, 0.003832744757840345, -0.0050291186118540665, -0.004911021823458039, -0.005529159393605099, -0.00600258778236018, 0.0005553140957845759, -0.0059200078784164, 0.007877293268279129, 0.043946644528547685, -0.005315943591429839, -0.011328066056702224, -0.00144753372805706, 0.0015372146220482552, -0.0019321096520825698, -0.0011286438871018767, 0.011952516709040295, -0.0007847304307742053, -0.0037108708555435577, 0.01528953265533195, -0.0012739434506686131, 0.007908367016627782, -0.0003167349428266353, -0.005179944559425831, -0.006117105135781287, 0.0034032785120683418, -0.003672963845748667, -0.0009372018916294911, 0.0008017753799443028, 0.010569512208902732, 0.03983019924791531, 0.014942226509357504, 0.004439746338653405, 0.002884245839598565, 0.004074281636943955, 0.0019457800559399274, 0.006009555332632088, -0.003961611316478986, -0.0016015751017303126, -0.01260492326216578, -0.0030452443244882443, 0.0046398078451082014, -0.0007532812937549593, 0.006066657926533159, -5.577728538165572e-5, -0.0031945988987357454, -0.00250909250431286, 0.007239724762359921, 0.00328867337978192, 0.0027992386523139623, 0.003119562946355098, -0.0023111146236380886, -0.0019047043591710056, -0.0006284526297489212, 0.00454592708155005, -0.004247637378660296, -0.004923269010839615, -0.00157176884747956, -0.0018521277296247307, -0.003402174178768147, -0.00022078531091329623, 0.00441801412674081, 0.012322579209665452, -0.002768586538376222, -0.008643780518722277, -0.00230739012277148, 0.013940637342762185, 0.00813905885469346, -0.002857627571719208, 0.09424530496167383, 0.004054208198220222, 0.0029474689928191966, 0.0038027099911107642, 0.007058401671788839, 0.005785264112023736, -0.22095838275684274, -0.003488260478365257, -0.004013740239684482, -4.731592643025806e-5, 5.87210411191752e-5, 0.053977802443107015, 0.000959476680552962, 0.00426938718037545, -0.0002817561783450273, 0.00104781785778163, 0.0008870042163349745, -0.004848326296565897, -0.038731007405714224, 0.008752921007803532, 0.00044918056920856264, -0.000395212167507486, -0.0024766224340247306, 0.006776713624802477, 0.00291792893158227, 0.0095294567198565, -0.015436332000324238, 0.0008544537723833567, -0.0070287049149055925, 0.0036293625787754413, 0.0014126803541825161, -0.0031440434426386332, 0.01396060945003369, -0.00243204196884933, -0.004879315704688247, 0.0011501411800014516, 0.000460808293988757, 0.006096349585191452, -0.0015141361909143392, 0.003396465262420767, -0.006593288934307773, -0.00709852253618426, -0.0019207369771541138, -0.0003431960357364039, -0.0022672365122131666, 0.012073656100238528, 0.0025220579347355887, -0.006886908896158506, -0.0058926199969981385, -3.4672795866885764e-5, -0.01261735885441706, -0.010035511788035745, 0.004996262136729213, -0.0026775617862686563, -0.004741997388542085, -0.001980513894929814, -0.0013396983221029002, 0.009999877829597992, 0.005645653187725891, 0.003107865304705762, 0.012672277704362633, -0.013431429358584435, -0.006494053185324283, 0.003896569985719134, 0.004578715694433258, 0.0024907634996751415, 0.007848436374541023, 0.004153597324665248, -0.0007775097725661873, -0.0018578596951348558, 0.006256560674046119, -0.003110291131520393, -0.00257773663952926, -0.008327027247337582, 0.0038007351880602336, 0.007891087651911599, -0.007195890525635074, 0.006081678360894571, 0.0012081519713162958, 0.007103704811741274, -2.4152573798064125e-5, -0.009129139805182485, -0.0058412255381872225, 0.0033511233160163287, -0.0028967451475224726, 0.00034462009465452415, -0.00028944661751473255, -0.008524572320917856, 0.004856752599676772, 0.004520299888659041, -0.0012073557803670143, 0.005026130849930421, 0.005099517451477853, -0.009173382867027957, 0.003404612515974015, 0.00439338518219079, 0.0006286508910715582, -0.005427752795335361, 0.002996958072693845, -0.01570842093177488, 0.004999724711097775, 0.008925015686534254, -0.0011916032086132233, -0.0021675389781379284, 0.0023713496205350904, -0.009033204530690675, 0.007651705965782352, 0.008126304389081906, -0.0108699187425767, 0.004415627235737685, -0.017799259457506267, 0.0011889309137416149, 0.0018276240450767478, -0.005920407933946659, -0.09588287428469877, -0.0012941030692836808, 0.0006121230868330052, 0.0015560596081454214, -0.0001510811831976766, -0.010482399893760874, -0.0022633046750736296, -0.00011499286999372416, 0.004289161740179015, 0.010116560820749854, -0.0035075971002616613, 0.01953206349296921, 0.007957255385555806, 0.0021999993939680884, -0.00541904197058618, -0.00887622452955189, 3.7498657852852446e-5, 0.004828102951774271, 0.0014685829737761946, 0.007682980969188291, 0.002084986531488142, 0.0018961474007113122, 4.524969456198846e-5, -0.004942709639535628, -0.009046049176878013, 0.0029833950305361546, -0.009696496266721422, -0.002892368184415961, -0.23731408691437983, 0.0014038357680918878, 0.0005637174001575929, -0.018401525563551575, 0.0052788441953465215, 0.002556413833691984, -0.005020727797859115, 0.005357266218592657, 0.000797672091448931, 0.000361238508182371, 0.0014036085292467027, 0.007278851115530838, 0.007445607740244942, 0.01170788522268007, -0.006295870846179108, 0.3296826508936916, 0.0012428662456224204, -0.0007134060073276105, -0.003726934914537239, 0.0057994425199277, 0.023872646925355734, 0.0014525686201463453, -0.001132167667333539, 0.00027768618761075947, 0.0013941849244484272, -0.005664514090436001, -0.0031321309482305604, 0.0006908508617331499, -0.009317732924665811, 0.00764923116452626, -0.01620084012025729, -0.00384382326683453, -0.003062239766978919, -0.0025219653791248575, 0.01285285236122291, -0.003296262111770254, 0.002359170670199251, 0.004283492260039545, -0.001122068655255326, -0.013571410106468562, -0.0045437934916687794, -0.0007084732472278921, 0.005788806315819198, 0.0016769317068086043, -0.0030241210386057205, -0.0008125790916853615, -0.0019325639354804691, 0.011654634168747569, 0.0018270374916379284, -0.0031424720230917025, -0.0015215152912024799, -0.043198860011275375, -0.012114285206408892, -0.009725909177050351, 0.000998447634642019, 0.005466733904977095, -0.0003255213698978854, 0.002951102722567489, -0.0019703879423267345, 0.0010002147226733094, -0.0010344520507350463, -0.006346134479038534, -0.009833703965611784, 0.0018924890636184966, 0.004269383376010849, 0.004807490871649667, -0.006701559157363701, -0.0072782341940407225, -0.0022747939695770825, -0.03597019641138634, 0.0029699426401613715, 0.006636089504747256, 0.005604032396200331, -0.0038966505717607514, -0.04327578814934269, -0.005449231057490622, -0.0008890506628196904, -0.00405703466193974, 0.0024338173279833397, 0.0016420584264795757, 0.0010560853639283163, 0.0028711251014886807, 0.00041141391830312735, -0.0007579771102412813, -0.009310302408309913, 0.00914714618259238, 0.003931464099693804, -0.005815643212517874, -0.002247852714667875, 0.01062664146899639, 0.004064901201295212, -0.13914725779741222, 0.012004076434604105, 0.035427402672916664, -0.006159378206636534, -0.006893105716020975, 0.00011205444765183259, -0.0016737766747233485, 0.007669556995451909, -0.002354332789266278, -0.008378063800808189, -0.0029703984019132657, 0.001747661199316658, -0.0018995894667043212, 0.007651660019178164, 0.003356799033591318, 0.0010306338373631818, 0.001425014219860802, 0.0017851224730963677, 0.0006751840763024042, -0.005296669541873834, 0.0009088282393313607, 0.005156335050909178, -0.0018966054154082868, -0.006847593005765484, 0.0018690205521449954, 0.006142183583272648, 0.0031902131433036995, 0.0013296584248330134, -0.0056356597441502565, 0.0018718739950180918, -0.007382156939584661, 0.002706388091651857, 0.001974657322746931, -0.009439710762025655, 0.0017589189420952334, -0.003968673403074385, -0.004032621968168615, 0.0022886145467784225, -0.0038464372991219194, -0.020505322956965333, -0.00172392369380292, 0.000288046533648334, -0.004723568124797239, 0.005968934675770754, -0.0014218578139366667, 0.0161763932503102, 0.00042987715321785025, 0.0026957190939616016, 0.0017851744021144533, -0.0054988104363209445, -0.008577196158420064, -0.005602785080704539, -0.0037600231298897946, 0.001588653426823683, 0.000566811051580296, 0.002562432896393435, -0.002620115522827038, 0.21654334286844912, 0.0006426716314959502, 0.00457025672007319, 0.007310363010436083, -0.0037419249244232122, 0.003838190416668885, 0.0011264348327293394, 0.0007851632875286452, 0.00513774100493164, 0.00789262417005765, 0.0073224686597953, 0.0038314315532215204, 0.0070607271892502155, -0.005983241599448241, -0.005582280142595875, -0.0005803481888357886, -0.005904478347939057, -7.912765468286176e-5, -0.006205504537382889, -0.004096562914495477, 0.0031653392387007706, 0.00736031277306326, -0.00166434458257525, -0.009967908998033514, 0.000284701570729351, 0.0009258119802355025, 0.0004886321856352183, 0.00259008935956917, 0.00941110823379554, 0.004583347559747986, -0.004216476356851462, 3.815149847485877e-5, -0.006573362792155479, -0.004799542682439872, -0.010775827084207767, -0.006474133946597238, -0.005154298102127308, -0.0016699059131141114, -0.006245564193328557, -0.13516685287653402, -0.004805685626225742, 0.004880846436466746, 0.00227971363658952, 0.007886282896569563, 0.0012443019424241974, -0.008344980645446864, 0.00017718406448574697, -0.0014402767158355756, -0.002563604869446845, 0.0036806608599743162, 0.00041239740049570095, 0.004044450341146658, 0.0009151204004769209, 0.0063312620699728095, -0.003840248777776889, 0.0006936504611794181, 0.013693293137025997, 0.01945492177814412, 0.0014211286715577476, -0.004222250760383295, -0.0007362068585774484, -0.004611971627030236, -0.011577625711764794, -0.019950438906886303, 0.0016091720784843222, -0.006854461429784298, -0.003927353333316175, 0.008049727074129598, -0.00924269565865693, 0.0016333693157801754, 0.00682647974387135, 0.016691660699502897, -0.004206520536391756, -0.0029578064838885754, 0.006762446821392376, -0.0026174279342807694, -0.008818292639894532, 0.0011215070072831956, 0.0034130687705227203, 0.005299215736720042, -4.9903066353662595e-6, 0.0036231578058927294, -0.007539504447275469, -0.0009536096316866693, 0.0006817791429876152, -0.005461130720385121, 0.0004058323683264753, -0.010940541255618164, 0.000250813161273733, 0.01685387271897343, 0.044092004342391244, 0.002874108816539933, 0.0018226820026532309, -0.006548875091694661, -0.004754474166245526, 0.001207772014852171, -0.004652636686130418, 0.0033806374177309806, 0.0027710872443864054, 0.00613370324346274, -0.014205309176517855, 0.003628150265800434, -0.004579717158806562, 0.0007849774489150363, 0.0060396849338375524, 0.00404606150833986, -0.0029302319157046286, -0.0014514887699121903, -0.004039798234862446, 0.0044461143207741305, -0.004496130371732354, 0.00515885464026522, 0.006556028471640829, 0.007306971138280438, 0.0027508350322233976, 0.0014399758089777004, 0.002219782918037261, -0.01796663617814849, -0.001807274946067583, 0.008058221814116084, 0.002739077111453825, -0.012412545380468765, 0.005961407728974133, -0.009025560028423973, 0.0014810864648456823, 0.004132015304724845, 0.006473475492784153, -0.015147107042476182, -0.005001877351799688, 0.034462054471100956, 0.002014600416854362, -0.00014525388565411745, 0.011754177655941266, -0.0035674523964939198, -0.005767462443548421, 0.0035219108005903887, 0.0024462852106397204, 0.008489057956119428, -0.002713676970875545, 0.0009309024883722428, -0.0041384877149497346, 0.0002729974927853651, 0.006725472503684438, 0.0074452598318690555, 0.00775028255898369, 0.008209353122697882, 0.0018783390672764688, -0.0015550879029739006, -0.0025501387563400257, 0.0022202653329155275, -0.008236188020451396, 0.005481981340078601, -0.003419510669867565, -0.006361450369702482, 0.006249974592655236, 0.00020094465385445126, 0.0076422563444324965, -0.007129082114881502, -0.003701426002755137, 0.0031902218375453595, 0.004453039534849879, -0.0005750578501524384, 0.0023674628357164273, 0.0025432455221143235, 0.0033899117502024234, 0.005417794636704054, 0.016376178681051456, -0.026016522406948184, 0.0049273629923488604, 0.006211221592999923, 0.015806235484564835, -0.0169422056822226, 0.0027443167206886443, -0.020207942454709804, 0.004786138081557478, 0.007829471187428494, -0.0032731584195950514, 0.016442111923822278, -0.00381240320444709, -0.006601197311344176, -0.0012400705435714476, 0.00047779709103923373, 0.0011846841906484329, -0.003356373598679685, 0.004875700393537352, 0.005815687870163955, 0.005049812265125755, 0.002617536771985174, -0.000100120792791758, 0.012374675756264941, 0.0013192801966309675, 0.013895618947633137, -0.003052349263123144, -0.026183637966665962, -0.005382477495086302, 0.002908304065452949, -0.005448432130482406, -0.005084677981468166, 0.0006766635257510201, -0.010724740278466482, 0.0004593712222693558, -0.0051475677795266295, -0.005209505578624651, -0.0007418459501049579, -0.003368664161022286, -0.009184962416942666, 0.009550563265809353, 0.0036547223245471105, 0.0032460042656181076, 0.00870961219594335, -0.0014598651564650122, -0.0047565741511710335, 0.0001196893061163884, -0.008368939114366869, 0.0008834241265475995, -0.004973179436377317, -0.0008518395155772129, 0.010208581876776424, -0.007225667546669284, -0.0007791295288575029, -0.06939926809129687, -0.004917933164465316, 0.011391262448337991, 0.0017483137680398553, -0.003222856450399131, 0.002125626946849757, -0.007059183718129525, -0.0017353072169622452, 0.004536305837510662, -0.015607064495598455, 0.0022684100136959318, 0.005655169102705804, -0.003990712263949425, -0.006781136021671436, 0.0017160071553243839, -0.014950508285441949, 0.0038562067992264915, -0.0016685938907745612, -0.006464040078712596, -0.003347085084973722, -0.005951306321812538, -0.00042282524331616056, 0.0011414703861662434, 0.020358606359554665, -0.004831820886630478, 0.004439275966673928, 0.009761693216774447, 0.0047860340499368825, -0.0052148739772258645, -0.0019370304595492938, 0.008209718653086506, 0.004286752445855302, -0.003015379142484509, -0.0019231514197640687]\n",
            "  Newton:\n",
            "    Iterações: 1\n",
            "    Tempo: 0.036927 s\n",
            "    Ponto final: [-0.01018857049420041, -0.0008669575845611788, 0.0016052912348643034, -0.0025054952554276477, 0.0003995701749799352, -0.0016888150675158364, 0.004586667963719648, 0.0031088233863948156, -0.0023359156803621772, -0.013414935368689707, 0.004503956626366601, 0.0032696146736368448, 0.00497544089087254, -7.566234234324121e-5, -0.003430270333133839, -0.0008885146215091844, 0.01062958271977732, 0.004218859552277299, 0.004519807106019014, -0.0022613953290678834, -0.002713442161425106, 0.007624072082344321, 0.001166733916856899, 0.02897260607188623, 0.00033710749515414307, -0.0237802056493992, 0.00011584389048735488, -0.005271294238452406, 0.0074722500821939875, -0.001073528508835464, 0.0011435336086667303, 0.002522829302414542, -0.0016035856983567243, -0.002951345014130524, 0.0037970855584788382, -0.0002719736159513264, 0.0026102131879267125, 0.0004267587598618672, 0.0027271207346604154, -0.0005317166652922811, -0.008780385390168788, -0.00239875997360528, -0.0015269100557946946, 0.0014691072421630924, 0.009747511587283375, 0.002167413748335567, 0.006543864335395877, 6.761898113927245e-5, -0.00390637529887794, 0.004093434350328051, 0.025491585018506013, 0.0002461906669982139, 0.0017503373486827956, 0.0010281639696778644, -0.0014636400153668072, 0.00287363530110496, -0.0017981597920408987, 0.007201727632553667, -0.0004225654707773474, -0.0018330954819083534, -0.0042685004303535945, -0.002794243177341449, 0.0006908519834885052, -0.003500159026709193, -0.0024634657164108453, 0.002395537156513694, 0.00038008101227615665, -0.007401768241854789, -0.00496269520568593, 0.004872769083551498, -0.004390235128919562, 0.004246381101622676, -0.0051618538477305465, 0.0006750008021820797, -0.012624663081128307, 0.009879643668857074, 0.0029119538177337922, 0.0036099945470827732, 0.006473907337659401, 0.002719358674097283, 0.001111387701801858, -0.009141158353500156, -0.0041130687047461895, 0.003000523462045601, -0.00048003037364341417, 2.402270877634875, 0.0049763500895931845, 0.0015068308956205333, -0.001090023338526258, 0.0005290220548055391, 0.004658744970561957, -0.0016843112158240192, 0.0007194672502376515, -0.003429195651561745, -0.1879819421129742, -0.00535238202191235, -0.002454736379775113, 0.0006280480361091634, 0.0002951441678201716, -0.0016060810721048036, -0.001904176268384461, 0.003432849944300931, -0.0031170744033923725, -0.002333540560273628, 0.0009803507416599189, -0.007889981812609692, -0.00022854172909152204, 0.0016989334555961577, -0.0015715461642251266, 0.0018403125729999914, 0.001473156415782828, -0.012626543852118144, -0.007343494801482553, -0.0020139365197130443, 0.004992009365685335, 0.0006217430636459298, -0.007120132856427597, -0.0031816032489546675, 0.0003700877373877809, -0.0013397065605151859, -0.0035626801746939663, -0.008076416378929197, -0.001306967618324384, -9.590429994799088e-5, 0.0011452256367903146, -0.008847603541347171, 0.009605392686635517, -0.0017974705471380803, -0.0070858495328055965, 0.001350917644490801, -0.0010417665573621004, -0.032249462360467884, -0.0015410231670673902, -0.0029750619836039494, 0.006813462421091376, 0.001655655600859951, -0.001255415293870965, -0.0002602546943786255, -0.0002537423897854274, -0.004004075702570553, -0.005423990059611805, -0.0012272762633693812, -0.006114412156390303, 0.001166247302555934, 0.010602309973281043, 0.0015982523536489657, -0.0005514298235810289, -0.001056620802217953, -0.0504314136422645, -0.006832074988752546, 0.0008523371805835289, 0.0036549835482954096, 0.0032893202297830104, 0.0032932413080857814, -0.002157666298274852, -0.00784696246183525, 0.0027393491331804687, -0.013067505627878812, 0.0029259794431608643, -0.0023613805952122924, 0.012814494263015286, 0.006637013215804233, 0.0010183762817422837, -0.004645667932468234, -4.7145295737904824e-5, 0.004493703541305183, -0.001354351655927566, 0.007289804041159975, -0.0025539955883271404, 0.006828886165540338, -4.801984435563733e-5, -0.01264759380498015, -0.002925351810098592, 0.0009914276408624634, -0.0007601406976665004, 0.00042588091147748725, 0.004071052873915626, 0.0033182396223978006, 0.0029418409607688822, 0.0008936856572294705, 0.0004722360545446058, 0.002787249492519628, 0.005853052269768233, -0.0027503208110148947, -0.0018177476917968782, -0.0016491593003831184, 0.005718890656757125, 0.0024339593347961763, 0.005654829030755537, 0.0026376232253019216, -0.0009560463800248886, 0.0034304637833820206, 0.0015497469010518142, 0.0026252513144104928, -0.001472468343864386, 0.0030104750177990525, 0.19239185556729843, -0.010028025046123434, 0.002557131522009537, -0.002509045381793751, -0.002652319255320279, -0.0009357475108935087, -0.0033055830301613742, 0.0030858188329431213, 0.007569650981454533, 0.0045151657678728085, -0.008711043351800674, -0.005881236402179295, 0.0005721047386640921, 0.0022567766178203524, -0.0073990807116348645, 0.010358181135194378, -0.0016476695981032519, -0.0008289011124365531, 0.012812116244295346, 0.0035392823954534247, 0.003620725537556324, 0.0013867532556677276, 0.0035715290665579436, 0.001366571502220415, 0.000910848755121707, 0.0013248809340378198, -0.0023866097344300563, 0.0010317907219429268, 0.0040080404466285025, 0.005536209508506529, 0.00402719795467734, -0.020093331688544547, 0.0035260277865921674, 0.003459784257716425, -0.003548627822595433, 0.003709905307481165, 0.011933519833165485, -0.001615622838056413, 0.007266617631751182, 0.00451840826802663, -0.0038647216839129417, 0.0015638804332544776, -0.006789964128423476, 0.008317412285898662, -0.0016641441906074528, -0.005993115566085654, -6.695637399906085e-5, -0.0036921841277590683, 0.002621908348587887, -0.004100309582306838, 0.0029857713231088287, 0.0028037400011999836, 0.00034544881297537966, 0.0005543258084268476, 0.0015715691772102414, -0.004946673969043802, 0.006028717758898461, 0.0013020379779469238, -0.006161601757799451, 0.00256445853342524, -0.005394359568266616, -0.006524579986691925, 0.003977639347057554, -0.0028157341615986375, -0.002697131070088399, -0.001787422832050467, -6.178489049180058e-5, -0.005513894215564058, -0.0017234979901815661, -0.0020383189561142823, 0.0020326845006637395, -0.012836398494535883, -0.012856956217206505, -0.014553010964366786, -0.002567908504492844, 0.001970260504810417, -0.0047705941307836786, 0.00049512448601996, 0.0002628039529180559, -0.0017592221152469278, 0.0012787806354346287, 0.00440631994435392, 0.0005745260181270195, -0.0018161386011867897, -0.006781054123384034, 0.008648294110104704, -0.00048152335709805705, -0.0014507093402678084, 0.002081156254955613, 0.004327766415436862, -0.011868385758565497, -0.008699633025876619, 0.007031460452617377, -0.002702980428789914, -0.00020842792435993296, -0.012894338934004324, -0.007549105206988094, 0.0019678497514153473, -0.003117539741113895, 0.0059253596317694335, -0.008795505355434552, -0.0014440935386160758, 0.0002576911601892551, -0.009961668002950008, 0.03536214796247705, 0.002268850238049236, 0.00023925784058109745, 0.009138928717201122, -0.0004819444308274967, 0.005711107199529941, 0.046279082281200035, 0.0125343030137397, -0.0013751830889359162, 0.0014664624498872403, 0.0050019782736545615, -0.004940185608024783, -0.004309192763429989, 0.01742988778280996, -0.0010099958723646107, -0.00352555977079394, 0.006359874229497464, 0.0018726056850453254, -0.006615557319860077, 0.02732934716342189, 0.0009296851542459211, 0.005289463075364749, -0.00020004127277389872, 0.004359905835439104, 0.002579326573942109, -0.0028770126297776033, -0.012903883909912484, -0.007815429988180522, -0.026339457993715953, 0.001159083639074035, -0.005704108985446488, -0.02944219324991333, 0.0010824606620328386, 0.01681522648481247, -0.021981313516440504, -0.003228791841829004, -0.0065809033477584045, 0.007012000117514322, -0.006190257861548282, 0.005308842361521113, 0.0015273938459947067, 0.005284424936727733, 0.008400287501458603, -0.0032795728824028814, -0.000606499548809647, -0.0012144607993491707, -0.0028190893960273467, 0.007420103215865836, -0.0020122818993333347, 0.003156074090688854, -0.002486899670257614, 0.009960113477225363, -0.003729827240683825, -0.0002055061029344607, 0.007206653455612888, 0.0013784046755718204, -0.0052832161671048095, 0.0043605647491822275, -0.0042977432892654654, -0.0016099412946996017, 0.00037958597954002027, -0.004953218537507187, 0.006017984803927234, 0.015413898068011411, -0.0014184252182704027, 0.0033684987003377576, 0.0023164251667397995, 0.007374371111728277, 0.00012603370007832626, 0.001942461717941324, 0.055762333545320564, -0.0019334470358987055, -0.0014904375338502807, 0.006068052714226058, 0.006680134961756012, 0.00514945245609888, 0.005410155174495612, 0.011639983992847602, -0.0016956140336255032, -0.007647317077524196, 0.00025188568445755344, -0.00025367178853608063, -0.003288109037024478, 0.004768616806729131, 0.0053380369265979555, -0.0021310445865382888, 0.005209118488674336, -0.003156853193004794, 0.003832744757840345, -0.0050291186118540665, -0.004911021823458039, -0.005529159393605099, -0.00600258778236018, 0.0005553140957845759, -0.0059200078784164, 0.007877293268279129, 0.043946644528547685, -0.005315943591429839, -0.011328066056702224, -0.00144753372805706, 0.0015372146220482552, -0.0019321096520825698, -0.0011286438871018767, 0.011952516709040295, -0.0007847304307742053, -0.0037108708555435577, 0.01528953265533195, -0.0012739434506686131, 0.007908367016627782, -0.0003167349428266353, -0.005179944559425831, -0.006117105135781287, 0.0034032785120683418, -0.003672963845748667, -0.0009372018916294911, 0.0008017753799443028, 0.010569512208902732, 0.03983019924791531, 0.014942226509357504, 0.004439746338653405, 0.002884245839598565, 0.004074281636943955, 0.0019457800559399274, 0.006009555332632088, -0.003961611316478986, -0.0016015751017303126, -0.01260492326216578, -0.0030452443244882443, 0.0046398078451082014, -0.0007532812937549593, 0.006066657926533159, -5.577728538165572e-5, -0.0031945988987357454, -0.00250909250431286, 0.007239724762359921, 0.00328867337978192, 0.0027992386523139623, 0.003119562946355098, -0.0023111146236380886, -0.0019047043591710056, -0.0006284526297489212, 0.00454592708155005, -0.004247637378660296, -0.004923269010839615, -0.00157176884747956, -0.0018521277296247307, -0.003402174178768147, -0.00022078531091329623, 0.00441801412674081, 0.012322579209665452, -0.002768586538376222, -0.008643780518722277, -0.00230739012277148, 0.013940637342762185, 0.00813905885469346, -0.002857627571719208, 0.09424530496167383, 0.004054208198220222, 0.0029474689928191966, 0.0038027099911107642, 0.007058401671788839, 0.005785264112023736, -0.22095838275684274, -0.003488260478365257, -0.004013740239684482, -4.731592643025806e-5, 5.87210411191752e-5, 0.053977802443107015, 0.000959476680552962, 0.00426938718037545, -0.0002817561783450273, 0.00104781785778163, 0.0008870042163349745, -0.004848326296565897, -0.038731007405714224, 0.008752921007803532, 0.00044918056920856264, -0.000395212167507486, -0.0024766224340247306, 0.006776713624802477, 0.00291792893158227, 0.0095294567198565, -0.015436332000324238, 0.0008544537723833567, -0.0070287049149055925, 0.0036293625787754413, 0.0014126803541825161, -0.0031440434426386332, 0.01396060945003369, -0.00243204196884933, -0.004879315704688247, 0.0011501411800014516, 0.000460808293988757, 0.006096349585191452, -0.0015141361909143392, 0.003396465262420767, -0.006593288934307773, -0.00709852253618426, -0.0019207369771541138, -0.0003431960357364039, -0.0022672365122131666, 0.012073656100238528, 0.0025220579347355887, -0.006886908896158506, -0.0058926199969981385, -3.4672795866885764e-5, -0.01261735885441706, -0.010035511788035745, 0.004996262136729213, -0.0026775617862686563, -0.004741997388542085, -0.001980513894929814, -0.0013396983221029002, 0.009999877829597992, 0.005645653187725891, 0.003107865304705762, 0.012672277704362633, -0.013431429358584435, -0.006494053185324283, 0.003896569985719134, 0.004578715694433258, 0.0024907634996751415, 0.007848436374541023, 0.004153597324665248, -0.0007775097725661873, -0.0018578596951348558, 0.006256560674046119, -0.003110291131520393, -0.00257773663952926, -0.008327027247337582, 0.0038007351880602336, 0.007891087651911599, -0.007195890525635074, 0.006081678360894571, 0.0012081519713162958, 0.007103704811741274, -2.4152573798064125e-5, -0.009129139805182485, -0.0058412255381872225, 0.0033511233160163287, -0.0028967451475224726, 0.00034462009465452415, -0.00028944661751473255, -0.008524572320917856, 0.004856752599676772, 0.004520299888659041, -0.0012073557803670143, 0.005026130849930421, 0.005099517451477853, -0.009173382867027957, 0.003404612515974015, 0.00439338518219079, 0.0006286508910715582, -0.005427752795335361, 0.002996958072693845, -0.01570842093177488, 0.004999724711097775, 0.008925015686534254, -0.0011916032086132233, -0.0021675389781379284, 0.0023713496205350904, -0.009033204530690675, 0.007651705965782352, 0.008126304389081906, -0.0108699187425767, 0.004415627235737685, -0.017799259457506267, 0.0011889309137416149, 0.0018276240450767478, -0.005920407933946659, -0.09588287428469877, -0.0012941030692836808, 0.0006121230868330052, 0.0015560596081454214, -0.0001510811831976766, -0.010482399893760874, -0.0022633046750736296, -0.00011499286999372416, 0.004289161740179015, 0.010116560820749854, -0.0035075971002616613, 0.01953206349296921, 0.007957255385555806, 0.0021999993939680884, -0.00541904197058618, -0.00887622452955189, 3.7498657852852446e-5, 0.004828102951774271, 0.0014685829737761946, 0.007682980969188291, 0.002084986531488142, 0.0018961474007113122, 4.524969456198846e-5, -0.004942709639535628, -0.009046049176878013, 0.0029833950305361546, -0.009696496266721422, -0.002892368184415961, -0.23731408691437983, 0.0014038357680918878, 0.0005637174001575929, -0.018401525563551575, 0.0052788441953465215, 0.002556413833691984, -0.005020727797859115, 0.005357266218592657, 0.000797672091448931, 0.000361238508182371, 0.0014036085292467027, 0.007278851115530838, 0.007445607740244942, 0.01170788522268007, -0.006295870846179108, 0.3296826508936916, 0.0012428662456224204, -0.0007134060073276105, -0.003726934914537239, 0.0057994425199277, 0.023872646925355734, 0.0014525686201463453, -0.001132167667333539, 0.00027768618761075947, 0.0013941849244484272, -0.005664514090436001, -0.0031321309482305604, 0.0006908508617331499, -0.009317732924665811, 0.00764923116452626, -0.01620084012025729, -0.00384382326683453, -0.003062239766978919, -0.0025219653791248575, 0.01285285236122291, -0.003296262111770254, 0.002359170670199251, 0.004283492260039545, -0.001122068655255326, -0.013571410106468562, -0.0045437934916687794, -0.0007084732472278921, 0.005788806315819198, 0.0016769317068086043, -0.0030241210386057205, -0.0008125790916853615, -0.0019325639354804691, 0.011654634168747569, 0.0018270374916379284, -0.0031424720230917025, -0.0015215152912024799, -0.043198860011275375, -0.012114285206408892, -0.009725909177050351, 0.000998447634642019, 0.005466733904977095, -0.0003255213698978854, 0.002951102722567489, -0.0019703879423267345, 0.0010002147226733094, -0.0010344520507350463, -0.006346134479038534, -0.009833703965611784, 0.0018924890636184966, 0.004269383376010849, 0.004807490871649667, -0.006701559157363701, -0.0072782341940407225, -0.0022747939695770825, -0.03597019641138634, 0.0029699426401613715, 0.006636089504747256, 0.005604032396200331, -0.0038966505717607514, -0.04327578814934269, -0.005449231057490622, -0.0008890506628196904, -0.00405703466193974, 0.0024338173279833397, 0.0016420584264795757, 0.0010560853639283163, 0.0028711251014886807, 0.00041141391830312735, -0.0007579771102412813, -0.009310302408309913, 0.00914714618259238, 0.003931464099693804, -0.005815643212517874, -0.002247852714667875, 0.01062664146899639, 0.004064901201295212, -0.13914725779741222, 0.012004076434604105, 0.035427402672916664, -0.006159378206636534, -0.006893105716020975, 0.00011205444765183259, -0.0016737766747233485, 0.007669556995451909, -0.002354332789266278, -0.008378063800808189, -0.0029703984019132657, 0.001747661199316658, -0.0018995894667043212, 0.007651660019178164, 0.003356799033591318, 0.0010306338373631818, 0.001425014219860802, 0.0017851224730963677, 0.0006751840763024042, -0.005296669541873834, 0.0009088282393313607, 0.005156335050909178, -0.0018966054154082868, -0.006847593005765484, 0.0018690205521449954, 0.006142183583272648, 0.0031902131433036995, 0.0013296584248330134, -0.0056356597441502565, 0.0018718739950180918, -0.007382156939584661, 0.002706388091651857, 0.001974657322746931, -0.009439710762025655, 0.0017589189420952334, -0.003968673403074385, -0.004032621968168615, 0.0022886145467784225, -0.0038464372991219194, -0.020505322956965333, -0.00172392369380292, 0.000288046533648334, -0.004723568124797239, 0.005968934675770754, -0.0014218578139366667, 0.0161763932503102, 0.00042987715321785025, 0.0026957190939616016, 0.0017851744021144533, -0.0054988104363209445, -0.008577196158420064, -0.005602785080704539, -0.0037600231298897946, 0.001588653426823683, 0.000566811051580296, 0.002562432896393435, -0.002620115522827038, 0.21654334286844912, 0.0006426716314959502, 0.00457025672007319, 0.007310363010436083, -0.0037419249244232122, 0.003838190416668885, 0.0011264348327293394, 0.0007851632875286452, 0.00513774100493164, 0.00789262417005765, 0.0073224686597953, 0.0038314315532215204, 0.0070607271892502155, -0.005983241599448241, -0.005582280142595875, -0.0005803481888357886, -0.005904478347939057, -7.912765468286176e-5, -0.006205504537382889, -0.004096562914495477, 0.0031653392387007706, 0.00736031277306326, -0.00166434458257525, -0.009967908998033514, 0.000284701570729351, 0.0009258119802355025, 0.0004886321856352183, 0.00259008935956917, 0.00941110823379554, 0.004583347559747986, -0.004216476356851462, 3.815149847485877e-5, -0.006573362792155479, -0.004799542682439872, -0.010775827084207767, -0.006474133946597238, -0.005154298102127308, -0.0016699059131141114, -0.006245564193328557, -0.13516685287653402, -0.004805685626225742, 0.004880846436466746, 0.00227971363658952, 0.007886282896569563, 0.0012443019424241974, -0.008344980645446864, 0.00017718406448574697, -0.0014402767158355756, -0.002563604869446845, 0.0036806608599743162, 0.00041239740049570095, 0.004044450341146658, 0.0009151204004769209, 0.0063312620699728095, -0.003840248777776889, 0.0006936504611794181, 0.013693293137025997, 0.01945492177814412, 0.0014211286715577476, -0.004222250760383295, -0.0007362068585774484, -0.004611971627030236, -0.011577625711764794, -0.019950438906886303, 0.0016091720784843222, -0.006854461429784298, -0.003927353333316175, 0.008049727074129598, -0.00924269565865693, 0.0016333693157801754, 0.00682647974387135, 0.016691660699502897, -0.004206520536391756, -0.0029578064838885754, 0.006762446821392376, -0.0026174279342807694, -0.008818292639894532, 0.0011215070072831956, 0.0034130687705227203, 0.005299215736720042, -4.9903066353662595e-6, 0.0036231578058927294, -0.007539504447275469, -0.0009536096316866693, 0.0006817791429876152, -0.005461130720385121, 0.0004058323683264753, -0.010940541255618164, 0.000250813161273733, 0.01685387271897343, 0.044092004342391244, 0.002874108816539933, 0.0018226820026532309, -0.006548875091694661, -0.004754474166245526, 0.001207772014852171, -0.004652636686130418, 0.0033806374177309806, 0.0027710872443864054, 0.00613370324346274, -0.014205309176517855, 0.003628150265800434, -0.004579717158806562, 0.0007849774489150363, 0.0060396849338375524, 0.00404606150833986, -0.0029302319157046286, -0.0014514887699121903, -0.004039798234862446, 0.0044461143207741305, -0.004496130371732354, 0.00515885464026522, 0.006556028471640829, 0.007306971138280438, 0.0027508350322233976, 0.0014399758089777004, 0.002219782918037261, -0.01796663617814849, -0.001807274946067583, 0.008058221814116084, 0.002739077111453825, -0.012412545380468765, 0.005961407728974133, -0.009025560028423973, 0.0014810864648456823, 0.004132015304724845, 0.006473475492784153, -0.015147107042476182, -0.005001877351799688, 0.034462054471100956, 0.002014600416854362, -0.00014525388565411745, 0.011754177655941266, -0.0035674523964939198, -0.005767462443548421, 0.0035219108005903887, 0.0024462852106397204, 0.008489057956119428, -0.002713676970875545, 0.0009309024883722428, -0.0041384877149497346, 0.0002729974927853651, 0.006725472503684438, 0.0074452598318690555, 0.00775028255898369, 0.008209353122697882, 0.0018783390672764688, -0.0015550879029739006, -0.0025501387563400257, 0.0022202653329155275, -0.008236188020451396, 0.005481981340078601, -0.003419510669867565, -0.006361450369702482, 0.006249974592655236, 0.00020094465385445126, 0.0076422563444324965, -0.007129082114881502, -0.003701426002755137, 0.0031902218375453595, 0.004453039534849879, -0.0005750578501524384, 0.0023674628357164273, 0.0025432455221143235, 0.0033899117502024234, 0.005417794636704054, 0.016376178681051456, -0.026016522406948184, 0.0049273629923488604, 0.006211221592999923, 0.015806235484564835, -0.0169422056822226, 0.0027443167206886443, -0.020207942454709804, 0.004786138081557478, 0.007829471187428494, -0.0032731584195950514, 0.016442111923822278, -0.00381240320444709, -0.006601197311344176, -0.0012400705435714476, 0.00047779709103923373, 0.0011846841906484329, -0.003356373598679685, 0.004875700393537352, 0.005815687870163955, 0.005049812265125755, 0.002617536771985174, -0.000100120792791758, 0.012374675756264941, 0.0013192801966309675, 0.013895618947633137, -0.003052349263123144, -0.026183637966665962, -0.005382477495086302, 0.002908304065452949, -0.005448432130482406, -0.005084677981468166, 0.0006766635257510201, -0.010724740278466482, 0.0004593712222693558, -0.0051475677795266295, -0.005209505578624651, -0.0007418459501049579, -0.003368664161022286, -0.009184962416942666, 0.009550563265809353, 0.0036547223245471105, 0.0032460042656181076, 0.00870961219594335, -0.0014598651564650122, -0.0047565741511710335, 0.0001196893061163884, -0.008368939114366869, 0.0008834241265475995, -0.004973179436377317, -0.0008518395155772129, 0.010208581876776424, -0.007225667546669284, -0.0007791295288575029, -0.06939926809129687, -0.004917933164465316, 0.011391262448337991, 0.0017483137680398553, -0.003222856450399131, 0.002125626946849757, -0.007059183718129525, -0.0017353072169622452, 0.004536305837510662, -0.015607064495598455, 0.0022684100136959318, 0.005655169102705804, -0.003990712263949425, -0.006781136021671436, 0.0017160071553243839, -0.014950508285441949, 0.0038562067992264915, -0.0016685938907745612, -0.006464040078712596, -0.003347085084973722, -0.005951306321812538, -0.00042282524331616056, 0.0011414703861662434, 0.020358606359554665, -0.004831820886630478, 0.004439275966673928, 0.009761693216774447, 0.0047860340499368825, -0.0052148739772258645, -0.0019370304595492938, 0.008209718653086506, 0.004286752445855302, -0.003015379142484509, -0.0019231514197640687] \n",
            "\n"
          ]
        }
      ]
    },
    {
      "cell_type": "markdown",
      "source": [
        "Observa-se que o método de Newton converge em apenas uma iteração para todos os casos testados, independentemente da dimensão da matriz ou da distribuição dos autovalores. Isso ocorre porque, para uma função quadrática, a direção de Newton aponta exatamente para o mínimo, e o passo exato leva diretamente para ele. O tempo de execução aumenta levemente com a dimensão devido à necessidade de resolver o sistema linear $H p = g$.\n",
        "\n",
        "Por outro lado, o desempenho do método do gradiente dependente do condicionamento da matriz $A$. Nos casos de autovalores iguais ou com apenas dois distintos, o número de iterações necessárias é relativamente baixo. Mas quando os autovalores estão muito diferentes, o método precisa de mais iterações para convergir. O tempo de processamento cresce à medida que a dimensão da matriz aumenta."
      ],
      "metadata": {
        "id": "zn1JgXKCjth3"
      }
    }
  ],
  "metadata": {
    "colab": {
      "provenance": [],
      "include_colab_link": true
    },
    "kernelspec": {
      "display_name": "Julia",
      "name": "julia"
    },
    "language_info": {
      "name": "julia"
    }
  },
  "nbformat": 4,
  "nbformat_minor": 0
}