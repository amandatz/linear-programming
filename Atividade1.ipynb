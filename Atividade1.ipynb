{
  "cells": [
    {
      "cell_type": "markdown",
      "metadata": {
        "id": "view-in-github",
        "colab_type": "text"
      },
      "source": [
        "<a href=\"https://colab.research.google.com/github/amandatz/linear-programming/blob/main/Atividade1.ipynb\" target=\"_parent\"><img src=\"https://colab.research.google.com/assets/colab-badge.svg\" alt=\"Open In Colab\"/></a>"
      ]
    },
    {
      "cell_type": "markdown",
      "metadata": {
        "id": "fkGVnRe9CPdx"
      },
      "source": [
        "# Atividade 1\n",
        "\n"
      ]
    },
    {
      "cell_type": "markdown",
      "metadata": {
        "id": "thdM6TiJWo3c"
      },
      "source": [
        "Amanda Topanotti Zanette (22100776)"
      ]
    },
    {
      "cell_type": "markdown",
      "metadata": {
        "id": "wRXSFVsDWq4e"
      },
      "source": [
        "**Importações e funções auxiliares**"
      ]
    },
    {
      "cell_type": "code",
      "execution_count": 50,
      "metadata": {
        "id": "HWjqEDuVIgTF"
      },
      "outputs": [],
      "source": [
        "using LinearAlgebra, Printf, Plots"
      ]
    },
    {
      "cell_type": "markdown",
      "source": [
        "Esse trecho de código é usado apenas para garantir a repetibilidade dos números aleatórios gerados."
      ],
      "metadata": {
        "id": "7xszQjRRAATk"
      }
    },
    {
      "cell_type": "code",
      "source": [
        "using Random\n",
        "Random.seed!(42)"
      ],
      "metadata": {
        "colab": {
          "base_uri": "https://localhost:8080/"
        },
        "id": "ayAFiLALAAyM",
        "outputId": "57c23d2a-4b81-4f79-8778-ba46c77a7ea1"
      },
      "execution_count": 24,
      "outputs": [
        {
          "output_type": "execute_result",
          "data": {
            "text/plain": [
              "TaskLocalRNG()"
            ]
          },
          "metadata": {},
          "execution_count": 24
        }
      ]
    },
    {
      "cell_type": "markdown",
      "metadata": {
        "id": "iC9tSXZLCTw9"
      },
      "source": [
        "## Questão 1"
      ]
    },
    {
      "cell_type": "markdown",
      "source": [
        "**Gradiente com backtracking**"
      ],
      "metadata": {
        "id": "gpNzvk14M1lp"
      }
    },
    {
      "cell_type": "code",
      "source": [
        "function steepest_descent_backtracking(fun, x0; sigma=1e-4, rho=0.5, max_iter=2000, tol=1e-6)\n",
        "  x = copy(x0)\n",
        "\n",
        "  for k = 0:max_iter-1\n",
        "    f, g, _ = fun(x)\n",
        "    gnorm = norm(g)\n",
        "\n",
        "    if gnorm <= tol\n",
        "      return x, k, gnorm\n",
        "    end\n",
        "\n",
        "    # backtracking\n",
        "    t = 1.0\n",
        "    xn = x - t*g\n",
        "    fn, _, _= fun(xn)\n",
        "\n",
        "    while fn > f - sigma*t*gnorm^2\n",
        "      t *= rho\n",
        "      xn = x - t*g\n",
        "      fn, _, _ = fun(xn)\n",
        "    end\n",
        "\n",
        "    x = xn\n",
        "  end\n",
        "\n",
        "  _, g, _ = fun(x)\n",
        "  gnorm = norm(g)\n",
        "  return x, max_iter, gnorm\n",
        "end\n"
      ],
      "metadata": {
        "colab": {
          "base_uri": "https://localhost:8080/"
        },
        "id": "AdjzmeIAGMf-",
        "outputId": "0d7d60a7-9495-4d35-86df-3d6279cb0247"
      },
      "execution_count": 25,
      "outputs": [
        {
          "output_type": "execute_result",
          "data": {
            "text/plain": [
              "steepest_descent_backtracking (generic function with 1 method)"
            ]
          },
          "metadata": {},
          "execution_count": 25
        }
      ]
    },
    {
      "cell_type": "markdown",
      "source": [
        "**Newton com backtracking**"
      ],
      "metadata": {
        "id": "HndsAOTKM3zz"
      }
    },
    {
      "cell_type": "markdown",
      "source": [
        "O método de Newton é dado por\n",
        "$$\n",
        "  x_{k+1} = x_k - \\alpha_k H(x_k)^{-1} \\nabla f(x_k)\n",
        "$$\n",
        "em que\n",
        "- $\\nabla f(x_k)$: gradiente de f;\n",
        "- $H(x_k)$: matriz hessiana de f;\n",
        "- $\\alpha_k$: tamanho do passo."
      ],
      "metadata": {
        "id": "lSkkMof1ov6G"
      }
    },
    {
      "cell_type": "code",
      "source": [
        "function newton_backtracking(fun, x0; sigma=1e-4, rho=0.5, max_iter=2000, tol=1e-6, fallback=nothing)\n",
        "  x = copy(x0)\n",
        "\n",
        "  for k = 0:max_iter-1\n",
        "    f, g, H = fun(x)\n",
        "    gnorm = norm(g)\n",
        "\n",
        "    if gnorm <= tol\n",
        "      return x, k, gnorm\n",
        "    end\n",
        "\n",
        "    p = -(H \\ g)\n",
        "\n",
        "    # se não for direção de descida, usa fallback se existir\n",
        "    if fallback != nothing && g' * p >= 0\n",
        "      p = fallback(g, H)\n",
        "    end\n",
        "\n",
        "    # backtracking\n",
        "    t = 1.0\n",
        "    xn = x + t*p\n",
        "    fn, _, _ = fun(xn)\n",
        "\n",
        "    while fn > f + sigma*t*(g' * p)\n",
        "        t *= rho\n",
        "        xn = x + t*p\n",
        "        fn, _, _ = fun(xn)\n",
        "    end\n",
        "\n",
        "    x = xn\n",
        "  end\n",
        "\n",
        "  f, g, H = fun(x)\n",
        "  return x, max_iter, norm(g)\n",
        "end"
      ],
      "metadata": {
        "colab": {
          "base_uri": "https://localhost:8080/"
        },
        "id": "RZ5v9Z5ONXUu",
        "outputId": "fae94ed0-5a82-4b5c-b379-251c35005aec"
      },
      "execution_count": 26,
      "outputs": [
        {
          "output_type": "execute_result",
          "data": {
            "text/plain": [
              "newton_backtracking (generic function with 1 method)"
            ]
          },
          "metadata": {},
          "execution_count": 26
        }
      ]
    },
    {
      "cell_type": "markdown",
      "metadata": {
        "id": "lnekAseLCVy8"
      },
      "source": [
        "## Questão 2"
      ]
    },
    {
      "cell_type": "markdown",
      "source": [
        "Considere a função de Rosenbrock"
      ],
      "metadata": {
        "id": "3xS6VTM-Bn0-"
      }
    },
    {
      "cell_type": "code",
      "source": [
        "function rosenb(x)\n",
        "  a = 1.0\n",
        "  b = 10.0\n",
        "\n",
        "  f = (a - x[1])^2 + b*(x[2] - x[1]^2)^2\n",
        "\n",
        "  grad_f = [ -2*(a - x[1]) + 2*b*(x[2] - x[1]^2)*(-2*x[1]),\n",
        "        2*b*(x[2] - x[1]^2)]\n",
        "\n",
        "  hess_f = [\n",
        "        2 - 4*b*(x[2] - x[1]^2) + 8*b*x[1]^2   -4*b*x[1];\n",
        "        -4*b*x[1]                               2*b\n",
        "  ]\n",
        "\n",
        "  return f, grad_f, hess_f\n",
        "end"
      ],
      "metadata": {
        "colab": {
          "base_uri": "https://localhost:8080/"
        },
        "id": "clYbT8rbBw1D",
        "outputId": "9a510170-1497-4165-a8fe-5cb87866d7ab"
      },
      "execution_count": 27,
      "outputs": [
        {
          "output_type": "execute_result",
          "data": {
            "text/plain": [
              "rosenb (generic function with 1 method)"
            ]
          },
          "metadata": {},
          "execution_count": 27
        }
      ]
    },
    {
      "cell_type": "markdown",
      "source": [
        "Comparemos ambos os métodos anteriores considerando os pontos iniciais $x_0 = (1.01, 1.01)$ e $x_1 = (-1.0, 1.2)$"
      ],
      "metadata": {
        "id": "Mx_AfghMCt4j"
      }
    },
    {
      "cell_type": "code",
      "source": [
        "x0 = [1.01, 1.01]\n",
        "\n",
        "x, max_iter_sd, gnorm_sd = steepest_descent_backtracking(rosenb, x0)\n",
        "@printf(\"Gradiente:\\n  Número de iterações: %d\\n  Gradiente final: %.6e\\n  Ponto final: [%.6f, %.6f]\\n\\n\",\n",
        "        max_iter_sd, gnorm_sd, x[1], x[2])\n",
        "\n",
        "x, max_iter_n, gnorm_n = newton_backtracking(rosenb, x0)\n",
        "@printf(\"Newton:\\n  Número de iterações: %d\\n  Gradiente final (norma): %.6e\\n  Ponto final: [%.6f, %.6f]\\n\\n\",\n",
        "        max_iter_n, gnorm_n, x[1], x[2])\n"
      ],
      "metadata": {
        "colab": {
          "base_uri": "https://localhost:8080/"
        },
        "id": "em0_EC6vDKNG",
        "outputId": "ff6d809b-30e0-406a-b3e4-ed443a1f14cd"
      },
      "execution_count": 28,
      "outputs": [
        {
          "output_type": "stream",
          "name": "stdout",
          "text": [
            "Gradiente:\n",
            "  Número de iterações: 1027\n",
            "  Gradiente final: 9.818612e-07\n",
            "  Ponto final: [1.000001, 1.000002]\n",
            "\n",
            "Newton:\n",
            "  Número de iterações: 3\n",
            "  Gradiente final (norma): 4.895830e-10\n",
            "  Ponto final: [1.000000, 1.000000]\n",
            "\n"
          ]
        }
      ]
    },
    {
      "cell_type": "markdown",
      "source": [
        "Para $x_0 = (1.01, 1.01)$ próximo do mínimo $x^* = (1,1)$, o método de Newton converge quadraticamente, resultando em apenas 3 iterações, enquanto o método do gradiente precisou de 1027 iterações. Além disso, o método de Newton foi bem mais preciso quando comparado ao método do gradiente."
      ],
      "metadata": {
        "id": "BUSTmUFzEIbo"
      }
    },
    {
      "cell_type": "code",
      "source": [
        "x1 = [-1.0, 1.2]\n",
        "\n",
        "x, max_iter_sd, gnorm_sd = steepest_descent_backtracking(rosenb, x1)\n",
        "@printf(\"Gradiente:\\n  Número de iterações: %d\\n  Gradiente final: %.6e\\n  Ponto final: [%.6f, %.6f]\\n\\n\",\n",
        "        max_iter_sd, gnorm_sd, x[1], x[2])\n",
        "\n",
        "x, max_iter_n, gnorm_n = newton_backtracking(rosenb, x1, max_iter=5000)\n",
        "@printf(\"Newton:\\n  Número de iterações: %d\\n  Gradiente final (norma): %.6e\\n  Ponto final: [%.6f, %.6f]\\n\\n\",\n",
        "        max_iter_n, gnorm_n, x[1], x[2])"
      ],
      "metadata": {
        "colab": {
          "base_uri": "https://localhost:8080/"
        },
        "id": "9ek9SUpKDS6I",
        "outputId": "be853f9f-7b2b-4dba-c719-18c02fcc5398"
      },
      "execution_count": 29,
      "outputs": [
        {
          "output_type": "stream",
          "name": "stdout",
          "text": [
            "Gradiente:\n",
            "  Número de iterações: 1184\n",
            "  Gradiente final: 9.714477e-07\n",
            "  Ponto final: [0.999999, 0.999998]\n",
            "\n",
            "Newton:\n",
            "  Número de iterações: 5000\n",
            "  Gradiente final (norma): 5.656854e+00\n",
            "  Ponto final: [-1.000000, 1.200000]\n",
            "\n"
          ]
        }
      ]
    },
    {
      "cell_type": "markdown",
      "source": [
        "Para $x_0 = (-1.0, 1.2)$, mais distante, Newton falha em convergir (5000 iterações) porque $H(x)$ longe do mínimo não é positiva definida, enquanto o gradiente ainda converge (1184 iterações).\n"
      ],
      "metadata": {
        "id": "_31aotrtRis2"
      }
    },
    {
      "cell_type": "markdown",
      "source": [
        "Observe que, para a função de Rosenbrock\n",
        "\n",
        "$$\n",
        "  f(x_1, x_2) = (x_1 - 1)^2 + 10 (x_2 - x_1^2)^2,\n",
        "$$\n",
        "\n",
        "a Hessiana no ponto $x_0 = (-1, 1.2)$ é\n",
        "\n",
        "$$\n",
        "  H(x) =\n",
        "  \\begin{bmatrix}\n",
        "  74 & 40 \\\\\n",
        "  40 & 20\n",
        "  \\end{bmatrix}.\n",
        "$$\n",
        "\n",
        "e o determinante é\n",
        "\n",
        "$$\n",
        "  \\det(H) = -120 < 0\n",
        "$$\n",
        "\n",
        "ou seja, a Hessiana **não é positiva definida** nesse ponto. Isso explica por que o método de Newton não converge a partir desse ponto inicial.\n"
      ],
      "metadata": {
        "id": "nWhx8UtUEbbx"
      }
    },
    {
      "cell_type": "markdown",
      "source": [
        "Podemos ajustar o algoritmo de Newton de modo que, caso a Hessiana não seja positiva definida, o método utilize o gradiente como alternativa."
      ],
      "metadata": {
        "id": "wx89YnSjMK4x"
      }
    },
    {
      "cell_type": "code",
      "source": [
        "gradient_fallback(g, H) = -g / norm(g)\n",
        "\n",
        "x, max_iter_n, gnorm_n = newton_backtracking(rosenb, x1, max_iter=5000, fallback=gradient_fallback)\n",
        "@printf(\"Newton:\\n  Número de iterações: %d\\n  Gradiente final (norma): %.6e\\n  Ponto final: [%.6f, %.6f]\\n\\n\",\n",
        "        max_iter_n, gnorm_n, x[1], x[2])"
      ],
      "metadata": {
        "colab": {
          "base_uri": "https://localhost:8080/"
        },
        "id": "f6xQOcQFLIAz",
        "outputId": "36a47f05-5710-4d5b-a854-c289ff0123ce"
      },
      "execution_count": 38,
      "outputs": [
        {
          "output_type": "stream",
          "name": "stdout",
          "text": [
            "Newton:\n",
            "  Número de iterações: 12\n",
            "  Gradiente final (norma): 8.406475e-08\n",
            "  Ponto final: [1.000000, 1.000000]\n",
            "\n"
          ]
        }
      ]
    },
    {
      "cell_type": "markdown",
      "metadata": {
        "id": "kzBgumq1CYA2"
      },
      "source": [
        "## Questão 3"
      ]
    },
    {
      "cell_type": "code",
      "source": [
        "function exact_line_search_quadratic(A, b, x, d)\n",
        "  numerator = dot(b, d) - dot(d, A * x)\n",
        "  denominator = dot(d, A * d)\n",
        "\n",
        "  if denominator <= 0 || abs(denominator) < 1e-14\n",
        "    return 1e-6   # passo mínimo seguro\n",
        "  end\n",
        "  return numerator / denominator\n",
        "end"
      ],
      "metadata": {
        "colab": {
          "base_uri": "https://localhost:8080/"
        },
        "id": "EAFJt8bFrv1U",
        "outputId": "fc030ac0-0df6-47bc-97ba-31f4d5550c1b"
      },
      "execution_count": 31,
      "outputs": [
        {
          "output_type": "execute_result",
          "data": {
            "text/plain": [
              "exact_line_search_quadratic (generic function with 1 method)"
            ]
          },
          "metadata": {},
          "execution_count": 31
        }
      ]
    },
    {
      "cell_type": "code",
      "source": [
        "function quadratic(x, A, b)\n",
        "  f = 0.5 * dot(x, A * x) - dot(b, x)\n",
        "  g = A * x - b\n",
        "  H = A\n",
        "  return f, g, H\n",
        "end"
      ],
      "metadata": {
        "colab": {
          "base_uri": "https://localhost:8080/"
        },
        "id": "ryacwBarqdTh",
        "outputId": "cc823888-fc4e-4808-8a0e-5f2cd16f12b2"
      },
      "execution_count": 32,
      "outputs": [
        {
          "output_type": "execute_result",
          "data": {
            "text/plain": [
              "quadratic (generic function with 1 method)"
            ]
          },
          "metadata": {},
          "execution_count": 32
        }
      ]
    },
    {
      "cell_type": "code",
      "source": [
        "function householder_matrix(n)\n",
        "  u = randn(n)\n",
        "  u /= norm(u)\n",
        "  U = Matrix(I, n, n) - 2.0 * (u * u')\n",
        "  return U\n",
        "end"
      ],
      "metadata": {
        "colab": {
          "base_uri": "https://localhost:8080/"
        },
        "id": "usNTyzyP0OEg",
        "outputId": "48806835-d0b1-4440-8a1e-3d2ee69e9408"
      },
      "execution_count": 33,
      "outputs": [
        {
          "output_type": "execute_result",
          "data": {
            "text/plain": [
              "householder_matrix (generic function with 1 method)"
            ]
          },
          "metadata": {},
          "execution_count": 33
        }
      ]
    },
    {
      "cell_type": "markdown",
      "source": [
        "**Gradiente com busca linear exata**"
      ],
      "metadata": {
        "id": "hkm5yTJVhOv9"
      }
    },
    {
      "cell_type": "code",
      "source": [
        "function steepest_descent_exact(A, b, x0; max_iter=2000, tol=1e-6)\n",
        "  x = copy(x0)\n",
        "  fvals = Float64[]\n",
        "\n",
        "  for k = 0:max_iter-1\n",
        "    f, g, _ = quadratic(x, A, b)\n",
        "    push!(fvals, f)\n",
        "\n",
        "    gnorm = norm(g)\n",
        "    if gnorm <= tol\n",
        "      return x, k, fvals # Return fvals array here\n",
        "    end\n",
        "\n",
        "    d = -g\n",
        "\n",
        "    # Busca linear exata\n",
        "    alpha = exact_line_search_quadratic(A, b, x, d)\n",
        "\n",
        "    x = x + alpha * d\n",
        "  end\n",
        "\n",
        "  return x, max_iter, fvals\n",
        "end"
      ],
      "metadata": {
        "colab": {
          "base_uri": "https://localhost:8080/"
        },
        "id": "cSWeM9ScsFPN",
        "outputId": "f9110a53-5476-4e51-8a67-e287e683be48"
      },
      "execution_count": 53,
      "outputs": [
        {
          "output_type": "execute_result",
          "data": {
            "text/plain": [
              "steepest_descent_exact (generic function with 1 method)"
            ]
          },
          "metadata": {},
          "execution_count": 53
        }
      ]
    },
    {
      "cell_type": "markdown",
      "source": [
        "**Newton com busca linear exata**"
      ],
      "metadata": {
        "id": "vV_BWIVFhRvd"
      }
    },
    {
      "cell_type": "code",
      "source": [
        "function newton_exact(A, b, x0; max_iter=2000, tol=1e-6)\n",
        "  x = copy(x0)\n",
        "  fvals = Float64[]\n",
        "\n",
        "  for k = 0:max_iter-1\n",
        "    f, g, H = quadratic(x, A, b)\n",
        "    push!(fvals, f)\n",
        "\n",
        "    gnorm = norm(g)\n",
        "    if gnorm <= tol\n",
        "      return x, k, fvals\n",
        "    end\n",
        "\n",
        "    p = - H \\ g\n",
        "\n",
        "    # passo exato\n",
        "    alpha = exact_line_search_quadratic(A, b, x, p)\n",
        "\n",
        "    x = x + alpha * p\n",
        "  end\n",
        "\n",
        "  return x, max_iter, fvals\n",
        "end"
      ],
      "metadata": {
        "colab": {
          "base_uri": "https://localhost:8080/"
        },
        "id": "jLL9JItHMYah",
        "outputId": "ff5d9668-c30a-47ad-c4a9-cf9a0ad1e2e1"
      },
      "execution_count": 54,
      "outputs": [
        {
          "output_type": "execute_result",
          "data": {
            "text/plain": [
              "newton_exact (generic function with 1 method)"
            ]
          },
          "metadata": {},
          "execution_count": 54
        }
      ]
    },
    {
      "cell_type": "markdown",
      "source": [
        "Cria uma instância quadrática $f(x) = \\tfrac{1}{2} x^T A x - b^T x$ de dimensão $n$ com uma distribuição específica de autovalores:  \n",
        "- `:equal`: todos os autovalores iguais (bem condicionada).  \n",
        "- `:two`: apenas dois valores diferentes (condicionamento moderado).  \n",
        "- `:spread`: autovalores variados de 1 até 1000 (mal condicionada)."
      ],
      "metadata": {
        "id": "s1Xx8LPVhsb9"
      }
    },
    {
      "cell_type": "code",
      "source": [
        "function generate_quadratic_instance(n, case)\n",
        "  U = householder_matrix(n)\n",
        "\n",
        "  eigenvalues = zeros(n)\n",
        "\n",
        "  if case == :equal\n",
        "    eigenvalues .= 1.0\n",
        "  elseif case == :two\n",
        "    eigenvalues[1:div(n,2)] .= 2.0\n",
        "    eigenvalues[div(n,2)+1:end] .= 5.0\n",
        "    shuffle!(eigenvalues)\n",
        "  elseif case == :spread\n",
        "    eigenvalues .= collect(LinRange(1.0, 1000.0, n))\n",
        "    shuffle!(eigenvalues)\n",
        "  end\n",
        "\n",
        "  Lambda = Diagonal(eigenvalues)\n",
        "  A = U * Lambda * U'\n",
        "  A = 0.5 * (A + A')   # garante simetria\n",
        "\n",
        "  b = randn(n)\n",
        "  x0 = randn(n)\n",
        "\n",
        "  return A, b, x0, eigenvalues\n",
        "end"
      ],
      "metadata": {
        "colab": {
          "base_uri": "https://localhost:8080/"
        },
        "id": "E6aRxP-0yTMk",
        "outputId": "298127b4-a0f0-494f-ead6-43572d2f7c5b"
      },
      "execution_count": 43,
      "outputs": [
        {
          "output_type": "execute_result",
          "data": {
            "text/plain": [
              "generate_quadratic_instance (generic function with 1 method)"
            ]
          },
          "metadata": {},
          "execution_count": 43
        }
      ]
    },
    {
      "cell_type": "markdown",
      "source": [
        "Neste bloco, aplicamos os métodos de otimização (`steepest_descent_exact` e `newton_exact`) em várias instâncias quadráticas geradas:\n",
        "\n",
        "- `dimensions = [10, 100, 1000]`: diferentes tamanhos da matriz $A$;\n",
        "- `cases = [:equal, :two, :spread]`: diferentes distribuições de autovalores para testar o condicionamento.\n"
      ],
      "metadata": {
        "id": "yYN8ENPaiIut"
      }
    },
    {
      "cell_type": "code",
      "source": [
        "dimensions = [10, 100, 1000]\n",
        "cases = [:equal, :two, :spread]\n",
        "\n",
        "for n in dimensions, case in cases\n",
        "  A, b, x0, eigenvalues = generate_quadratic_instance(n, case)\n",
        "\n",
        "  # Gradiente\n",
        "  t_sd = @elapsed x_sd, k_sd, fvals_sd = steepest_descent_exact(A, b, x0, max_iter=10000)\n",
        "\n",
        "  # Newton\n",
        "  t_newt = @elapsed x_newt, k_newt, fvals_newt = newton_exact(A, b, x0, max_iter=10000)\n",
        "\n",
        "  println(\"Dimensão: $n, Caso: $case\")\n",
        "  println(\"  Gradiente:\")\n",
        "  println(\"    Iterações: $k_sd\")\n",
        "  println(\"    Tempo: $(round(t_sd, digits=6)) s\")\n",
        "  println(\"    Ponto final: $x_newt\")\n",
        "  println(\"  Newton:\")\n",
        "  println(\"    Iterações: $k_newt\")\n",
        "  println(\"    Tempo: $(round(t_newt, digits=6)) s\")\n",
        "  println(\"    Ponto final: $x_newt \\n\")\n",
        "end\n",
        "\n",
        "## ADICIONAR AVALIAÇÃO DE FFFFFFFFFFFFFFFFFFFFFFFFFFFFFFFF"
      ],
      "metadata": {
        "colab": {
          "base_uri": "https://localhost:8080/"
        },
        "id": "-CYt3iuHMbHo",
        "outputId": "77c109d7-d2ba-49f9-c278-89756dfe399c"
      },
      "execution_count": 60,
      "outputs": [
        {
          "output_type": "stream",
          "name": "stdout",
          "text": [
            "Dimensão: 10, Caso: equal\n",
            "  Gradiente:\n",
            "    Iterações: 1\n",
            "    Tempo: 2.5e-5 s\n",
            "    Ponto final: [-1.5595439838004437, -0.6222411765685766, -0.6556141844911572, 0.7366321116615436, -0.3095891776578683, -0.11822677551433172, 0.397221276808584, 1.148495822658993, -0.7620493236575507, 0.8705426485651645]\n",
            "  Newton:\n",
            "    Iterações: 1\n",
            "    Tempo: 2.5e-5 s\n",
            "    Ponto final: [-1.5595439838004437, -0.6222411765685766, -0.6556141844911572, 0.7366321116615436, -0.3095891776578683, -0.11822677551433172, 0.397221276808584, 1.148495822658993, -0.7620493236575507, 0.8705426485651645] \n",
            "\n",
            "Dimensão: 10, Caso: two\n",
            "  Gradiente:\n",
            "    Iterações: 11\n",
            "    Tempo: 3.3e-5 s\n",
            "    Ponto final: [-0.5824444586641478, 0.009210147374131061, 1.0366796912368774, -0.19164162582341793, 0.13207249390316944, 0.2515976449612658, -0.47804609928019814, 0.4869298634117516, 0.2047968508294442, 0.33352541066389463]\n",
            "  Newton:\n",
            "    Iterações: 1\n",
            "    Tempo: 2.2e-5 s\n",
            "    Ponto final: [-0.5824444586641478, 0.009210147374131061, 1.0366796912368774, -0.19164162582341793, 0.13207249390316944, 0.2515976449612658, -0.47804609928019814, 0.4869298634117516, 0.2047968508294442, 0.33352541066389463] \n",
            "\n",
            "Dimensão: 10, Caso: spread\n",
            "  Gradiente:\n",
            "    Iterações: 6857\n",
            "    Tempo: 0.014096 s\n",
            "    Ponto final: [0.057778745736263876, 0.009947743912411017, 0.023299496742572978, -0.004152587961949394, -0.008913120115574769, -0.00559960255714409, -0.006139460640979699, -0.0358620537249299, 0.007088958790218314, 0.005480260899789757]\n",
            "  Newton:\n",
            "    Iterações: 1\n",
            "    Tempo: 2.9e-5 s\n",
            "    Ponto final: [0.057778745736263876, 0.009947743912411017, 0.023299496742572978, -0.004152587961949394, -0.008913120115574769, -0.00559960255714409, -0.006139460640979699, -0.0358620537249299, 0.007088958790218314, 0.005480260899789757] \n",
            "\n",
            "Dimensão: 100, Caso: equal\n",
            "  Gradiente:\n",
            "    Iterações: 1\n",
            "    Tempo: 2.5e-5 s\n",
            "    Ponto final: [0.5856306734359134, 0.48584126297056973, -0.8935261215513766, 0.14629551997802553, 1.69253638518397, 0.193125508308955, -0.6428309636124264, 1.7639988931258694, -1.8452748704135997, -0.6846623201133399, -1.146864437179212, -1.4816248092062376, -0.48687765465678756, 0.5605652211401418, 0.1155976024936842, 0.252754060360379, 0.046685297531694925, -1.784963391040737, -2.6020909500229275, 2.497865884759075, 0.5710906146860438, 0.1664729444625137, 0.14134493863557285, 0.2743846761143691, -0.18568621547826303, -0.29173725716876797, 0.982960843948388, 0.13204726528793087, -1.6285165110102802, 1.6044422905885423, 1.9443442771526163, -0.18827063479049233, 0.7437825226667591, 0.5880444434480511, 0.4282120290543101, -0.8950472920322157, -0.9825134700705889, -2.044627212301711, -0.3317794671639954, -0.22946776885974085, -0.5038640810285777, -0.42351141532855663, -1.435492477497372, 0.10145387795180838, 1.2027083165481134, -1.2085515801190319, 0.8871120575152968, -1.1911209047735527, 1.2443648069786708, -0.550417753610566, 0.04096657722372343, 0.6064524449472499, -1.0040474634013352, -1.5986638597006466, -0.3977390132221006, 0.5852117733009564, -1.1108592282490104, 1.0784419712268196, -1.4243519175007466, -0.31274196851709, -0.17095840448902755, 0.22266697891042853, 1.078211845257973, 1.0620603165509928, -1.2532190529113816, 0.4760691778499113, 0.16161044891204746, 0.11307850534519587, -2.6578918787167023, -1.044654446471326, -1.34513469641403, -0.6546810804476371, -1.861043563131147, -0.011379612293629252, -0.9998863048381724, 1.3560704023844088, 0.802250627412037, 0.7604326859675812, -0.5298713551722454, -0.37956013960097573, 1.43697882525265, 2.2186861085713154, 0.8190116543728685, 1.218705623911952, -0.7617474629081089, -0.18550928073710415, 0.38656763350803036, 0.841357827371101, -2.1080917383645184, -0.35952997893661576, 0.27033951569447695, 1.3916764101817884, -0.6333775845978122, -1.533704022031593, -1.2433728641769313, -0.9587935704310004, -1.4909995585198752, -0.05068464698555397, 0.1179478293199474, -0.15396050225793245]\n",
            "  Newton:\n",
            "    Iterações: 1\n",
            "    Tempo: 0.000217 s\n",
            "    Ponto final: [0.5856306734359134, 0.48584126297056973, -0.8935261215513766, 0.14629551997802553, 1.69253638518397, 0.193125508308955, -0.6428309636124264, 1.7639988931258694, -1.8452748704135997, -0.6846623201133399, -1.146864437179212, -1.4816248092062376, -0.48687765465678756, 0.5605652211401418, 0.1155976024936842, 0.252754060360379, 0.046685297531694925, -1.784963391040737, -2.6020909500229275, 2.497865884759075, 0.5710906146860438, 0.1664729444625137, 0.14134493863557285, 0.2743846761143691, -0.18568621547826303, -0.29173725716876797, 0.982960843948388, 0.13204726528793087, -1.6285165110102802, 1.6044422905885423, 1.9443442771526163, -0.18827063479049233, 0.7437825226667591, 0.5880444434480511, 0.4282120290543101, -0.8950472920322157, -0.9825134700705889, -2.044627212301711, -0.3317794671639954, -0.22946776885974085, -0.5038640810285777, -0.42351141532855663, -1.435492477497372, 0.10145387795180838, 1.2027083165481134, -1.2085515801190319, 0.8871120575152968, -1.1911209047735527, 1.2443648069786708, -0.550417753610566, 0.04096657722372343, 0.6064524449472499, -1.0040474634013352, -1.5986638597006466, -0.3977390132221006, 0.5852117733009564, -1.1108592282490104, 1.0784419712268196, -1.4243519175007466, -0.31274196851709, -0.17095840448902755, 0.22266697891042853, 1.078211845257973, 1.0620603165509928, -1.2532190529113816, 0.4760691778499113, 0.16161044891204746, 0.11307850534519587, -2.6578918787167023, -1.044654446471326, -1.34513469641403, -0.6546810804476371, -1.861043563131147, -0.011379612293629252, -0.9998863048381724, 1.3560704023844088, 0.802250627412037, 0.7604326859675812, -0.5298713551722454, -0.37956013960097573, 1.43697882525265, 2.2186861085713154, 0.8190116543728685, 1.218705623911952, -0.7617474629081089, -0.18550928073710415, 0.38656763350803036, 0.841357827371101, -2.1080917383645184, -0.35952997893661576, 0.27033951569447695, 1.3916764101817884, -0.6333775845978122, -1.533704022031593, -1.2433728641769313, -0.9587935704310004, -1.4909995585198752, -0.05068464698555397, 0.1179478293199474, -0.15396050225793245] \n",
            "\n",
            "Dimensão: 100, Caso: two\n",
            "  Gradiente:\n",
            "    Iterações: 17\n",
            "    Tempo: 0.0002 s\n",
            "    Ponto final: [-0.1160269970600396, -0.020625070654140987, 0.146125007662945, -0.1464243317404531, -0.11177947478812933, -0.5194257525575967, 0.3366389365826813, -0.6540687293486871, -0.14478265207399665, -0.4297339490470131, 0.03082718696442055, -0.6371327515782768, 0.613414221716438, -0.19253357541369284, 0.15756976695239294, -0.3964591494339542, 0.13415310893326926, 0.41008601695684455, 0.16295149692076383, 0.10585247396252895, 0.2045054183263202, -0.07902489607118118, -0.08846811274124955, 0.05456787500417773, -0.21070402276500627, -0.3094404023811811, -0.16900047260677592, -1.181428841230468, 0.05966721854681878, 0.15371866011255003, 0.2590547068512482, -0.1712639185751466, 0.20165114487481706, -0.14681661537396512, 0.4077687599353541, 0.12903104444490346, -0.6249973369064764, 0.45218031448661966, -0.3461537293763667, 0.16256180731641412, 0.07933689814932593, -0.12573607041268198, 0.5328256632649375, 1.2449281957851, 0.38158739451502693, -0.13618563404308823, -0.2769634861149477, -0.027118936713317332, 0.5700754360543048, 0.2651988303586166, 0.5576373506348538, 0.5492588318839878, -0.16331058630536777, 0.0591937926538294, -0.30807210261115325, 0.13919345645076953, -0.32113950847451644, -0.36937950999133534, -0.4811505404515266, -0.28180119214763016, -0.6356408633212167, 0.20223318736269946, 0.32800407103836837, 0.41650559314740015, -0.14549615444896058, -0.6830575402312321, -0.7170114717589218, -0.5792971360374597, -0.8053467715969447, -0.012183882247303823, -0.3587880508666614, -0.01717000906596121, 0.29768277391239606, -0.04205927238997653, -0.5413925443592615, 0.03944473650432354, 0.21574613783323582, -0.16290078993554258, -0.30561038091529313, 0.24872992428441476, -0.1547197146587176, 0.02672460484742474, 0.5506077177366759, 0.2721758960139167, 0.07953219778481568, -0.4137625281566931, 0.12469903440529817, -0.20492042722815662, 0.21675761942033908, 0.4784039100386905, -0.8577268769721492, 0.2485547837386942, -0.1371499487787593, -0.950562078231106, -0.20485326009880478, -0.3147800625003514, -0.06459354007530452, 0.5620993659388951, -0.3087451719748281, 0.13739226038837282]\n",
            "  Newton:\n",
            "    Iterações: 1\n",
            "    Tempo: 0.000212 s\n",
            "    Ponto final: [-0.1160269970600396, -0.020625070654140987, 0.146125007662945, -0.1464243317404531, -0.11177947478812933, -0.5194257525575967, 0.3366389365826813, -0.6540687293486871, -0.14478265207399665, -0.4297339490470131, 0.03082718696442055, -0.6371327515782768, 0.613414221716438, -0.19253357541369284, 0.15756976695239294, -0.3964591494339542, 0.13415310893326926, 0.41008601695684455, 0.16295149692076383, 0.10585247396252895, 0.2045054183263202, -0.07902489607118118, -0.08846811274124955, 0.05456787500417773, -0.21070402276500627, -0.3094404023811811, -0.16900047260677592, -1.181428841230468, 0.05966721854681878, 0.15371866011255003, 0.2590547068512482, -0.1712639185751466, 0.20165114487481706, -0.14681661537396512, 0.4077687599353541, 0.12903104444490346, -0.6249973369064764, 0.45218031448661966, -0.3461537293763667, 0.16256180731641412, 0.07933689814932593, -0.12573607041268198, 0.5328256632649375, 1.2449281957851, 0.38158739451502693, -0.13618563404308823, -0.2769634861149477, -0.027118936713317332, 0.5700754360543048, 0.2651988303586166, 0.5576373506348538, 0.5492588318839878, -0.16331058630536777, 0.0591937926538294, -0.30807210261115325, 0.13919345645076953, -0.32113950847451644, -0.36937950999133534, -0.4811505404515266, -0.28180119214763016, -0.6356408633212167, 0.20223318736269946, 0.32800407103836837, 0.41650559314740015, -0.14549615444896058, -0.6830575402312321, -0.7170114717589218, -0.5792971360374597, -0.8053467715969447, -0.012183882247303823, -0.3587880508666614, -0.01717000906596121, 0.29768277391239606, -0.04205927238997653, -0.5413925443592615, 0.03944473650432354, 0.21574613783323582, -0.16290078993554258, -0.30561038091529313, 0.24872992428441476, -0.1547197146587176, 0.02672460484742474, 0.5506077177366759, 0.2721758960139167, 0.07953219778481568, -0.4137625281566931, 0.12469903440529817, -0.20492042722815662, 0.21675761942033908, 0.4784039100386905, -0.8577268769721492, 0.2485547837386942, -0.1371499487787593, -0.950562078231106, -0.20485326009880478, -0.3147800625003514, -0.06459354007530452, 0.5620993659388951, -0.3087451719748281, 0.13739226038837282] \n",
            "\n",
            "Dimensão: 100, Caso: spread\n",
            "  Gradiente:\n",
            "    Iterações: 7269\n",
            "    Tempo: 0.083869 s\n",
            "    Ponto final: [-0.0013516981538674866, -0.005936967627026668, 0.007861824016257513, 0.0013455687734932331, 0.017100454137639942, 0.006106675742950207, -0.0038676083306186104, -0.0005581257086504365, 9.346853190694837e-5, -0.002380827721115808, 0.0032601617716416786, -0.01714356985882559, -0.0010140589289455715, -0.003610806470033201, -0.0003374415744283876, -0.02130699323461238, 0.006107619421884758, -0.002807857589881335, 0.006933682695816068, -0.0066662964633881425, -0.0028808233376393932, -0.012951808136901, 0.0013583508773977737, 0.010079826005080506, -0.004573015899310473, -0.007848100749186192, -0.008877822575465655, -0.04741087272410682, -0.0007432476872420435, -0.004661355706702119, -0.00029793854379617235, 0.0006381993468341784, -0.019738204380610247, -0.006695024239330383, 0.0012449809047692106, 0.004371449948428641, 0.004552386308681378, -0.0036527613037387052, -0.003921381048532013, -0.0011827775928431317, 0.00479196358276357, 0.005254136411938726, -0.002042788761822678, 0.0011290645249300013, -0.003270815639338842, 0.008711008854989495, -0.0026921639300887257, -0.00028738247794390936, 0.009554780517208372, -3.076555248193724e-5, -0.0068206052704881115, 0.006019660529724913, 0.006778090153257477, -0.0006988827007652354, 0.06260978266182582, 0.0011815287565149872, -0.010485209507226978, -0.003802218993889328, -0.002289741151275504, 0.005402085793184019, 0.00924640241494279, -0.00226162448711531, -0.00423577201225727, -0.0025626158215765193, 0.006802652233644235, -0.007396447055683375, -0.014111935020606078, -0.017085883806456204, 0.0014681498227385736, -0.008406481756919493, 0.010035728000764507, 0.015191103074190693, -0.015019335280239354, 0.00011472860834715881, -0.010087002258558436, 0.000152374628103788, -0.9880897854394386, -0.013001393201252098, 0.019554156793270328, -0.006040658732023418, 0.010683487380985901, -0.008348086675057459, 0.007517485483886477, 0.00677870644130274, 0.0016434947129888577, 0.013594978617981202, 0.009688443809180158, 0.005625717157237503, -0.0011176998208628497, 0.009414843176136473, 0.0001887231085651031, -0.0029850564673448154, 0.007291260847891001, 0.002725301860149687, 0.007762182709251053, -0.013240917915705253, 0.0038428437372836077, -0.008894757779195128, 0.013286525593767001, 0.0030378103894899144]\n",
            "  Newton:\n",
            "    Iterações: 1\n",
            "    Tempo: 0.000277 s\n",
            "    Ponto final: [-0.0013516981538674866, -0.005936967627026668, 0.007861824016257513, 0.0013455687734932331, 0.017100454137639942, 0.006106675742950207, -0.0038676083306186104, -0.0005581257086504365, 9.346853190694837e-5, -0.002380827721115808, 0.0032601617716416786, -0.01714356985882559, -0.0010140589289455715, -0.003610806470033201, -0.0003374415744283876, -0.02130699323461238, 0.006107619421884758, -0.002807857589881335, 0.006933682695816068, -0.0066662964633881425, -0.0028808233376393932, -0.012951808136901, 0.0013583508773977737, 0.010079826005080506, -0.004573015899310473, -0.007848100749186192, -0.008877822575465655, -0.04741087272410682, -0.0007432476872420435, -0.004661355706702119, -0.00029793854379617235, 0.0006381993468341784, -0.019738204380610247, -0.006695024239330383, 0.0012449809047692106, 0.004371449948428641, 0.004552386308681378, -0.0036527613037387052, -0.003921381048532013, -0.0011827775928431317, 0.00479196358276357, 0.005254136411938726, -0.002042788761822678, 0.0011290645249300013, -0.003270815639338842, 0.008711008854989495, -0.0026921639300887257, -0.00028738247794390936, 0.009554780517208372, -3.076555248193724e-5, -0.0068206052704881115, 0.006019660529724913, 0.006778090153257477, -0.0006988827007652354, 0.06260978266182582, 0.0011815287565149872, -0.010485209507226978, -0.003802218993889328, -0.002289741151275504, 0.005402085793184019, 0.00924640241494279, -0.00226162448711531, -0.00423577201225727, -0.0025626158215765193, 0.006802652233644235, -0.007396447055683375, -0.014111935020606078, -0.017085883806456204, 0.0014681498227385736, -0.008406481756919493, 0.010035728000764507, 0.015191103074190693, -0.015019335280239354, 0.00011472860834715881, -0.010087002258558436, 0.000152374628103788, -0.9880897854394386, -0.013001393201252098, 0.019554156793270328, -0.006040658732023418, 0.010683487380985901, -0.008348086675057459, 0.007517485483886477, 0.00677870644130274, 0.0016434947129888577, 0.013594978617981202, 0.009688443809180158, 0.005625717157237503, -0.0011176998208628497, 0.009414843176136473, 0.0001887231085651031, -0.0029850564673448154, 0.007291260847891001, 0.002725301860149687, 0.007762182709251053, -0.013240917915705253, 0.0038428437372836077, -0.008894757779195128, 0.013286525593767001, 0.0030378103894899144] \n",
            "\n",
            "Dimensão: 1000, Caso: equal\n",
            "  Gradiente:\n",
            "    Iterações: 1\n",
            "    Tempo: 0.004027 s\n",
            "    Ponto final: [-0.48136054576910914, 0.06183193570429121, -1.119277588752346, -1.8505562415968226, -0.1612705500895873, -0.12161793387697006, -0.4126054630838345, 0.7072088487334225, -1.2774325499718913, -0.4416278789891002, -0.7790116928491675, 0.8559981843816522, 0.21431957463670548, -1.636596891699862, -1.3307284764925273, 0.9427975574471588, 0.5474175985777858, 0.6485924186368878, -0.746407042584722, 1.7372265956287132, 1.0453023247671378, -0.5925546097742326, -0.1742734489373465, 0.44481116326560377, -0.5160836780474058, -1.1859225884303066, -0.4041655185015305, -1.8014147642432243, -0.8390967820615224, -1.3291117892778077, 0.8836092662670534, 0.4005246272840939, 1.4380473535297749, -1.089196613853323, -1.0882124577596195, 0.48058085419595237, 0.7674107484494813, -1.0605496620691073, 0.7080981603173389, 0.5447432395526869, -1.218630967979449, 0.2555627056705664, 2.026693771352979, -0.2856164526491721, -0.7867519865672616, 2.7445657486618593, 1.6551897084657485, -1.3445620669165177, -2.102881357678372, 1.1450770175601908, -0.56203965801919, -0.8236615056780703, 2.3884220146511135, 0.5101430605211176, -0.6699997477845421, -0.5426858087474902, -1.351347785760775, 0.9015189970908115, 1.0315077937263792, -2.135747050466116, -0.295508844052655, 0.1343150527891397, 0.6558512043206838, 0.11301505839655046, 0.4528404311397116, -1.9183781893187752, -0.7279756261467599, 0.6568603340640489, -0.40004697860046057, 1.3301482112811935, 1.899331852740429, -1.0012413784902365, -1.4806628198502798, 0.21275902907028812, -1.2021722958874188, -0.146579115323316, -1.5415704984845149, -2.1655753651986354, -0.7910274694728943, 1.6903619828782461, 0.6719733107668511, 1.3226153177545399, -0.803712329743882, -0.8554981870679812, -0.4695405788809781, 0.4191552783651376, -0.7036405554779106, -0.659469032024798, 0.08938215701406826, 0.4880687196433331, -0.4020349181405607, -1.0437991250067478, 1.4135809996132642, -1.2689622276719155, -1.3249013962765699, 0.23567003229308886, -1.2321231312938967, -0.8590695608082051, -2.388167146301676, -0.6541661187698772, 0.8524116270562727, -0.4855175888254103, 0.2642146169644515, -2.6006280219105973, -0.7086799490183209, 0.8460988759249317, -1.3831063480645518, -0.46366706899023047, -2.428990031796805, -0.7808945405528116, 1.2954377179746166, -2.5167766578489426, -0.943413476863364, 0.6671254772567039, -1.5754348975788621, 1.171869479258967, -0.4046029833677114, 0.01671308492126866, -0.4669453661544881, 0.5895059889240502, -1.6907213080822134, -0.15308393746265936, -0.5791821982600349, -0.5157123915644138, -1.0027895692210107, -0.05207771252364817, 0.3526521101557891, -0.11786608362174655, -0.35129839106376404, -0.9741904108501133, -1.2669896947711061, 0.8043953109459658, 0.2870535897665911, -0.3677808542188761, 0.05342846979770066, 1.506876806140797, -2.334717032745036, 1.3368702139783746, 0.3967986610749583, 0.8207847200445884, -0.07709168601916516, 0.9083519602095997, 0.5618787919863132, 1.0070991779224279, -2.3281397251056837, -1.2307734054901827, 0.1871041475143953, 1.875306299551589, 0.8733666467081809, -1.1091081016139972, -0.2215326602329408, -0.7951105598797826, -0.28113682434575693, -0.6624874347791334, -0.3090928562680728, -0.8617486116881838, -0.3251466594142178, -1.0280124554543608, 2.2553441335168243, -1.8658340533760465, -0.8098078262333774, 1.1832046387334965, -0.45305736025969534, -0.5064093873321388, -0.033103574451109674, -0.21286896044283976, 0.5285591547605557, 1.0081346675319978, 1.150966762380114, 1.582681063349448, -2.2277906953972746, 0.9201467878581621, 0.3167255407866336, -0.5250589042535121, 1.9825961214632541, 2.9083759506794156, 0.9007933721379575, 0.2264018283050504, -0.18976013267221647, -1.7396095010295496, 1.669262112104175, 0.7653328858295944, 1.321645272217538, 0.521265982643716, 1.9067412147173057, 0.0948108204890416, -1.5609090033519517, 1.133275553141352, 0.389107127389523, 0.9691877224292325, 1.5777257639123246, -0.727891140819806, 1.3477756344582623, -0.007195887629833031, -0.05031589487293564, -1.6325569352504745, 0.49163479858454173, -1.1523308888322326, 0.6695239216558574, -0.11866087816457682, -1.7006501341359046, -0.7002998860983155, 0.37256147001748163, 0.041063736777042115, 0.17365119358068207, -0.8540332906494648, 1.5958396670496093, 0.2484692783403571, -0.6005933682491665, -0.7307812738230821, -0.8797569194534738, -0.6655208129010839, -0.024215366928286408, -2.369111835327439, -1.1976778209053731, -0.09039603885795089, -0.9935344251946868, 0.06570379078500177, 0.44243526556838686, 0.45528219652085783, -0.9958274217082744, -1.4148075609814874, -1.4534600536067137, -0.6160595733282022, 0.20114225229079463, 0.2243273242022915, -0.7424309905384192, -0.44415119195872355, 0.03566356332055576, -0.06766071360590287, -0.8605496171689235, -0.4640602134502283, 0.029733778594169924, -0.3094954352899024, -0.8037853149067737, -0.7757633782447537, 0.30890059300479444, 0.5970461545510315, -0.1012769754629127, -0.9179763473193002, -0.6309634632185452, -2.136458938266471, 0.7818033836973532, 1.6105937934607155, 2.654416733182441, -0.5286842481873492, 1.2234098098662622, -0.31716643534451744, 1.2281719052711215, 0.17285164827823835, 0.7322832956152784, -2.082064592867277, -1.152824648759808, -0.6545504832729486, -0.9617859437642233, -2.596124218447674, -0.18765597246468588, 1.8783696736848263, 0.10925696864852386, -1.7086743599065988, 0.20448423483759337, 0.562111490855097, 0.7716238270470279, -0.0215724933412913, 0.0329692620481874, -2.5938529922734936, 2.022854070999557, -0.33351744952735507, -0.6932849820521912, 1.3758216204274023, 0.06816799582089161, 0.17178959929273138, 1.2098040874378275, 1.0645208779164395, -0.2043058710856811, -0.024078638830738353, 1.4747401895453707, 0.8568972478791377, 2.4984078117280366, -0.3939635048797362, 0.9508985268916595, 0.3859842601374386, 0.36386198270590375, -0.8925775207006112, -0.46876478339426053, -0.013290359062485546, -1.7312289610769893, 0.1423283387633898, -0.24221472967991234, 0.33227971010571306, -0.266721070397241, 0.45668835645494155, 0.9315942889754374, -0.41450209341580396, 0.579100939690302, -0.7376167997891256, -0.2529971085548446, 1.3197218115236726, -0.4035916521615259, 1.4335854839543811, 1.1872869839776872, -0.053660445413029056, -0.6047038375760037, 0.34718003356024957, -0.15776259132146825, -0.32802897378302975, -0.8757305993901221, 2.19042522792393, -0.09088980279541481, 0.09016728171864741, 3.2082214354389706, 0.41209369365341275, 0.9520302862920648, 1.1603169249893122, -0.9118970666394043, -1.08975975837168, 0.6118604176118846, -0.9716331883659794, -1.352037345797448, 1.402689380629163, -1.230949823517136, 0.9510143778915261, -0.44206227240233176, 1.201296824436919, 0.4922467680608822, -0.24262905037825466, -0.9218351340202515, 0.12375972278283309, -1.1947206139023063, -1.7624268524895226, 0.06541306918228207, 0.5178386111171981, 0.9481611798008638, 1.6027997797474167, -2.4448261216101232, 1.7497539855171091, -0.6546265858928706, -1.1181134356471434, -0.711398443770549, 0.1531799683817959, -0.3439149954461673, -1.4970186493765956, 1.0806745932518733, 0.6778003765881615, 0.9912351797746466, 0.3415675495479208, -2.5719478682029413, -1.342197665385281, 0.6496410485941368, 0.6235594271478395, -0.5229304984564775, -0.35969360759410085, 0.02477802528013484, -0.44714493808636413, -2.341735008692237, -1.4812965366574473, 0.5789902882495583, 0.5947485988981422, 0.05925786153821866, 1.2766445155780402, -0.29550325436205327, -0.8460440044904738, 0.3026265861069266, 0.5368638318853038, -0.5797375177083346, -1.4476222492491226, 1.0324840300677072, 0.45905894492474, 0.12089993070232485, 0.29110040508897644, 1.6525081109420363, -1.238908949197227, -0.6308188150829395, -1.1768521247655181, 1.373273960025852, -0.709022742094681, -0.782665070411283, -1.4493358834081902, -1.618537243746536, 1.0566690106261878, 0.08659144568347588, 0.4646521837583394, -1.093211158898935, 1.0742936012399737, -0.06688435360119416, -0.05831190100277517, -1.2575120454828133, 2.01682731385271, -0.6811457194022981, -0.9875232889283255, 1.2662434138444318, 0.6064781632332752, -0.3986500453301167, 0.10188603050397993, -0.12282756975085929, 0.9756772684137934, -0.36625048383025605, -0.5285441948787225, 0.4174827831222049, 0.2515817449470794, -1.0947034109611762, 0.5034247989779532, 0.0075740291423583295, -1.1335242111115666, -0.3842141383618884, -0.7009761903304371, 2.210737704033263, 0.9920857356592977, -1.5487207043912927, 1.82604053735277, 0.5958536970101993, -0.1360489487184618, -0.657983777322718, -0.6697304349441766, -0.08589772800524513, 0.2221893231462529, -0.19852679196647194, -1.1829136089975938, -1.2135307536504971, 0.019451946203056014, -1.177655884739155, -1.499960475549558, -0.34429996226620774, 0.1343501587974658, 0.589933879949222, -1.1672989701357621, -0.7630794450535848, 0.42276267800573164, 0.011088706967097739, 0.7343519432724842, -0.30609293969157647, 0.1649451578357251, -1.6509033044215176, 0.8742461863849035, 0.5227617698940517, 0.64773708087177, -1.7291059439466372, -0.5073257062696707, -0.5953618810435675, 0.8440655965032724, -0.028769683395936718, -0.03272335342870686, 1.8634121865877142, -2.6393322300059427, 0.8116250233995055, -0.7024704251058056, -0.5227145385426948, 0.6161050166482649, -2.20430342742094, -0.5332542951903112, -0.9410146676162501, 0.40557947786746174, -1.2617210488625015, -0.6331409339681079, -2.2222534044459223, 0.1656165907747038, 1.4794689295513734, -0.8704795193845165, -1.3067030783787923, -0.09242669769756473, 0.6165377807323555, 0.8258221253549388, 0.13335077249785443, -0.7929122095979854, -0.6749854428392035, 0.15067234343067265, -0.3584641339344, -0.8179857726256113, -0.5122380878660998, 0.011855668962107435, 0.8672829779481006, 1.3496221839228715, -1.3918952482186422, -0.8247187470727723, 0.5744472251147825, 2.240700512894591, -0.5861663381781967, 0.14000597335669163, 0.3991354387687333, 1.0546079742322645, 0.8838330760797756, -0.9111879250724731, -0.6978818586092226, 0.8333288398521375, -0.3851622934289022, 0.3262885779126776, -0.5468546319020486, 0.495158963530968, -0.2868863018024162, 0.5576848221194434, 0.28724460847969846, 0.5839466030952611, 2.0249643382516016, -0.8815840254064393, -0.12463903432233003, -0.004114211950290381, 0.9695262768258043, -0.5115079644098505, 0.3334901845115475, 0.4360686370012161, 0.44811072485939296, 0.7135389227786402, 0.7986802104647639, -0.5488673792453267, 1.2395235957293802, -0.23028314471389333, 1.1329556436159227, 0.2767961651215973, -0.3097264855114008, -1.7385257426860008, 0.02590280109750498, 0.058273763433050796, -0.5679029215588085, 0.8656340281628516, -0.17179988763428056, 0.7053842477592569, -1.563035258797026, 0.03800077144418934, -0.3750195749625489, 0.6494738327613567, 0.42817287794994185, -0.16104159371352234, -0.27760334808607334, 1.3553336749715603, -0.2800176390940736, 0.5341164464302213, -0.2351369617430666, -0.34440298735353403, 1.0063516028019528, 1.5478055482781703, -0.29312918977127533, -0.3555073763872658, 1.526979324725108, 0.12277574209065989, -0.5430728271515759, -0.47357931629207006, 0.11888028615358492, -0.7906657274433846, -0.6619920877290362, -1.5032182662696525, 1.679936282706321, 0.7144530532760823, -1.2645923989111412, 0.4800266182061914, -0.6135444315363796, -0.394457010162109, -0.5170903735910857, -1.1690624719309788, -1.010154604738028, -1.3753675967129038, 0.39828460040073976, 0.2971902170914116, 0.4100015816467799, 2.6999162876104172, -1.100948165310749, 0.22671870867310173, 0.8784634070132222, 1.0314437276112127, 1.7812695817884379, -0.2314458391214398, -1.3811768515476106, 0.5277734211397604, 0.11344502339688989, -0.7316851108951409, 1.3482481864505063, 0.1342295684657724, 1.854690006517887, -0.6391770643345936, 0.4876736863782336, 0.39525378325332516, 0.9670713805274243, -2.2392795779135346, -0.4775607362279932, 1.5315005320309591, 1.1533611221326696, -0.2904352254026942, -0.48881438504016755, -0.5405013473805063, 1.1124339191081931, 0.20760654585839355, 2.523828312328468, 0.6533322874651925, 0.6578212721065331, 0.971996800197807, -1.0565631065499108, -0.5148886107227554, 0.2695345202588354, -0.023393175160502322, 1.8914515777499388, -1.4537608392976888, -0.6448940459944111, -0.7444858298414964, 0.512602525570228, 0.42361543845991684, 0.2699982352066428, -1.7272073111749386, 2.1995654631529615, -0.05701230863323972, 1.8068931614995485, 0.803616599701872, -0.7163645588568726, 1.0757177281284265, 2.1368178537644753, -0.9488961741540891, 0.8617685428954753, 0.8139448803931639, 0.7167639733679718, -1.6087824575148124, 0.047262218454589555, -0.15625598756800008, -1.1588081434121325, -0.23443120967651648, 1.4984464253594691, -1.20409622421502, 0.029347155772127542, 1.582490992494059, 0.5237514106429383, 0.6112343367136128, 1.2016439328151916, 0.8764050320026101, -1.0251858481945493, 0.081807329130415, -1.257899582058673, 0.0070357861683376655, 0.2635834774574348, -0.46488257061507404, -0.8295022243619858, 0.01862892807491212, -0.32178886464274425, 0.26268210602993347, -0.9472145894836996, -0.6201325235038055, -0.5414531281956596, -0.20088718020845797, -1.4146614185574904, -0.43731445969508187, -0.84979946499894, 0.8451269101000605, -1.3332338457561423, 0.0657579221514262, 0.820290479719413, -0.7922677482993693, -0.49891330657944577, -0.5084085651661835, -1.6300626979595914, -0.14092485065643579, -0.9679610285960826, -0.23034984483640442, 0.1388018062005499, -0.14742721845644718, -0.009499201034954607, 1.7310403092299063, 0.7398327019840765, 0.9668911273603591, 0.8703895428334624, 1.2038683897687736, 0.6116277053433775, 1.026113541029012, -1.1731584410076774, 0.15176133286993876, -1.3251352179463423, -0.19268169313988115, 1.0510194965531554, -0.0332447018481834, -0.7941908247309875, -1.2523110955412335, -0.9442292782295678, 1.6728563220664345, 0.4848278741695764, 1.07243951837766, 3.0760034932659988, 0.46172534598854154, -1.8322316745476466, -0.38149603535778237, -0.5018747108767787, -0.7948437356152797, -0.9893219026407583, 0.9723458609473179, 0.8553170052253869, -0.24272188361196756, 1.3174888549871209, 0.8571752737671493, -0.5431312226697523, 1.3699600709945738, 0.29227439533215804, -1.382797872959314, 1.6764106591746264, -0.053938219392206554, 0.6774085352183895, 1.3353843359587358, -0.6135307727521626, 0.44680827565735837, -0.42677649785959787, 0.7007567907520075, -0.06913583295535008, 0.9149588973982773, 0.6994466375992862, 0.9422759608747306, 0.5441895771696088, 1.2968642186423294, 0.020587208010789726, 0.015901097610875825, -0.0656501071559703, 1.139853846268951, -0.525010899118453, -0.8898380070983962, 0.7254678997029584, 0.9764359998324321, -0.5598801387416638, -2.2742903493607045, 1.7737865214931778, 0.25177130951802507, 0.3514399465841536, -0.37545140316824777, -0.7897467616979426, 1.3615757513543691, -0.38332994630145234, -0.20385541836766263, 0.0440869333155649, 1.0291431722704734, -1.0749326890790707, 1.3187601797115638, 0.1365030101144524, 0.18682667367519157, 0.9575060300943712, 0.29279955595376694, 0.2099231136860572, -0.7533130363859781, 0.16967697227929632, 0.38048093027549046, -1.2531252734126652, 0.310703037158915, 0.6267500272371619, -0.6739424195211864, 0.037252154743328436, -0.24063191458511113, -1.4940431094158972, 0.18564411637416045, -0.008165727519267918, 0.6123836451428855, -0.9989091935104207, 0.19546456274425805, 0.43223603677265054, 0.30808745503635404, 0.24664145677580473, -0.05144359612347427, -0.19346221009195963, 0.062158805803431694, -0.7368322118544612, 0.13718965615881712, 0.008889544628629786, -0.9941751816478743, 1.7550620897523534, -0.201103023764021, 0.43660674824111534, -1.4355194042419108, -1.4066794560700855, 0.23041142412519577, -0.12593296675088528, 0.1310164804323608, 0.6485459082977139, 0.7453323336395314, -0.1745287956791748, -0.777196107591556, -0.40797178994513666, 1.306515360260372, 0.5938236714839462, 1.8793273528926464, -0.12348053480849686, -0.11333375528276668, -1.7011142999907114, -0.26875588904761805, -0.7392230779792359, 0.8114797820158145, 0.610200339962059, -1.976685141896285, -2.003381627870889, 0.29905717305392626, 0.5733451273824111, 0.19237040218162588, -0.4425179035554411, 0.4029673120910128, -1.3140974624872332, 1.1984949485349305, 0.45470173363468214, 0.40267289725418354, 0.5249572724479173, 0.6673745321343121, 0.702734803083543, 0.5808275512305595, 0.27393427693065353, 0.9901288509706563, -0.36202848862266634, -0.5423114970379674, -0.0936003501960819, -0.44806194591722476, 0.38464840591472305, -1.670948393898628, 0.35986643218525416, 1.0619257406162352, -0.4806152632033047, 0.8350527657983582, 1.7404187276721692, 0.09694106474397685, -0.1856674149501386, 0.6494840644648463, -1.0471562916901553, -0.02130719648966377, -0.8599250558819727, 0.9587187849336783, -0.5019044168082167, 0.07250142472251642, -0.17836710068133121, -0.3990098876665273, 0.15334893053827292, -0.2706439350748696, -1.1419122464815272, 1.7530296982083677, -0.8433046156019944, 0.12699917566823285, -0.5026232682991063, -0.31130891568098784, 0.9792261650871176, -1.0306157659569477, 0.651851720180883, -0.45311480341697563, 0.7648743800988552, 0.22607848613782436, 0.7173373206065339, -0.6209206869182615, 0.29970175783040803, -0.5940039841157974, 0.07594515930728907, -1.9717307850226038, -0.7718143386041216, -0.7270931207376984, 1.3117674249882973, -1.116703636811389, -0.03484163317763536, 0.0018961733656532864, 1.6953382096269394, -0.8503263923735405, -0.5142372976696019, -0.07312268684607393, -1.1445578616334948, 1.1050016649923855, -0.29592718019673886, -0.09038744557598388, 0.7327949246297087, -1.6647809553001287, 0.768215477761746, 0.10165425348593236, -0.663101747680011, -0.46094033973376547, -0.11118086000392013, -0.17639826247768942, -0.702636935556507, 1.3244652421881595, -0.02812095613353116, 1.085351298491112, -0.4673022632795911, -0.06321735588603539, -0.3976523627498889, 0.8012447678057064, 0.28074564909230104, -0.6483921993588889, 1.1461854652038737, -0.9965998480606508, 2.116187810740577, 0.24123871203976, 0.12062862822108983, -0.7533384574298922, -0.6462681224594535, -1.109133304980203, 0.27198360752530204, 0.9084938970763955, 1.1974829056710556, -1.557977666611618, -0.11946438637389645, -0.17190617663866004, 0.6095595409785881, 1.1415764944406421, 1.4052939054815539, 0.16695800781268103, -0.42406690292899657, -0.12911384308653973, -0.005706023812370786, 0.7352850543409438, -1.7088625608172645, 0.8277902525560308, -0.6895138534537615, -0.48074689187508457, 0.27454736465269036, 0.5068457216219251, 0.12569172583970167, 0.37565282686230894, -0.17726266659463297, 0.4755742732237558, -1.0478062213419579, -0.5372959327922098, 0.366374133084729, 1.024297689320134, -0.036413139300569886, -0.12799487596830916, 0.3866133876968505, -0.5286829176557672, 0.8461395970721151, 0.2230962990740502, 1.1585781270529703, 1.05425277401249, -0.6232618142953883, 0.00886539672513631, 0.5419850619794339, 0.658475437852128, -1.2315178290369968, -0.8116104418097113, 0.17567478862543773, 0.9617959669256975, -1.0159250917068752, -0.03024418723581812, -1.199572246180068, -0.010266710258588274, -1.0498281554794189, 0.0856858213994528, -1.3680855635451132, 1.0334582060036124, -0.6978024355793013, 1.0818222926793468, 1.4343023927926999, -0.5892887860353083, 0.6047118599865845, -1.5533180908963913, -0.4346116013198711, -0.8167358814416477, 0.384391487629487, -0.1097637613380491, 2.93770055189817, -0.8224849272560051, 1.4763255110784692, 0.4852354541382312, -0.5032192977003394, -0.4652631251765818, 0.6150729380710592, 0.08729400453218172, 1.6477419112805578, -0.15290513470508782, -0.5143872986333582, -0.07325350648314066, -0.4318273156618995, 0.2615091997984786, -0.7450298350623753, -1.4943225045825121, 0.6327476767056818, 1.8586970534040341, 0.8394152756275504, 1.0255097191167784, -0.6283678582611851, -0.9779281557372663, 1.1608210166685282, -0.16140643454532966, -0.7261888141801869, 0.6775266828646894, -1.2792578633783422, 0.8676822815164908, 1.4350094138301563, -0.41143880981365455, 0.5102564756536373, 0.07208311168872594, -1.2388847127070224, -0.9286236692689447, -1.9325727510615538, -0.06833588869713603, 1.4749008872415994, 0.03788584839084452, 0.7365113304366422, 0.7943992138850011, -0.4151220292950435, 0.2218669488781671, 0.02079375242759629, -2.3428582099915705, -1.0354510851037144, 1.1665231863723913, -0.6516327025786479, -0.39656239958139383, 1.1674437777975004, 1.8628264543316264, 0.6952822619343633, -0.5083608764031898, -0.12587898018346555, 1.34243838608672, -1.5940687514472895, -1.8995340409013899, 1.076417902678907, -0.2083756313805747, -0.9975667169089885, -0.3450246150181595, 1.3279491458915362, 0.09767292837487451, -0.3583607569095544, 1.4706455710621646]\n",
            "  Newton:\n",
            "    Iterações: 1\n",
            "    Tempo: 0.051286 s\n",
            "    Ponto final: [-0.48136054576910914, 0.06183193570429121, -1.119277588752346, -1.8505562415968226, -0.1612705500895873, -0.12161793387697006, -0.4126054630838345, 0.7072088487334225, -1.2774325499718913, -0.4416278789891002, -0.7790116928491675, 0.8559981843816522, 0.21431957463670548, -1.636596891699862, -1.3307284764925273, 0.9427975574471588, 0.5474175985777858, 0.6485924186368878, -0.746407042584722, 1.7372265956287132, 1.0453023247671378, -0.5925546097742326, -0.1742734489373465, 0.44481116326560377, -0.5160836780474058, -1.1859225884303066, -0.4041655185015305, -1.8014147642432243, -0.8390967820615224, -1.3291117892778077, 0.8836092662670534, 0.4005246272840939, 1.4380473535297749, -1.089196613853323, -1.0882124577596195, 0.48058085419595237, 0.7674107484494813, -1.0605496620691073, 0.7080981603173389, 0.5447432395526869, -1.218630967979449, 0.2555627056705664, 2.026693771352979, -0.2856164526491721, -0.7867519865672616, 2.7445657486618593, 1.6551897084657485, -1.3445620669165177, -2.102881357678372, 1.1450770175601908, -0.56203965801919, -0.8236615056780703, 2.3884220146511135, 0.5101430605211176, -0.6699997477845421, -0.5426858087474902, -1.351347785760775, 0.9015189970908115, 1.0315077937263792, -2.135747050466116, -0.295508844052655, 0.1343150527891397, 0.6558512043206838, 0.11301505839655046, 0.4528404311397116, -1.9183781893187752, -0.7279756261467599, 0.6568603340640489, -0.40004697860046057, 1.3301482112811935, 1.899331852740429, -1.0012413784902365, -1.4806628198502798, 0.21275902907028812, -1.2021722958874188, -0.146579115323316, -1.5415704984845149, -2.1655753651986354, -0.7910274694728943, 1.6903619828782461, 0.6719733107668511, 1.3226153177545399, -0.803712329743882, -0.8554981870679812, -0.4695405788809781, 0.4191552783651376, -0.7036405554779106, -0.659469032024798, 0.08938215701406826, 0.4880687196433331, -0.4020349181405607, -1.0437991250067478, 1.4135809996132642, -1.2689622276719155, -1.3249013962765699, 0.23567003229308886, -1.2321231312938967, -0.8590695608082051, -2.388167146301676, -0.6541661187698772, 0.8524116270562727, -0.4855175888254103, 0.2642146169644515, -2.6006280219105973, -0.7086799490183209, 0.8460988759249317, -1.3831063480645518, -0.46366706899023047, -2.428990031796805, -0.7808945405528116, 1.2954377179746166, -2.5167766578489426, -0.943413476863364, 0.6671254772567039, -1.5754348975788621, 1.171869479258967, -0.4046029833677114, 0.01671308492126866, -0.4669453661544881, 0.5895059889240502, -1.6907213080822134, -0.15308393746265936, -0.5791821982600349, -0.5157123915644138, -1.0027895692210107, -0.05207771252364817, 0.3526521101557891, -0.11786608362174655, -0.35129839106376404, -0.9741904108501133, -1.2669896947711061, 0.8043953109459658, 0.2870535897665911, -0.3677808542188761, 0.05342846979770066, 1.506876806140797, -2.334717032745036, 1.3368702139783746, 0.3967986610749583, 0.8207847200445884, -0.07709168601916516, 0.9083519602095997, 0.5618787919863132, 1.0070991779224279, -2.3281397251056837, -1.2307734054901827, 0.1871041475143953, 1.875306299551589, 0.8733666467081809, -1.1091081016139972, -0.2215326602329408, -0.7951105598797826, -0.28113682434575693, -0.6624874347791334, -0.3090928562680728, -0.8617486116881838, -0.3251466594142178, -1.0280124554543608, 2.2553441335168243, -1.8658340533760465, -0.8098078262333774, 1.1832046387334965, -0.45305736025969534, -0.5064093873321388, -0.033103574451109674, -0.21286896044283976, 0.5285591547605557, 1.0081346675319978, 1.150966762380114, 1.582681063349448, -2.2277906953972746, 0.9201467878581621, 0.3167255407866336, -0.5250589042535121, 1.9825961214632541, 2.9083759506794156, 0.9007933721379575, 0.2264018283050504, -0.18976013267221647, -1.7396095010295496, 1.669262112104175, 0.7653328858295944, 1.321645272217538, 0.521265982643716, 1.9067412147173057, 0.0948108204890416, -1.5609090033519517, 1.133275553141352, 0.389107127389523, 0.9691877224292325, 1.5777257639123246, -0.727891140819806, 1.3477756344582623, -0.007195887629833031, -0.05031589487293564, -1.6325569352504745, 0.49163479858454173, -1.1523308888322326, 0.6695239216558574, -0.11866087816457682, -1.7006501341359046, -0.7002998860983155, 0.37256147001748163, 0.041063736777042115, 0.17365119358068207, -0.8540332906494648, 1.5958396670496093, 0.2484692783403571, -0.6005933682491665, -0.7307812738230821, -0.8797569194534738, -0.6655208129010839, -0.024215366928286408, -2.369111835327439, -1.1976778209053731, -0.09039603885795089, -0.9935344251946868, 0.06570379078500177, 0.44243526556838686, 0.45528219652085783, -0.9958274217082744, -1.4148075609814874, -1.4534600536067137, -0.6160595733282022, 0.20114225229079463, 0.2243273242022915, -0.7424309905384192, -0.44415119195872355, 0.03566356332055576, -0.06766071360590287, -0.8605496171689235, -0.4640602134502283, 0.029733778594169924, -0.3094954352899024, -0.8037853149067737, -0.7757633782447537, 0.30890059300479444, 0.5970461545510315, -0.1012769754629127, -0.9179763473193002, -0.6309634632185452, -2.136458938266471, 0.7818033836973532, 1.6105937934607155, 2.654416733182441, -0.5286842481873492, 1.2234098098662622, -0.31716643534451744, 1.2281719052711215, 0.17285164827823835, 0.7322832956152784, -2.082064592867277, -1.152824648759808, -0.6545504832729486, -0.9617859437642233, -2.596124218447674, -0.18765597246468588, 1.8783696736848263, 0.10925696864852386, -1.7086743599065988, 0.20448423483759337, 0.562111490855097, 0.7716238270470279, -0.0215724933412913, 0.0329692620481874, -2.5938529922734936, 2.022854070999557, -0.33351744952735507, -0.6932849820521912, 1.3758216204274023, 0.06816799582089161, 0.17178959929273138, 1.2098040874378275, 1.0645208779164395, -0.2043058710856811, -0.024078638830738353, 1.4747401895453707, 0.8568972478791377, 2.4984078117280366, -0.3939635048797362, 0.9508985268916595, 0.3859842601374386, 0.36386198270590375, -0.8925775207006112, -0.46876478339426053, -0.013290359062485546, -1.7312289610769893, 0.1423283387633898, -0.24221472967991234, 0.33227971010571306, -0.266721070397241, 0.45668835645494155, 0.9315942889754374, -0.41450209341580396, 0.579100939690302, -0.7376167997891256, -0.2529971085548446, 1.3197218115236726, -0.4035916521615259, 1.4335854839543811, 1.1872869839776872, -0.053660445413029056, -0.6047038375760037, 0.34718003356024957, -0.15776259132146825, -0.32802897378302975, -0.8757305993901221, 2.19042522792393, -0.09088980279541481, 0.09016728171864741, 3.2082214354389706, 0.41209369365341275, 0.9520302862920648, 1.1603169249893122, -0.9118970666394043, -1.08975975837168, 0.6118604176118846, -0.9716331883659794, -1.352037345797448, 1.402689380629163, -1.230949823517136, 0.9510143778915261, -0.44206227240233176, 1.201296824436919, 0.4922467680608822, -0.24262905037825466, -0.9218351340202515, 0.12375972278283309, -1.1947206139023063, -1.7624268524895226, 0.06541306918228207, 0.5178386111171981, 0.9481611798008638, 1.6027997797474167, -2.4448261216101232, 1.7497539855171091, -0.6546265858928706, -1.1181134356471434, -0.711398443770549, 0.1531799683817959, -0.3439149954461673, -1.4970186493765956, 1.0806745932518733, 0.6778003765881615, 0.9912351797746466, 0.3415675495479208, -2.5719478682029413, -1.342197665385281, 0.6496410485941368, 0.6235594271478395, -0.5229304984564775, -0.35969360759410085, 0.02477802528013484, -0.44714493808636413, -2.341735008692237, -1.4812965366574473, 0.5789902882495583, 0.5947485988981422, 0.05925786153821866, 1.2766445155780402, -0.29550325436205327, -0.8460440044904738, 0.3026265861069266, 0.5368638318853038, -0.5797375177083346, -1.4476222492491226, 1.0324840300677072, 0.45905894492474, 0.12089993070232485, 0.29110040508897644, 1.6525081109420363, -1.238908949197227, -0.6308188150829395, -1.1768521247655181, 1.373273960025852, -0.709022742094681, -0.782665070411283, -1.4493358834081902, -1.618537243746536, 1.0566690106261878, 0.08659144568347588, 0.4646521837583394, -1.093211158898935, 1.0742936012399737, -0.06688435360119416, -0.05831190100277517, -1.2575120454828133, 2.01682731385271, -0.6811457194022981, -0.9875232889283255, 1.2662434138444318, 0.6064781632332752, -0.3986500453301167, 0.10188603050397993, -0.12282756975085929, 0.9756772684137934, -0.36625048383025605, -0.5285441948787225, 0.4174827831222049, 0.2515817449470794, -1.0947034109611762, 0.5034247989779532, 0.0075740291423583295, -1.1335242111115666, -0.3842141383618884, -0.7009761903304371, 2.210737704033263, 0.9920857356592977, -1.5487207043912927, 1.82604053735277, 0.5958536970101993, -0.1360489487184618, -0.657983777322718, -0.6697304349441766, -0.08589772800524513, 0.2221893231462529, -0.19852679196647194, -1.1829136089975938, -1.2135307536504971, 0.019451946203056014, -1.177655884739155, -1.499960475549558, -0.34429996226620774, 0.1343501587974658, 0.589933879949222, -1.1672989701357621, -0.7630794450535848, 0.42276267800573164, 0.011088706967097739, 0.7343519432724842, -0.30609293969157647, 0.1649451578357251, -1.6509033044215176, 0.8742461863849035, 0.5227617698940517, 0.64773708087177, -1.7291059439466372, -0.5073257062696707, -0.5953618810435675, 0.8440655965032724, -0.028769683395936718, -0.03272335342870686, 1.8634121865877142, -2.6393322300059427, 0.8116250233995055, -0.7024704251058056, -0.5227145385426948, 0.6161050166482649, -2.20430342742094, -0.5332542951903112, -0.9410146676162501, 0.40557947786746174, -1.2617210488625015, -0.6331409339681079, -2.2222534044459223, 0.1656165907747038, 1.4794689295513734, -0.8704795193845165, -1.3067030783787923, -0.09242669769756473, 0.6165377807323555, 0.8258221253549388, 0.13335077249785443, -0.7929122095979854, -0.6749854428392035, 0.15067234343067265, -0.3584641339344, -0.8179857726256113, -0.5122380878660998, 0.011855668962107435, 0.8672829779481006, 1.3496221839228715, -1.3918952482186422, -0.8247187470727723, 0.5744472251147825, 2.240700512894591, -0.5861663381781967, 0.14000597335669163, 0.3991354387687333, 1.0546079742322645, 0.8838330760797756, -0.9111879250724731, -0.6978818586092226, 0.8333288398521375, -0.3851622934289022, 0.3262885779126776, -0.5468546319020486, 0.495158963530968, -0.2868863018024162, 0.5576848221194434, 0.28724460847969846, 0.5839466030952611, 2.0249643382516016, -0.8815840254064393, -0.12463903432233003, -0.004114211950290381, 0.9695262768258043, -0.5115079644098505, 0.3334901845115475, 0.4360686370012161, 0.44811072485939296, 0.7135389227786402, 0.7986802104647639, -0.5488673792453267, 1.2395235957293802, -0.23028314471389333, 1.1329556436159227, 0.2767961651215973, -0.3097264855114008, -1.7385257426860008, 0.02590280109750498, 0.058273763433050796, -0.5679029215588085, 0.8656340281628516, -0.17179988763428056, 0.7053842477592569, -1.563035258797026, 0.03800077144418934, -0.3750195749625489, 0.6494738327613567, 0.42817287794994185, -0.16104159371352234, -0.27760334808607334, 1.3553336749715603, -0.2800176390940736, 0.5341164464302213, -0.2351369617430666, -0.34440298735353403, 1.0063516028019528, 1.5478055482781703, -0.29312918977127533, -0.3555073763872658, 1.526979324725108, 0.12277574209065989, -0.5430728271515759, -0.47357931629207006, 0.11888028615358492, -0.7906657274433846, -0.6619920877290362, -1.5032182662696525, 1.679936282706321, 0.7144530532760823, -1.2645923989111412, 0.4800266182061914, -0.6135444315363796, -0.394457010162109, -0.5170903735910857, -1.1690624719309788, -1.010154604738028, -1.3753675967129038, 0.39828460040073976, 0.2971902170914116, 0.4100015816467799, 2.6999162876104172, -1.100948165310749, 0.22671870867310173, 0.8784634070132222, 1.0314437276112127, 1.7812695817884379, -0.2314458391214398, -1.3811768515476106, 0.5277734211397604, 0.11344502339688989, -0.7316851108951409, 1.3482481864505063, 0.1342295684657724, 1.854690006517887, -0.6391770643345936, 0.4876736863782336, 0.39525378325332516, 0.9670713805274243, -2.2392795779135346, -0.4775607362279932, 1.5315005320309591, 1.1533611221326696, -0.2904352254026942, -0.48881438504016755, -0.5405013473805063, 1.1124339191081931, 0.20760654585839355, 2.523828312328468, 0.6533322874651925, 0.6578212721065331, 0.971996800197807, -1.0565631065499108, -0.5148886107227554, 0.2695345202588354, -0.023393175160502322, 1.8914515777499388, -1.4537608392976888, -0.6448940459944111, -0.7444858298414964, 0.512602525570228, 0.42361543845991684, 0.2699982352066428, -1.7272073111749386, 2.1995654631529615, -0.05701230863323972, 1.8068931614995485, 0.803616599701872, -0.7163645588568726, 1.0757177281284265, 2.1368178537644753, -0.9488961741540891, 0.8617685428954753, 0.8139448803931639, 0.7167639733679718, -1.6087824575148124, 0.047262218454589555, -0.15625598756800008, -1.1588081434121325, -0.23443120967651648, 1.4984464253594691, -1.20409622421502, 0.029347155772127542, 1.582490992494059, 0.5237514106429383, 0.6112343367136128, 1.2016439328151916, 0.8764050320026101, -1.0251858481945493, 0.081807329130415, -1.257899582058673, 0.0070357861683376655, 0.2635834774574348, -0.46488257061507404, -0.8295022243619858, 0.01862892807491212, -0.32178886464274425, 0.26268210602993347, -0.9472145894836996, -0.6201325235038055, -0.5414531281956596, -0.20088718020845797, -1.4146614185574904, -0.43731445969508187, -0.84979946499894, 0.8451269101000605, -1.3332338457561423, 0.0657579221514262, 0.820290479719413, -0.7922677482993693, -0.49891330657944577, -0.5084085651661835, -1.6300626979595914, -0.14092485065643579, -0.9679610285960826, -0.23034984483640442, 0.1388018062005499, -0.14742721845644718, -0.009499201034954607, 1.7310403092299063, 0.7398327019840765, 0.9668911273603591, 0.8703895428334624, 1.2038683897687736, 0.6116277053433775, 1.026113541029012, -1.1731584410076774, 0.15176133286993876, -1.3251352179463423, -0.19268169313988115, 1.0510194965531554, -0.0332447018481834, -0.7941908247309875, -1.2523110955412335, -0.9442292782295678, 1.6728563220664345, 0.4848278741695764, 1.07243951837766, 3.0760034932659988, 0.46172534598854154, -1.8322316745476466, -0.38149603535778237, -0.5018747108767787, -0.7948437356152797, -0.9893219026407583, 0.9723458609473179, 0.8553170052253869, -0.24272188361196756, 1.3174888549871209, 0.8571752737671493, -0.5431312226697523, 1.3699600709945738, 0.29227439533215804, -1.382797872959314, 1.6764106591746264, -0.053938219392206554, 0.6774085352183895, 1.3353843359587358, -0.6135307727521626, 0.44680827565735837, -0.42677649785959787, 0.7007567907520075, -0.06913583295535008, 0.9149588973982773, 0.6994466375992862, 0.9422759608747306, 0.5441895771696088, 1.2968642186423294, 0.020587208010789726, 0.015901097610875825, -0.0656501071559703, 1.139853846268951, -0.525010899118453, -0.8898380070983962, 0.7254678997029584, 0.9764359998324321, -0.5598801387416638, -2.2742903493607045, 1.7737865214931778, 0.25177130951802507, 0.3514399465841536, -0.37545140316824777, -0.7897467616979426, 1.3615757513543691, -0.38332994630145234, -0.20385541836766263, 0.0440869333155649, 1.0291431722704734, -1.0749326890790707, 1.3187601797115638, 0.1365030101144524, 0.18682667367519157, 0.9575060300943712, 0.29279955595376694, 0.2099231136860572, -0.7533130363859781, 0.16967697227929632, 0.38048093027549046, -1.2531252734126652, 0.310703037158915, 0.6267500272371619, -0.6739424195211864, 0.037252154743328436, -0.24063191458511113, -1.4940431094158972, 0.18564411637416045, -0.008165727519267918, 0.6123836451428855, -0.9989091935104207, 0.19546456274425805, 0.43223603677265054, 0.30808745503635404, 0.24664145677580473, -0.05144359612347427, -0.19346221009195963, 0.062158805803431694, -0.7368322118544612, 0.13718965615881712, 0.008889544628629786, -0.9941751816478743, 1.7550620897523534, -0.201103023764021, 0.43660674824111534, -1.4355194042419108, -1.4066794560700855, 0.23041142412519577, -0.12593296675088528, 0.1310164804323608, 0.6485459082977139, 0.7453323336395314, -0.1745287956791748, -0.777196107591556, -0.40797178994513666, 1.306515360260372, 0.5938236714839462, 1.8793273528926464, -0.12348053480849686, -0.11333375528276668, -1.7011142999907114, -0.26875588904761805, -0.7392230779792359, 0.8114797820158145, 0.610200339962059, -1.976685141896285, -2.003381627870889, 0.29905717305392626, 0.5733451273824111, 0.19237040218162588, -0.4425179035554411, 0.4029673120910128, -1.3140974624872332, 1.1984949485349305, 0.45470173363468214, 0.40267289725418354, 0.5249572724479173, 0.6673745321343121, 0.702734803083543, 0.5808275512305595, 0.27393427693065353, 0.9901288509706563, -0.36202848862266634, -0.5423114970379674, -0.0936003501960819, -0.44806194591722476, 0.38464840591472305, -1.670948393898628, 0.35986643218525416, 1.0619257406162352, -0.4806152632033047, 0.8350527657983582, 1.7404187276721692, 0.09694106474397685, -0.1856674149501386, 0.6494840644648463, -1.0471562916901553, -0.02130719648966377, -0.8599250558819727, 0.9587187849336783, -0.5019044168082167, 0.07250142472251642, -0.17836710068133121, -0.3990098876665273, 0.15334893053827292, -0.2706439350748696, -1.1419122464815272, 1.7530296982083677, -0.8433046156019944, 0.12699917566823285, -0.5026232682991063, -0.31130891568098784, 0.9792261650871176, -1.0306157659569477, 0.651851720180883, -0.45311480341697563, 0.7648743800988552, 0.22607848613782436, 0.7173373206065339, -0.6209206869182615, 0.29970175783040803, -0.5940039841157974, 0.07594515930728907, -1.9717307850226038, -0.7718143386041216, -0.7270931207376984, 1.3117674249882973, -1.116703636811389, -0.03484163317763536, 0.0018961733656532864, 1.6953382096269394, -0.8503263923735405, -0.5142372976696019, -0.07312268684607393, -1.1445578616334948, 1.1050016649923855, -0.29592718019673886, -0.09038744557598388, 0.7327949246297087, -1.6647809553001287, 0.768215477761746, 0.10165425348593236, -0.663101747680011, -0.46094033973376547, -0.11118086000392013, -0.17639826247768942, -0.702636935556507, 1.3244652421881595, -0.02812095613353116, 1.085351298491112, -0.4673022632795911, -0.06321735588603539, -0.3976523627498889, 0.8012447678057064, 0.28074564909230104, -0.6483921993588889, 1.1461854652038737, -0.9965998480606508, 2.116187810740577, 0.24123871203976, 0.12062862822108983, -0.7533384574298922, -0.6462681224594535, -1.109133304980203, 0.27198360752530204, 0.9084938970763955, 1.1974829056710556, -1.557977666611618, -0.11946438637389645, -0.17190617663866004, 0.6095595409785881, 1.1415764944406421, 1.4052939054815539, 0.16695800781268103, -0.42406690292899657, -0.12911384308653973, -0.005706023812370786, 0.7352850543409438, -1.7088625608172645, 0.8277902525560308, -0.6895138534537615, -0.48074689187508457, 0.27454736465269036, 0.5068457216219251, 0.12569172583970167, 0.37565282686230894, -0.17726266659463297, 0.4755742732237558, -1.0478062213419579, -0.5372959327922098, 0.366374133084729, 1.024297689320134, -0.036413139300569886, -0.12799487596830916, 0.3866133876968505, -0.5286829176557672, 0.8461395970721151, 0.2230962990740502, 1.1585781270529703, 1.05425277401249, -0.6232618142953883, 0.00886539672513631, 0.5419850619794339, 0.658475437852128, -1.2315178290369968, -0.8116104418097113, 0.17567478862543773, 0.9617959669256975, -1.0159250917068752, -0.03024418723581812, -1.199572246180068, -0.010266710258588274, -1.0498281554794189, 0.0856858213994528, -1.3680855635451132, 1.0334582060036124, -0.6978024355793013, 1.0818222926793468, 1.4343023927926999, -0.5892887860353083, 0.6047118599865845, -1.5533180908963913, -0.4346116013198711, -0.8167358814416477, 0.384391487629487, -0.1097637613380491, 2.93770055189817, -0.8224849272560051, 1.4763255110784692, 0.4852354541382312, -0.5032192977003394, -0.4652631251765818, 0.6150729380710592, 0.08729400453218172, 1.6477419112805578, -0.15290513470508782, -0.5143872986333582, -0.07325350648314066, -0.4318273156618995, 0.2615091997984786, -0.7450298350623753, -1.4943225045825121, 0.6327476767056818, 1.8586970534040341, 0.8394152756275504, 1.0255097191167784, -0.6283678582611851, -0.9779281557372663, 1.1608210166685282, -0.16140643454532966, -0.7261888141801869, 0.6775266828646894, -1.2792578633783422, 0.8676822815164908, 1.4350094138301563, -0.41143880981365455, 0.5102564756536373, 0.07208311168872594, -1.2388847127070224, -0.9286236692689447, -1.9325727510615538, -0.06833588869713603, 1.4749008872415994, 0.03788584839084452, 0.7365113304366422, 0.7943992138850011, -0.4151220292950435, 0.2218669488781671, 0.02079375242759629, -2.3428582099915705, -1.0354510851037144, 1.1665231863723913, -0.6516327025786479, -0.39656239958139383, 1.1674437777975004, 1.8628264543316264, 0.6952822619343633, -0.5083608764031898, -0.12587898018346555, 1.34243838608672, -1.5940687514472895, -1.8995340409013899, 1.076417902678907, -0.2083756313805747, -0.9975667169089885, -0.3450246150181595, 1.3279491458915362, 0.09767292837487451, -0.3583607569095544, 1.4706455710621646] \n",
            "\n",
            "Dimensão: 1000, Caso: two\n",
            "  Gradiente:\n",
            "    Iterações: 16\n",
            "    Tempo: 0.028742 s\n",
            "    Ponto final: [-0.45071905389432354, 0.12430949094927457, -0.38594777104766476, -0.18490560528845368, 0.13503330595865193, -1.0794692059363284, -0.017596899357899876, -0.46527235377901, 0.09771826931453065, 0.8625958594543706, 0.188293589310706, -0.007876597645126604, -0.20778308946477342, -0.5066554499904564, -0.1476455798195852, 0.0029712126551477702, -0.05575951880945218, -0.12754335770771658, 1.0739999672564218, 0.26448837555299787, -0.19703253934069975, 0.07903324272142115, 0.47697064178213, -0.14898520652880587, -0.033136680337578106, -0.5894298064817233, -0.05206156768760706, -0.2610906377472104, -0.13321698267188786, -0.3507452492728357, 0.1420673580468875, -0.25423864094166165, 0.2179509168632674, -0.6730481731921225, -0.004870115842831257, 0.2488271474791478, 0.04494899941042767, -0.015230726727763488, 0.1838905885619151, -0.10758400818802105, 0.6663429893502439, -0.25652971937144387, -0.238323944760662, 0.17322102487778934, 0.05970323139116185, 0.2634290015735382, -0.7519353362667164, 0.027500362175621962, -0.3706008293925663, 0.2406619121784857, -0.4018259182526276, -0.2535746099831343, -0.4118473844355733, 0.28124143468388263, -0.0919550822064632, -0.13690069697282237, 0.09431712096878808, -0.4261352009207723, -0.170064797891401, -0.22526722838209667, -0.03841269934697589, -0.21303228333078705, -0.06465990169806718, -0.8369771146079745, -0.081055788630499, 0.022653076808985095, 0.2502132184128627, -0.06626553555825077, 0.7537674962495637, -0.1248400943150165, -0.5042525875592239, 0.3502029113776723, 0.005024788451585049, -0.1097747609922114, 0.04705870765216602, -1.0844210675043093, 0.6108574885955605, -1.0747389707441126, 0.31722267372097285, -0.6281852907181771, 0.001240828470104094, -0.26408819507421244, 0.1941141258615957, -0.026179728079969086, -0.1386081552743857, 1.0176972899985268, 0.47184143862062494, -0.10595273498978319, -0.17711738382872133, 0.0896606374896588, 0.34596748148734136, -1.2506168386738234, 0.12717966884684045, 0.00927634394802257, 0.19613240941147447, -0.2805026779225108, -0.05620528736720576, -0.488767463312635, -0.49659487677924896, 0.45042328327487946, 0.6848142063809425, 0.24560225647493217, -0.1779052972682461, -0.026144140669380048, 1.021364973084419, -0.21939287203846558, -0.00411923817029497, 0.15939488588999717, 0.0006361155339319469, 0.029892805092778696, 0.35489099792106127, -0.14210530364755258, 0.05155552915509948, 0.013507586979521494, -0.4288947057505679, -0.05017994764911693, -0.4802927304653051, -0.11336559483667216, 0.47329966976082916, 0.4076653500981672, 0.25375643925589797, -0.05451765676332476, 0.11601944181260121, -0.18132389816043792, 0.1397922275335879, -0.04003697616772328, 0.2311429974811137, 0.36310171136714675, 0.02352806104201033, 0.19368631053191632, -0.17896469632728398, -0.3292829904543535, -0.5255999535534561, 0.048425641132892605, -0.2957660574248614, 0.1793784257380332, -0.22682288321604294, 0.9339460696095712, 0.4310991912160412, -0.2658153876309619, -0.04875532221802808, 0.13641686188304813, -0.02962561361886662, -0.24190509417201606, 0.896995425750791, -0.5942984528213873, -0.12003846397307649, -0.47399416160797275, -0.024188329876035253, 0.18283125874576378, -0.0009809204352524414, -0.0938453017619032, -0.07239693692102808, -0.2851949899742925, -0.2687952488507075, 0.06455203036839557, 0.0826625457531952, -0.13623062951040532, 0.40598146832205123, 0.3753153835122607, 0.29804983503836446, -0.25276089584923667, 0.2714158449779537, -0.15482874437513122, 0.17216039009205097, 0.32008560032046174, -0.29171092654584796, 0.42344145637187547, 0.8471097144551584, 0.2047065183285568, 1.3867168939523349, -0.09439070556630663, 0.021779611639569874, 0.1820309843829256, -0.6120196322511811, -0.4835342456028506, -0.36046946304647576, -0.2250938374332514, -0.18684501175446763, 0.4093885950471716, 0.38174628708126196, 0.42482593329957163, 0.1945936701824971, -0.1938676297887199, -0.004307662111191601, 0.0929222356314171, 0.03677093058344694, 0.5429220472336743, -0.6633960864206927, 0.2525190496686712, -0.10178249004772333, -0.12652813192010173, 0.050735752758014716, -1.1123990219517992, -0.10734376581884719, -0.08821348339905793, 0.482543429663211, 0.9373105031102418, -0.03929464230421065, 0.370993802446709, 0.18569807704778007, 0.907367594850909, 0.2779583604764728, 0.3141231084030943, -0.059324072437619835, -0.1955430875805395, -0.7309543470439432, -0.00446427466467425, -0.0425128368066528, -0.160248726385124, -0.2080943550723402, -0.22836019932539853, 0.36920445926876067, 0.016259003712070674, 0.044160223683333444, 0.13341374393134892, -0.352723210263135, 0.5811849381951921, 0.10150005429181275, -0.40160250330662417, 0.01296165276354605, 0.2123536152212076, 0.5651352267878484, 0.2040375909290526, 0.3609449039251668, 0.6773707735962933, -0.19595202147706509, 0.17001726460493427, 0.24056873012055538, 0.2025627664962531, -0.04317338101134344, 0.043644526742633305, 0.07247459493975916, 0.030040302455210277, -0.5733273015835301, -0.15291710141877002, -0.47095117248377544, 0.5860473671253572, -0.22360978839443968, 0.009174718877233423, -0.38533042648674387, -0.29299063925748436, -0.2098601139916112, -0.026311773152832008, -0.5912732683014148, -0.07747287963168747, -0.322561529613552, -0.18899663112039577, -0.12097126911250577, -0.05094990761173257, 0.16302575764946603, -0.07251296219974046, 0.6300460570664391, 0.12121175611398965, -0.3037762329090492, 0.174316811568199, 0.31285465915103594, -0.02327446902396424, 0.4053516755364171, 0.20487690715948592, -0.277823958304836, 0.357490747883479, -0.11917109916057544, 0.545993305154267, 0.3941958168448338, 0.10268646621331379, -0.5128990309000796, 0.6823883130187518, -0.03315300779532904, 0.002549638295237633, 0.35502962834493434, 0.17879521952178346, 0.21271713723183872, -0.4163530769129798, -0.0035507036917848817, -0.07014429734161398, 0.4441405369695447, 0.11215465255726464, 0.18366431099020908, 0.3226316336977459, -0.042800013514347146, -0.5347328510702314, -0.3872402561839856, -0.14309188418161312, 1.3878749594420412, -0.014638022731474132, 0.07703524267678397, -0.1788175948228308, -0.14450477613888046, 0.19062066112282433, -0.194785038033354, 0.4841491167760917, 0.45233406315424524, 0.10978226611340036, 0.514632799756041, 0.4788894679454791, -0.18358197129191833, -0.471664811808943, 0.6166836932545716, 0.630052170191382, 0.5005917608522756, 0.3886821699308268, 0.05744703348682667, 0.3714232103191927, 0.24260805397902785, 1.6531868899895301, 1.1954999593120836, -0.3470195571392096, 0.2806618843919513, -1.109436680274269, -0.013315242028978824, 0.3408148789951202, -0.16278376433760466, -0.24385883688301657, 0.4000858046060367, 0.0809955615512597, -0.26927008558505083, -0.4249448473512006, -0.22344808552099388, -0.0895584704581508, 0.3240427210889856, 0.15340375963835706, 0.14832154213893067, -0.05542307660999818, 0.2708943598840633, -0.9937816865673141, 0.2612759658915309, -0.341566309908776, 0.15937747504703736, -0.07278459189739328, -0.03715689386995158, 0.800566953761038, -1.1521738729188504, 0.05527490074809398, -0.22604127618173686, 0.3656776242393476, 0.6745234202272529, 0.3800962679092773, 0.0020785361820692128, -0.01927604452280529, -0.7410256047500529, 0.2575700692727988, 0.276228032143529, 0.36775851169323187, -0.6866658758740753, 0.30859215045068367, -0.20027335315143957, 0.05065394155803904, -0.1353550244577193, 0.5746831371925274, 0.10600559293685852, -0.5095488837919778, 0.3005633351413444, 0.20653363621728138, -0.1622756798862135, -0.08607907290979178, -0.11255607432870485, -0.10635764997053354, -0.7789942998534626, -0.19397214735134716, -1.082354965981393, 0.11737659811793821, -0.4929989274305062, -0.13730534790335125, -0.19254903969905202, -0.39087878478080257, 0.5918108945897358, 0.20869053347802935, -0.35550020408076843, -0.9048207595830029, 1.033575601496666, 0.19360845249910463, -0.24741933501771812, 0.051633993080417884, 0.591673663649505, -0.22317224890782683, 0.4281405310931752, 0.050887161214963395, -0.15098891361747668, 0.14172805640199732, -1.5500318490934641, 0.010761453755036454, -0.9787948042328696, -0.06741065898243642, 0.5583030002371508, 0.018355636084119276, -0.19355442427366973, -0.09908870837032946, -0.11276198024546541, 0.34703421412284036, -0.2604957995047247, -0.3104917984592392, -0.06346420780427742, 0.15184876729103558, 0.21538301394248482, -0.8449765538409213, 0.38784728448194805, -0.23999836792506013, -0.18662512687242216, 0.024663273198994973, 0.0709789472121819, -0.5116882770064677, 1.2271361173388065, -0.3610757366103723, 0.033961295876733355, -0.04823358853547756, -0.1346295980158116, 0.2564162430341172, -0.14636011009716843, 0.20428777790312402, -0.021845468568389426, -0.2581439708484631, -0.0029673882705434362, 0.21043760201557, 0.11273336998403649, -0.12758001516491468, 0.4386742005976676, -0.7116190347026428, 0.13709236883133835, 0.7100740669840768, -0.05912856074928152, 0.008945145870397964, -0.28024407446906585, 0.34879550403186954, -0.5498220568048364, 0.14968565341916884, -0.10187033667769496, -0.2053266405344778, 0.12084838349142801, -0.6896280459243416, -0.2156989816828052, -0.44342875750830024, 0.17485194257072967, -0.19875480280233404, 0.8626653198865435, -0.02013348845359375, 0.4242671585106118, 0.1805438791743445, 0.13314309316816308, -0.008680688257298286, -0.20610298916838177, 0.4986074969080564, -0.28644002364479704, 0.5247305749573387, -0.6798685127922678, -0.4371252181631846, -0.21513774246675307, 0.19995346575594092, -0.123258078891334, 0.03863307884743883, -0.11154495316872093, -0.22100116295131667, 0.3390044885779786, 0.47933030303019125, 0.13621707725673285, 0.11268796198686393, -0.6896404209695176, 0.06024038015792604, -0.11212989734303269, -0.0693927763985327, 0.3470001800345899, 0.028535101410438246, -0.1366899602731908, -0.09233142741324568, -0.1283992057949269, -0.21533690307507092, -0.5519467763405985, 0.3430310814656008, 0.8487845438942552, 0.006107903123692582, -0.2515428149933559, 0.16134274572903562, 0.0575837748989777, 0.15560554322606598, 0.12870980831362033, 0.045609526695479685, 0.12469327598868185, -0.5513933040885652, 0.10159345934142683, 0.28368078186688983, -0.43489949909476966, -0.17498152320472882, 0.2974464207104921, -0.04270351897554692, -0.41245076783231305, -0.15264449521687684, 0.6362011813526998, 0.062031512541262046, 0.05748153365744335, 0.09369129571188356, -0.5778055497894073, 0.14491310409654876, -0.005144180192647507, -0.05569563921546061, 0.4726166089973296, 0.13437982547291316, 0.07666873020105408, 0.6989522371304917, 0.18703933466507228, 0.7975732005050469, 0.2948662895082106, 0.3333906609940962, -0.018840529231633596, -0.44796268150532015, -0.7004292475872042, 0.04242955650138125, 0.06553587524553306, 0.1684844020078416, 0.2792377408770079, -0.15432013957802065, 0.032954769624938596, -0.2559613381114392, 0.20709872860623946, -0.6003742928898439, 0.09682029449577101, -0.04397352887090966, 0.26885128189004726, -0.05570495392707464, 0.049347256615455734, 0.29584835140016974, 0.5047537772307222, -0.3345465415611497, -0.19139489214526972, 0.5289198046780469, -0.2329785697991409, -0.10632454242820133, -0.2217019335244681, -0.08297957189585342, 0.3541950266014804, 0.1438090594796665, 0.14160290370279305, 0.6629235650298605, -0.09971321789479393, 0.41743656191425194, -0.07666418018927207, 0.25240507542522544, -0.831332426816942, 0.28353127064734795, 0.4058985601124106, 0.17167936823551422, 0.22030798675195332, -0.03537449386386815, -0.4933311309830768, 0.09998394430931423, -0.1640857759041996, 0.05570523332941474, 0.8157738116028017, -0.23315861960937076, 0.005854940689117516, -0.38373601667119006, 0.4715455252246572, -0.03494003855963215, -0.027285249949516838, 0.3285096811657366, -0.09130228448843081, -0.06536433177180606, 0.12949455705231028, -0.3849637420708564, 0.03490622758938744, 0.28927681070785516, -2.492072892601449e-5, 0.6872540717633366, 0.00041911210457845627, -0.4615496977849536, -0.6359510188678266, 0.12029804644066577, 0.4796478179359545, 0.7798891607487499, 0.3633881063736242, 0.7731619673962995, 0.31270116389619074, 0.04637824181795047, 0.4960454385698816, -0.866162284097083, -1.4964295100301719, -0.06233548688514526, -0.4380796195568435, -0.06269095826737647, 0.36481254660681195, -0.2261044186172123, -0.68094997366747, 0.10379853660554228, 0.15792547816757452, 0.2726805705176647, 0.13319673622074524, -0.0745902669662617, 0.22999966914247438, -0.03899831402995216, 0.06520614262329438, 0.02903809642963806, 0.11312526099906595, 1.0048657246599673, -0.4131329837265014, 0.401940656139364, 0.37860031904725866, -0.054470873033202416, 0.7058881883329717, -0.025116699364051698, -0.1339184030893774, -0.272156036540085, 0.25903317263094916, 0.2272754118716811, -0.03574712607494024, 0.9341379775211018, -0.27416706001258345, -0.3364639345658421, 0.10594325937147131, -0.6207719516187251, 0.04627492525356325, -0.11802836331836541, -0.16689717653824088, -0.2544427522251093, 0.1448870403983178, 0.09342043731504879, -0.2454489958926201, 0.42612766079162223, -0.29837647418974256, -0.22310271374185064, 0.60486290458111, -0.3966000465164446, -0.5210951336502853, 0.17288570168951345, -0.2575439241248427, -0.1484628818426068, 0.4477140098970105, -0.6213310065520583, 0.10857864628582978, -0.17543487223410123, 0.35648747444813245, -0.06329335474098152, 0.015363418713760901, 0.03119601579070791, -0.3189494434193264, -0.24247141383593052, -0.20680865853118358, 0.03856278922473272, 0.3234897337576076, 0.1176011143444014, -0.27842601512488524, 0.3331583096478198, 0.27308825864659325, 0.10715148457612866, 0.036851856908560965, -0.17475618986906838, 0.22903936717637624, -0.1293656101742374, 0.2715352389895571, -0.17756083751243334, 0.25266170732269533, -0.3760390328957164, 0.22976506238617916, 0.25951703341052007, 0.0316417866240859, 0.005246610084581493, -0.06880375603578881, 0.15508717229148955, 0.2762263449480068, -0.6756130111614765, 0.21354662656715873, -0.16500566006856388, -0.2782403005701119, 0.113412850079082, 0.3493429404605022, -0.49633999554642894, 0.11171886560778144, 0.6791778796917562, 0.08673104287269648, -0.7797638623682959, -0.3969998943318017, -0.46489400461697505, 0.1792791296034514, -0.0033406956131987187, -0.05438740441254675, 0.02821937955537701, -0.07597920523103452, 0.009151404299404975, 0.31184010873894974, -0.9393706756895694, 0.06686185823966029, 0.15668689602553032, -0.2255525596878234, 0.37539837664009723, 0.08458674226231522, -0.509671856156223, 0.11026077777282228, -0.7200091655356736, 0.3505609957940585, 0.043582970696456336, 0.05774748072644015, -0.09288475832603005, -0.036848850072023875, 0.1743874811674781, -0.06971706937712299, 0.3952676300418263, -0.35986272775830985, 0.3617788165725542, -0.24816595737156244, 0.7664908399827346, -0.16930518083264312, 0.7387261450772509, 0.08223843639918293, -0.42733466003882375, -0.029851443487164286, -0.08796847641883836, 0.06975251614881728, 0.2660622585204502, 0.025140613109715604, 0.3929704883635108, -0.09286241557463268, -0.07936499212975412, -0.09676199279243225, -0.4405620076206678, -0.3660520848218419, 0.06151096968145312, 0.02525778713313285, 0.051701682475412625, 0.24674974696638635, -0.22543229453419333, -0.00893912589949597, -0.16898460901304846, -0.3923464106108405, 0.6394002990053289, -0.5877476229691025, -0.34371992159376386, -0.0111036639323287, 0.029227346296154616, 0.5836564646799439, 0.09624765504766875, 0.21022546978525147, -0.24962458196237824, 0.5380883018359118, 0.3634863800215856, 0.04150519881752272, 0.4831713483601001, 0.323841929179166, 0.08096600435539417, 0.14873757635879023, 0.31009848600989853, -0.2721523859484851, 0.011935541276923034, 1.0307486984528247, 0.2758709279306939, -0.37914862403195887, -0.6231020973502093, 0.10454518467948115, -0.34137857761326584, 0.7572091227328582, -0.5575064489855919, 0.9257024198038799, 0.15048595328790937, 0.32692716607647765, -0.16148465542449353, -1.0260706620264537, -0.19160102128994905, 0.1540428899866889, -0.919644039347029, 0.2138062148016584, -1.3561598669476624, -0.03638004137366191, 0.36625771932128104, -0.0608294860984111, -0.17639374491048188, -0.057761339595043454, -0.409226121566281, -0.42898711333523754, 0.28772314963630385, 0.19172818439077244, -0.0054660930690169085, -0.1903410577512859, 0.37899979290662156, 0.07761694769488581, 0.09833187563497958, 0.06001104672303259, 0.11594108647132528, 0.10923301544210962, 0.1769415398299652, 0.19104098869737896, 0.16226536022166105, 0.13500605406513433, -0.7788248430528177, 0.09796486858966583, -0.2960093037540364, -0.3403692944895387, -0.4026126663127245, 0.3149178173393098, 0.20146987988970189, 0.059831514217356885, -0.1686812745791526, 0.168135620854157, -0.4286949887572027, 0.5158620557988952, -0.6265485975444592, 0.5767833032223462, 0.07045741163537067, -0.3733876382706367, -0.2267259021416579, 0.5690758133658937, 0.053959980773746974, -0.18577819988192948, 0.33142498355376987, -0.009059673812366054, 0.354044746294771, 0.1615637575001747, 0.06276933589350671, 0.09483192322221512, 0.0588174515836124, -0.2675114163646334, 0.02745737536843467, 0.39109909050673297, 0.1424465096825367, 0.025758769616463395, 0.09344385909178987, -0.27077419446540096, 0.15639104299739914, 0.2812544128970974, -0.21027521770364432, -0.14268915642163593, 0.8467957241848733, 0.8203166543678237, 0.05417713386302564, 0.3064383031060171, -1.0208036080525371, 0.2681748959907915, -0.0431059842032403, 1.0009086463459707, 0.5331687147499734, 0.06416366997651557, 0.6151748640388768, -0.2083379926200975, -0.4000646917186437, -0.4406315645571137, -0.2493589348649416, -0.2918307480984283, -0.26476339483278793, 0.18922782075530722, 0.6691323392250861, 0.5485651646211032, 0.43050200484178247, 0.03728571599105246, -0.012619581306649308, 0.19653083730236987, -0.037387470675566525, 0.3030735293965505, 0.8729200398268637, 0.39035413113080875, -0.7306111334140635, 0.32804173793609737, 0.10561500603516272, -0.17696803149765533, 0.11688136288268584, 0.011778812528164928, -0.18742574559817027, 0.13240741716374704, 0.12540612905268023, 0.2847904059080105, 0.10284106058489595, 0.9804251214500994, 0.08342340331448272, -0.036981748007575976, 0.2253930097102843, 0.09941524287855552, -0.12382121107343369, 0.09828616342224561, -0.9658152309256901, -0.3384435573051787, -0.08805109999115068, 0.4402725882930141, -0.1229073269464962, 0.09825056328321682, 0.41692710941559596, -0.2728342243156503, 0.08859024398742277, -0.34508144353731696, 0.2926444671818999, -1.0883288065924341, -0.538771360335934, 0.03395238647316168, -0.26241506205947607, 0.16847012764754188, 0.0978693303060445, -0.35804435918261596, -0.6419853106742626, -0.26180212569100547, 0.3566664386036448, 0.3372702282629516, -0.0718484764057159, 0.45028339479081136, -0.04504202843357097, 0.16729209030176023, -0.21541065451669256, 0.6664766776059947, -0.29991459398440656, 0.47040093900954016, 0.029896882650014556, 0.031948158118169534, -0.3259854955671231, 0.333984508858442, 0.3833639523389042, 0.29556260013620833, -0.08256923042734926, 0.08579935939561273, 0.10120184256950583, -0.10005041280584526, -0.05380895592892196, -0.01223589474460618, 0.16122076145221853, 0.3208799356577217, 0.023994156608519883, 0.047077343570007424, 0.07958268528876578, 0.15922496036988532, -0.6833884407229045, -0.08563531201420788, -0.25804612307969377, 0.036812899583117176, -0.2328628268048603, 0.004697825029488345, 0.28327458835871744, 0.22295201989942626, 0.232635652180371, -0.15279514860916943, 0.7421701574915462, 0.6155916390515576, -0.49633454426530543, 0.05824467703388003, -0.20829350637731103, 0.29161780232606516, 0.07139706517119102, -0.13605418266880354, 0.30960151739846253, 0.24094831900207214, -0.11637672108704433, 1.0188259716335133, 0.16242768440670252, -0.1917754229124772, -0.2021464644651757, 0.30350535972325654, -0.698092664082716, -0.016541173769082818, 0.03706382544121545, -0.3994563916415186, -0.18018744102128453, -0.2850222593457025, 0.14538735379614276, -0.029069989555479125, -0.10269478142929422, -0.41480807580252277, 0.4075240106629121, -0.2144230017677875, -0.6380810925093264, 0.18617223340670672, -0.1344140987352882, -0.1607462698996926, -0.040768168152992945, 0.24510723471905704, -0.15094775476684041, 0.36607805323798337, -0.0040036099426514205, -0.035500496862763464, -0.4198617704861104, -0.32292601869418114, 0.33267336175934736, 0.5625920394318926, 0.017138982742631814, -1.0706370977695958, -0.2607037514752417, 0.5102624186639879, 0.16971254128301005, 0.448557471355728, 0.10732297675255378, 0.4011870006488462, -0.33220315531002065, 0.10871010278174309, -0.09738749807857483, 0.14796807834641945, -0.12015558788639136, 0.3883668169149185, -0.585733115175754, -0.24649785322151802, -0.08194991189151035, -0.7034588572112508, -0.2956468807632411, 0.8450387925825594, 0.057338330119411404, -0.30642747662547776, -0.36783728572666763, -0.2500943289295784, -0.6912980660612331, -0.06729917175394495, 0.2689767317887149, 0.06419016545218081, -0.10099768835088696, 0.003784455168236167, -0.29265085160219007, -0.2272191607870389, -0.5798733345706838, -0.0710658559513333, 0.6551656378303751, 0.2541576202511311, -0.09711763144641494]\n",
            "  Newton:\n",
            "    Iterações: 1\n",
            "    Tempo: 0.049781 s\n",
            "    Ponto final: [-0.45071905389432354, 0.12430949094927457, -0.38594777104766476, -0.18490560528845368, 0.13503330595865193, -1.0794692059363284, -0.017596899357899876, -0.46527235377901, 0.09771826931453065, 0.8625958594543706, 0.188293589310706, -0.007876597645126604, -0.20778308946477342, -0.5066554499904564, -0.1476455798195852, 0.0029712126551477702, -0.05575951880945218, -0.12754335770771658, 1.0739999672564218, 0.26448837555299787, -0.19703253934069975, 0.07903324272142115, 0.47697064178213, -0.14898520652880587, -0.033136680337578106, -0.5894298064817233, -0.05206156768760706, -0.2610906377472104, -0.13321698267188786, -0.3507452492728357, 0.1420673580468875, -0.25423864094166165, 0.2179509168632674, -0.6730481731921225, -0.004870115842831257, 0.2488271474791478, 0.04494899941042767, -0.015230726727763488, 0.1838905885619151, -0.10758400818802105, 0.6663429893502439, -0.25652971937144387, -0.238323944760662, 0.17322102487778934, 0.05970323139116185, 0.2634290015735382, -0.7519353362667164, 0.027500362175621962, -0.3706008293925663, 0.2406619121784857, -0.4018259182526276, -0.2535746099831343, -0.4118473844355733, 0.28124143468388263, -0.0919550822064632, -0.13690069697282237, 0.09431712096878808, -0.4261352009207723, -0.170064797891401, -0.22526722838209667, -0.03841269934697589, -0.21303228333078705, -0.06465990169806718, -0.8369771146079745, -0.081055788630499, 0.022653076808985095, 0.2502132184128627, -0.06626553555825077, 0.7537674962495637, -0.1248400943150165, -0.5042525875592239, 0.3502029113776723, 0.005024788451585049, -0.1097747609922114, 0.04705870765216602, -1.0844210675043093, 0.6108574885955605, -1.0747389707441126, 0.31722267372097285, -0.6281852907181771, 0.001240828470104094, -0.26408819507421244, 0.1941141258615957, -0.026179728079969086, -0.1386081552743857, 1.0176972899985268, 0.47184143862062494, -0.10595273498978319, -0.17711738382872133, 0.0896606374896588, 0.34596748148734136, -1.2506168386738234, 0.12717966884684045, 0.00927634394802257, 0.19613240941147447, -0.2805026779225108, -0.05620528736720576, -0.488767463312635, -0.49659487677924896, 0.45042328327487946, 0.6848142063809425, 0.24560225647493217, -0.1779052972682461, -0.026144140669380048, 1.021364973084419, -0.21939287203846558, -0.00411923817029497, 0.15939488588999717, 0.0006361155339319469, 0.029892805092778696, 0.35489099792106127, -0.14210530364755258, 0.05155552915509948, 0.013507586979521494, -0.4288947057505679, -0.05017994764911693, -0.4802927304653051, -0.11336559483667216, 0.47329966976082916, 0.4076653500981672, 0.25375643925589797, -0.05451765676332476, 0.11601944181260121, -0.18132389816043792, 0.1397922275335879, -0.04003697616772328, 0.2311429974811137, 0.36310171136714675, 0.02352806104201033, 0.19368631053191632, -0.17896469632728398, -0.3292829904543535, -0.5255999535534561, 0.048425641132892605, -0.2957660574248614, 0.1793784257380332, -0.22682288321604294, 0.9339460696095712, 0.4310991912160412, -0.2658153876309619, -0.04875532221802808, 0.13641686188304813, -0.02962561361886662, -0.24190509417201606, 0.896995425750791, -0.5942984528213873, -0.12003846397307649, -0.47399416160797275, -0.024188329876035253, 0.18283125874576378, -0.0009809204352524414, -0.0938453017619032, -0.07239693692102808, -0.2851949899742925, -0.2687952488507075, 0.06455203036839557, 0.0826625457531952, -0.13623062951040532, 0.40598146832205123, 0.3753153835122607, 0.29804983503836446, -0.25276089584923667, 0.2714158449779537, -0.15482874437513122, 0.17216039009205097, 0.32008560032046174, -0.29171092654584796, 0.42344145637187547, 0.8471097144551584, 0.2047065183285568, 1.3867168939523349, -0.09439070556630663, 0.021779611639569874, 0.1820309843829256, -0.6120196322511811, -0.4835342456028506, -0.36046946304647576, -0.2250938374332514, -0.18684501175446763, 0.4093885950471716, 0.38174628708126196, 0.42482593329957163, 0.1945936701824971, -0.1938676297887199, -0.004307662111191601, 0.0929222356314171, 0.03677093058344694, 0.5429220472336743, -0.6633960864206927, 0.2525190496686712, -0.10178249004772333, -0.12652813192010173, 0.050735752758014716, -1.1123990219517992, -0.10734376581884719, -0.08821348339905793, 0.482543429663211, 0.9373105031102418, -0.03929464230421065, 0.370993802446709, 0.18569807704778007, 0.907367594850909, 0.2779583604764728, 0.3141231084030943, -0.059324072437619835, -0.1955430875805395, -0.7309543470439432, -0.00446427466467425, -0.0425128368066528, -0.160248726385124, -0.2080943550723402, -0.22836019932539853, 0.36920445926876067, 0.016259003712070674, 0.044160223683333444, 0.13341374393134892, -0.352723210263135, 0.5811849381951921, 0.10150005429181275, -0.40160250330662417, 0.01296165276354605, 0.2123536152212076, 0.5651352267878484, 0.2040375909290526, 0.3609449039251668, 0.6773707735962933, -0.19595202147706509, 0.17001726460493427, 0.24056873012055538, 0.2025627664962531, -0.04317338101134344, 0.043644526742633305, 0.07247459493975916, 0.030040302455210277, -0.5733273015835301, -0.15291710141877002, -0.47095117248377544, 0.5860473671253572, -0.22360978839443968, 0.009174718877233423, -0.38533042648674387, -0.29299063925748436, -0.2098601139916112, -0.026311773152832008, -0.5912732683014148, -0.07747287963168747, -0.322561529613552, -0.18899663112039577, -0.12097126911250577, -0.05094990761173257, 0.16302575764946603, -0.07251296219974046, 0.6300460570664391, 0.12121175611398965, -0.3037762329090492, 0.174316811568199, 0.31285465915103594, -0.02327446902396424, 0.4053516755364171, 0.20487690715948592, -0.277823958304836, 0.357490747883479, -0.11917109916057544, 0.545993305154267, 0.3941958168448338, 0.10268646621331379, -0.5128990309000796, 0.6823883130187518, -0.03315300779532904, 0.002549638295237633, 0.35502962834493434, 0.17879521952178346, 0.21271713723183872, -0.4163530769129798, -0.0035507036917848817, -0.07014429734161398, 0.4441405369695447, 0.11215465255726464, 0.18366431099020908, 0.3226316336977459, -0.042800013514347146, -0.5347328510702314, -0.3872402561839856, -0.14309188418161312, 1.3878749594420412, -0.014638022731474132, 0.07703524267678397, -0.1788175948228308, -0.14450477613888046, 0.19062066112282433, -0.194785038033354, 0.4841491167760917, 0.45233406315424524, 0.10978226611340036, 0.514632799756041, 0.4788894679454791, -0.18358197129191833, -0.471664811808943, 0.6166836932545716, 0.630052170191382, 0.5005917608522756, 0.3886821699308268, 0.05744703348682667, 0.3714232103191927, 0.24260805397902785, 1.6531868899895301, 1.1954999593120836, -0.3470195571392096, 0.2806618843919513, -1.109436680274269, -0.013315242028978824, 0.3408148789951202, -0.16278376433760466, -0.24385883688301657, 0.4000858046060367, 0.0809955615512597, -0.26927008558505083, -0.4249448473512006, -0.22344808552099388, -0.0895584704581508, 0.3240427210889856, 0.15340375963835706, 0.14832154213893067, -0.05542307660999818, 0.2708943598840633, -0.9937816865673141, 0.2612759658915309, -0.341566309908776, 0.15937747504703736, -0.07278459189739328, -0.03715689386995158, 0.800566953761038, -1.1521738729188504, 0.05527490074809398, -0.22604127618173686, 0.3656776242393476, 0.6745234202272529, 0.3800962679092773, 0.0020785361820692128, -0.01927604452280529, -0.7410256047500529, 0.2575700692727988, 0.276228032143529, 0.36775851169323187, -0.6866658758740753, 0.30859215045068367, -0.20027335315143957, 0.05065394155803904, -0.1353550244577193, 0.5746831371925274, 0.10600559293685852, -0.5095488837919778, 0.3005633351413444, 0.20653363621728138, -0.1622756798862135, -0.08607907290979178, -0.11255607432870485, -0.10635764997053354, -0.7789942998534626, -0.19397214735134716, -1.082354965981393, 0.11737659811793821, -0.4929989274305062, -0.13730534790335125, -0.19254903969905202, -0.39087878478080257, 0.5918108945897358, 0.20869053347802935, -0.35550020408076843, -0.9048207595830029, 1.033575601496666, 0.19360845249910463, -0.24741933501771812, 0.051633993080417884, 0.591673663649505, -0.22317224890782683, 0.4281405310931752, 0.050887161214963395, -0.15098891361747668, 0.14172805640199732, -1.5500318490934641, 0.010761453755036454, -0.9787948042328696, -0.06741065898243642, 0.5583030002371508, 0.018355636084119276, -0.19355442427366973, -0.09908870837032946, -0.11276198024546541, 0.34703421412284036, -0.2604957995047247, -0.3104917984592392, -0.06346420780427742, 0.15184876729103558, 0.21538301394248482, -0.8449765538409213, 0.38784728448194805, -0.23999836792506013, -0.18662512687242216, 0.024663273198994973, 0.0709789472121819, -0.5116882770064677, 1.2271361173388065, -0.3610757366103723, 0.033961295876733355, -0.04823358853547756, -0.1346295980158116, 0.2564162430341172, -0.14636011009716843, 0.20428777790312402, -0.021845468568389426, -0.2581439708484631, -0.0029673882705434362, 0.21043760201557, 0.11273336998403649, -0.12758001516491468, 0.4386742005976676, -0.7116190347026428, 0.13709236883133835, 0.7100740669840768, -0.05912856074928152, 0.008945145870397964, -0.28024407446906585, 0.34879550403186954, -0.5498220568048364, 0.14968565341916884, -0.10187033667769496, -0.2053266405344778, 0.12084838349142801, -0.6896280459243416, -0.2156989816828052, -0.44342875750830024, 0.17485194257072967, -0.19875480280233404, 0.8626653198865435, -0.02013348845359375, 0.4242671585106118, 0.1805438791743445, 0.13314309316816308, -0.008680688257298286, -0.20610298916838177, 0.4986074969080564, -0.28644002364479704, 0.5247305749573387, -0.6798685127922678, -0.4371252181631846, -0.21513774246675307, 0.19995346575594092, -0.123258078891334, 0.03863307884743883, -0.11154495316872093, -0.22100116295131667, 0.3390044885779786, 0.47933030303019125, 0.13621707725673285, 0.11268796198686393, -0.6896404209695176, 0.06024038015792604, -0.11212989734303269, -0.0693927763985327, 0.3470001800345899, 0.028535101410438246, -0.1366899602731908, -0.09233142741324568, -0.1283992057949269, -0.21533690307507092, -0.5519467763405985, 0.3430310814656008, 0.8487845438942552, 0.006107903123692582, -0.2515428149933559, 0.16134274572903562, 0.0575837748989777, 0.15560554322606598, 0.12870980831362033, 0.045609526695479685, 0.12469327598868185, -0.5513933040885652, 0.10159345934142683, 0.28368078186688983, -0.43489949909476966, -0.17498152320472882, 0.2974464207104921, -0.04270351897554692, -0.41245076783231305, -0.15264449521687684, 0.6362011813526998, 0.062031512541262046, 0.05748153365744335, 0.09369129571188356, -0.5778055497894073, 0.14491310409654876, -0.005144180192647507, -0.05569563921546061, 0.4726166089973296, 0.13437982547291316, 0.07666873020105408, 0.6989522371304917, 0.18703933466507228, 0.7975732005050469, 0.2948662895082106, 0.3333906609940962, -0.018840529231633596, -0.44796268150532015, -0.7004292475872042, 0.04242955650138125, 0.06553587524553306, 0.1684844020078416, 0.2792377408770079, -0.15432013957802065, 0.032954769624938596, -0.2559613381114392, 0.20709872860623946, -0.6003742928898439, 0.09682029449577101, -0.04397352887090966, 0.26885128189004726, -0.05570495392707464, 0.049347256615455734, 0.29584835140016974, 0.5047537772307222, -0.3345465415611497, -0.19139489214526972, 0.5289198046780469, -0.2329785697991409, -0.10632454242820133, -0.2217019335244681, -0.08297957189585342, 0.3541950266014804, 0.1438090594796665, 0.14160290370279305, 0.6629235650298605, -0.09971321789479393, 0.41743656191425194, -0.07666418018927207, 0.25240507542522544, -0.831332426816942, 0.28353127064734795, 0.4058985601124106, 0.17167936823551422, 0.22030798675195332, -0.03537449386386815, -0.4933311309830768, 0.09998394430931423, -0.1640857759041996, 0.05570523332941474, 0.8157738116028017, -0.23315861960937076, 0.005854940689117516, -0.38373601667119006, 0.4715455252246572, -0.03494003855963215, -0.027285249949516838, 0.3285096811657366, -0.09130228448843081, -0.06536433177180606, 0.12949455705231028, -0.3849637420708564, 0.03490622758938744, 0.28927681070785516, -2.492072892601449e-5, 0.6872540717633366, 0.00041911210457845627, -0.4615496977849536, -0.6359510188678266, 0.12029804644066577, 0.4796478179359545, 0.7798891607487499, 0.3633881063736242, 0.7731619673962995, 0.31270116389619074, 0.04637824181795047, 0.4960454385698816, -0.866162284097083, -1.4964295100301719, -0.06233548688514526, -0.4380796195568435, -0.06269095826737647, 0.36481254660681195, -0.2261044186172123, -0.68094997366747, 0.10379853660554228, 0.15792547816757452, 0.2726805705176647, 0.13319673622074524, -0.0745902669662617, 0.22999966914247438, -0.03899831402995216, 0.06520614262329438, 0.02903809642963806, 0.11312526099906595, 1.0048657246599673, -0.4131329837265014, 0.401940656139364, 0.37860031904725866, -0.054470873033202416, 0.7058881883329717, -0.025116699364051698, -0.1339184030893774, -0.272156036540085, 0.25903317263094916, 0.2272754118716811, -0.03574712607494024, 0.9341379775211018, -0.27416706001258345, -0.3364639345658421, 0.10594325937147131, -0.6207719516187251, 0.04627492525356325, -0.11802836331836541, -0.16689717653824088, -0.2544427522251093, 0.1448870403983178, 0.09342043731504879, -0.2454489958926201, 0.42612766079162223, -0.29837647418974256, -0.22310271374185064, 0.60486290458111, -0.3966000465164446, -0.5210951336502853, 0.17288570168951345, -0.2575439241248427, -0.1484628818426068, 0.4477140098970105, -0.6213310065520583, 0.10857864628582978, -0.17543487223410123, 0.35648747444813245, -0.06329335474098152, 0.015363418713760901, 0.03119601579070791, -0.3189494434193264, -0.24247141383593052, -0.20680865853118358, 0.03856278922473272, 0.3234897337576076, 0.1176011143444014, -0.27842601512488524, 0.3331583096478198, 0.27308825864659325, 0.10715148457612866, 0.036851856908560965, -0.17475618986906838, 0.22903936717637624, -0.1293656101742374, 0.2715352389895571, -0.17756083751243334, 0.25266170732269533, -0.3760390328957164, 0.22976506238617916, 0.25951703341052007, 0.0316417866240859, 0.005246610084581493, -0.06880375603578881, 0.15508717229148955, 0.2762263449480068, -0.6756130111614765, 0.21354662656715873, -0.16500566006856388, -0.2782403005701119, 0.113412850079082, 0.3493429404605022, -0.49633999554642894, 0.11171886560778144, 0.6791778796917562, 0.08673104287269648, -0.7797638623682959, -0.3969998943318017, -0.46489400461697505, 0.1792791296034514, -0.0033406956131987187, -0.05438740441254675, 0.02821937955537701, -0.07597920523103452, 0.009151404299404975, 0.31184010873894974, -0.9393706756895694, 0.06686185823966029, 0.15668689602553032, -0.2255525596878234, 0.37539837664009723, 0.08458674226231522, -0.509671856156223, 0.11026077777282228, -0.7200091655356736, 0.3505609957940585, 0.043582970696456336, 0.05774748072644015, -0.09288475832603005, -0.036848850072023875, 0.1743874811674781, -0.06971706937712299, 0.3952676300418263, -0.35986272775830985, 0.3617788165725542, -0.24816595737156244, 0.7664908399827346, -0.16930518083264312, 0.7387261450772509, 0.08223843639918293, -0.42733466003882375, -0.029851443487164286, -0.08796847641883836, 0.06975251614881728, 0.2660622585204502, 0.025140613109715604, 0.3929704883635108, -0.09286241557463268, -0.07936499212975412, -0.09676199279243225, -0.4405620076206678, -0.3660520848218419, 0.06151096968145312, 0.02525778713313285, 0.051701682475412625, 0.24674974696638635, -0.22543229453419333, -0.00893912589949597, -0.16898460901304846, -0.3923464106108405, 0.6394002990053289, -0.5877476229691025, -0.34371992159376386, -0.0111036639323287, 0.029227346296154616, 0.5836564646799439, 0.09624765504766875, 0.21022546978525147, -0.24962458196237824, 0.5380883018359118, 0.3634863800215856, 0.04150519881752272, 0.4831713483601001, 0.323841929179166, 0.08096600435539417, 0.14873757635879023, 0.31009848600989853, -0.2721523859484851, 0.011935541276923034, 1.0307486984528247, 0.2758709279306939, -0.37914862403195887, -0.6231020973502093, 0.10454518467948115, -0.34137857761326584, 0.7572091227328582, -0.5575064489855919, 0.9257024198038799, 0.15048595328790937, 0.32692716607647765, -0.16148465542449353, -1.0260706620264537, -0.19160102128994905, 0.1540428899866889, -0.919644039347029, 0.2138062148016584, -1.3561598669476624, -0.03638004137366191, 0.36625771932128104, -0.0608294860984111, -0.17639374491048188, -0.057761339595043454, -0.409226121566281, -0.42898711333523754, 0.28772314963630385, 0.19172818439077244, -0.0054660930690169085, -0.1903410577512859, 0.37899979290662156, 0.07761694769488581, 0.09833187563497958, 0.06001104672303259, 0.11594108647132528, 0.10923301544210962, 0.1769415398299652, 0.19104098869737896, 0.16226536022166105, 0.13500605406513433, -0.7788248430528177, 0.09796486858966583, -0.2960093037540364, -0.3403692944895387, -0.4026126663127245, 0.3149178173393098, 0.20146987988970189, 0.059831514217356885, -0.1686812745791526, 0.168135620854157, -0.4286949887572027, 0.5158620557988952, -0.6265485975444592, 0.5767833032223462, 0.07045741163537067, -0.3733876382706367, -0.2267259021416579, 0.5690758133658937, 0.053959980773746974, -0.18577819988192948, 0.33142498355376987, -0.009059673812366054, 0.354044746294771, 0.1615637575001747, 0.06276933589350671, 0.09483192322221512, 0.0588174515836124, -0.2675114163646334, 0.02745737536843467, 0.39109909050673297, 0.1424465096825367, 0.025758769616463395, 0.09344385909178987, -0.27077419446540096, 0.15639104299739914, 0.2812544128970974, -0.21027521770364432, -0.14268915642163593, 0.8467957241848733, 0.8203166543678237, 0.05417713386302564, 0.3064383031060171, -1.0208036080525371, 0.2681748959907915, -0.0431059842032403, 1.0009086463459707, 0.5331687147499734, 0.06416366997651557, 0.6151748640388768, -0.2083379926200975, -0.4000646917186437, -0.4406315645571137, -0.2493589348649416, -0.2918307480984283, -0.26476339483278793, 0.18922782075530722, 0.6691323392250861, 0.5485651646211032, 0.43050200484178247, 0.03728571599105246, -0.012619581306649308, 0.19653083730236987, -0.037387470675566525, 0.3030735293965505, 0.8729200398268637, 0.39035413113080875, -0.7306111334140635, 0.32804173793609737, 0.10561500603516272, -0.17696803149765533, 0.11688136288268584, 0.011778812528164928, -0.18742574559817027, 0.13240741716374704, 0.12540612905268023, 0.2847904059080105, 0.10284106058489595, 0.9804251214500994, 0.08342340331448272, -0.036981748007575976, 0.2253930097102843, 0.09941524287855552, -0.12382121107343369, 0.09828616342224561, -0.9658152309256901, -0.3384435573051787, -0.08805109999115068, 0.4402725882930141, -0.1229073269464962, 0.09825056328321682, 0.41692710941559596, -0.2728342243156503, 0.08859024398742277, -0.34508144353731696, 0.2926444671818999, -1.0883288065924341, -0.538771360335934, 0.03395238647316168, -0.26241506205947607, 0.16847012764754188, 0.0978693303060445, -0.35804435918261596, -0.6419853106742626, -0.26180212569100547, 0.3566664386036448, 0.3372702282629516, -0.0718484764057159, 0.45028339479081136, -0.04504202843357097, 0.16729209030176023, -0.21541065451669256, 0.6664766776059947, -0.29991459398440656, 0.47040093900954016, 0.029896882650014556, 0.031948158118169534, -0.3259854955671231, 0.333984508858442, 0.3833639523389042, 0.29556260013620833, -0.08256923042734926, 0.08579935939561273, 0.10120184256950583, -0.10005041280584526, -0.05380895592892196, -0.01223589474460618, 0.16122076145221853, 0.3208799356577217, 0.023994156608519883, 0.047077343570007424, 0.07958268528876578, 0.15922496036988532, -0.6833884407229045, -0.08563531201420788, -0.25804612307969377, 0.036812899583117176, -0.2328628268048603, 0.004697825029488345, 0.28327458835871744, 0.22295201989942626, 0.232635652180371, -0.15279514860916943, 0.7421701574915462, 0.6155916390515576, -0.49633454426530543, 0.05824467703388003, -0.20829350637731103, 0.29161780232606516, 0.07139706517119102, -0.13605418266880354, 0.30960151739846253, 0.24094831900207214, -0.11637672108704433, 1.0188259716335133, 0.16242768440670252, -0.1917754229124772, -0.2021464644651757, 0.30350535972325654, -0.698092664082716, -0.016541173769082818, 0.03706382544121545, -0.3994563916415186, -0.18018744102128453, -0.2850222593457025, 0.14538735379614276, -0.029069989555479125, -0.10269478142929422, -0.41480807580252277, 0.4075240106629121, -0.2144230017677875, -0.6380810925093264, 0.18617223340670672, -0.1344140987352882, -0.1607462698996926, -0.040768168152992945, 0.24510723471905704, -0.15094775476684041, 0.36607805323798337, -0.0040036099426514205, -0.035500496862763464, -0.4198617704861104, -0.32292601869418114, 0.33267336175934736, 0.5625920394318926, 0.017138982742631814, -1.0706370977695958, -0.2607037514752417, 0.5102624186639879, 0.16971254128301005, 0.448557471355728, 0.10732297675255378, 0.4011870006488462, -0.33220315531002065, 0.10871010278174309, -0.09738749807857483, 0.14796807834641945, -0.12015558788639136, 0.3883668169149185, -0.585733115175754, -0.24649785322151802, -0.08194991189151035, -0.7034588572112508, -0.2956468807632411, 0.8450387925825594, 0.057338330119411404, -0.30642747662547776, -0.36783728572666763, -0.2500943289295784, -0.6912980660612331, -0.06729917175394495, 0.2689767317887149, 0.06419016545218081, -0.10099768835088696, 0.003784455168236167, -0.29265085160219007, -0.2272191607870389, -0.5798733345706838, -0.0710658559513333, 0.6551656378303751, 0.2541576202511311, -0.09711763144641494] \n",
            "\n",
            "Dimensão: 1000, Caso: spread\n",
            "  Gradiente:\n",
            "    Iterações: 7127\n",
            "    Tempo: 8.899565 s\n",
            "    Ponto final: [0.002054240803577745, 0.03898621958448506, 0.001006131211452918, -0.00023881234619310687, -0.006469882377661218, 0.010995892796116347, 0.0016513209564063686, 0.0070298998966520365, 0.004019068398164016, 0.000985533854351961, -0.0009156622470418707, -0.001164374222358891, -7.962182958465291e-5, 0.0022850473677575867, -0.00047297034986126807, -0.01022676450503096, -0.001923845288249959, 9.021738409398239e-5, -0.00785931532529427, -0.0033420623627911095, -0.0014922044006131507, -0.03262950103502704, -0.004943518404553544, 5.781532800092082e-5, 0.005816540083621202, 0.00031817892183998164, -0.002197668163333333, 0.001528407647161556, 0.0027464708396306436, 0.007985537684700977, 0.006128824333738403, -0.0016336294936851181, -0.000985776289023299, 0.0011073196731925528, -0.00011497301055385378, -0.0005966708212798433, -0.0012259244381161993, 6.791740590095241e-5, -0.0005806651112602035, 0.00016297987045427176, 1.9516893243309852e-5, 0.0023476202828413006, 0.0007142253434956336, 0.0025012824984539384, -0.003813037094632432, -0.011704879325413087, -0.000594508448177794, -0.0007093242575471059, 0.001862618524223758, -0.0029176090873552774, 0.0004155307747416622, -0.0004032792768116633, 0.0030260712568561665, 0.0020522136108722666, -0.007262738391542345, 0.0011160554943633466, 0.0011739778004967727, 0.001373083660033636, -0.0012701372840816516, 0.0036279973701274226, 0.0010552517151720675, 0.0002221644484537988, -0.001154610498764752, 0.004390650285528097, 0.005246786858389307, -0.0029999007814284218, -0.2269348108322697, -0.000763835258093426, 0.002271282776665551, 0.0005433493177882109, 0.001888607852055274, 0.00633260310790984, -0.0010341760057482798, 0.0037347643401957065, -0.011262070437889404, 0.007046575983152059, 0.00043874145779998486, -0.00033155776478666077, -0.0029461587825809765, -0.00031223879109715247, 0.0005221712231544551, 0.0016154064002149582, -0.003546392703949408, 0.00048251544435873317, -0.000695982688903557, -0.0017613554401809672, 0.012007259919191271, -0.01710882436711192, 0.0073256574608661085, -0.0002749980745067049, -0.012499748545591549, -0.005220581840907013, 0.0005613529694878938, -0.0025996557469613046, -0.0005928659512459689, -0.00363529293715259, -0.00029306838659026724, -0.0007086328361372435, 0.0009583284036809303, -0.0017848087148690794, 0.000908291785525428, 0.00023356602132729165, 0.0005644741766368533, 0.0010032408642304258, -0.002740204224924936, -0.001290241417842397, 0.0017596218125238705, 0.0004353031042594324, 0.000528215832821935, 0.07694926051084705, 0.0008221540395421112, -0.002742136163464526, -0.0010648846036045434, 0.0026534806780666997, -0.010394006444407855, 0.0044483135632910065, 0.000689631151243153, -0.0027099455437653575, -0.0005840555972092543, 0.002715607865883901, -0.002003204535248937, -0.00024382582462800784, 0.0013983064488305094, 0.0021600718983381118, -0.01814501030810245, -0.00224714788621605, 0.0148409189932317, 0.0030467896238981496, 0.0006449516964479041, 0.0020272055441801218, -8.302652239011721e-5, -0.0005195262597829098, 0.0014078891991859965, -0.008726862178332073, -0.010700931822669957, -0.0012650379367515896, 0.004938799882896472, -0.0002177585572653573, 0.0021511561567819637, -0.001600945631010764, -0.011767903077715552, -0.0016519391930518434, 0.003429283346564116, 0.0015258414773866025, -0.007734111112970843, -0.002396737319215303, -0.000883570668952588, 0.0007770425643521817, 0.010578286332840303, -0.007185927515855561, 0.0013318805031319603, 0.014455349654261762, 0.000842168179228997, -0.0009811870665967781, -0.009665939202631313, -0.0003884909556587379, -0.000808382420059206, -0.00013455452310084937, -0.0003192925940562752, -0.0003568608313344601, -4.8154632337760184e-5, -0.0003132365814479954, 0.0004524021659222388, 0.00555276515561387, -0.0008564327747553335, -0.0004799678752580028, 0.008589288386185334, -0.004896618884403736, -0.0002159586388639223, -0.0010353621146261434, 0.0012635773508460901, -0.0011106894504879783, 0.030112248161099586, -0.001901514432931073, -0.0013346683785443458, 0.001196134139485272, 0.000472177107719185, -0.0031556516611881413, 0.0029383241406326643, -0.0011816478868485192, 0.00041213550210827954, 0.0003159932618715944, -0.00015931240654387668, -1.515160603671184e-5, -0.0020669411869367327, -0.001960853042287297, 0.0008999664886502057, 0.0004996028293905441, -0.0014645195953375545, 0.00048122508297931965, -4.634976074124886e-5, 0.0007634748567294514, 0.0010035977954479525, -0.002978944853940013, -0.000646724491605577, 0.0018222351232648482, -0.012998739584261787, -0.0010173329402415332, -0.0036055021430984047, -0.0013657192141953156, 0.0017005865906029038, -3.9220216205726466e-5, 2.25323888416451e-5, 0.0055512054331209315, -0.0010782880974121722, 0.0019662532508535335, 0.0005991038180421793, -0.0014620219221955222, 0.0008899888799498643, 0.001998392483675948, -0.0017259966321410691, 1.172119717418596e-5, 0.0008864636734249309, 0.0011152301718619362, -0.0005717958266502343, 0.0011706805175805135, 0.0006441984947746782, -9.047618681423675e-6, 0.0009465325198786956, 0.002314250554205477, 0.0027990492432955483, -0.00382151453040791, -0.002557670722365568, -0.0012976982879320254, -0.022679467159123168, 0.0012651587110081852, -0.0002811586930867513, 0.007596448106164777, -0.0025678567578163447, -0.0003922339938716643, -0.0022133849658170224, 0.00021835044373867685, -0.0004589656288657151, 0.000410025939734715, -0.0002618445070666775, -0.0067832398175263, 0.00037251456418085915, 0.0012552920526596179, 0.001603018713559834, 0.011279072989057615, -0.00037635888505405113, 0.06748095846571944, -0.001174526724188732, 0.0019467692375303297, -0.005975688358223152, 0.0014948703320685208, 0.0008312674252946017, 0.003540472567559183, -0.0008267069337928312, -0.001403354882917096, -0.0009068171838826355, 3.466596766299457e-5, -0.0011391612168087928, 0.001720365278660263, 0.0002489603413436403, -0.004291840218173193, -0.0008888482973972156, 0.0038455430308242944, -0.0034570116537392392, -0.0007443641123252576, 0.0012128249475209518, 0.007981727843111002, -0.0009598464410823238, -0.0028463473673452366, 0.0013731295565076462, -0.003721777186583841, 0.006060872795395911, -0.0007478522419454015, 0.0009189487257657974, 0.0012579008191279106, 0.00026983242407108143, -0.0026597460162217923, -8.457060471989131e-5, 0.002320271690408937, -0.002097351827354821, 0.0010438433435264738, 0.002739184444841891, 0.00013083995967000384, 0.006564756854809062, 0.0003454096899824233, -0.0012332512487787106, -0.0017251072399246947, 0.001249857144965394, 0.00598065517566182, 0.001130038263483235, 0.0012390847147649986, -0.0014534291779801922, -0.00043237675799190356, 0.0037272962108116925, 0.00027396421331971066, 0.00039438222093701736, 0.0011188089606010143, -0.0009960365741478183, 4.271892324340769e-5, -0.00024328890596292396, 0.00014334311496377872, -0.0032531869235996602, -0.010158679170260587, -7.155040733386464e-5, -0.0006620465981144741, 0.002528972517345185, -0.002294227249296621, -0.0029791258118352926, 0.003710576513884317, -0.0007843815519288366, -0.008156844448350409, 0.00038063482134709226, -0.00331093298704363, 0.0011755998538451884, 0.0002701058825356206, 0.002127184962388548, 0.0017335965524485353, 0.00572145131350843, -0.00391656538136434, 0.001748428152548387, 0.030860449424988445, -0.009129210164553037, -0.04409792505304427, 0.0012196893768514627, 0.000938065349221695, -0.000782469998568347, -0.001720096333113319, -0.0006944422430119612, -0.00017447296329908824, 6.412932813082417e-5, -0.05760594458196522, -0.00029884084863462945, 9.457901584530859e-5, 0.00010447193783713615, 0.0013238454952510526, -0.0044115490367648835, 0.0014101630596573544, -0.0038143033015852618, 0.001938059412349702, -0.0024132568781934927, -0.0026688697421051177, 0.0015578306952052368, -0.00026991933442849225, -0.00036864140597159256, 0.0013977369880485702, -0.0009330905422513247, -0.0014491963568250554, 0.0029404404464754563, -0.0013820043007356786, -0.006322434941726185, -0.002528085959586826, -0.0019001466742805118, 0.0006259532138554458, -0.000875919488407817, -0.000918526818912177, 0.002958163824218707, -0.000784926373550876, 1.181711478537295e-5, -0.0038470115773444613, -0.009228972651504769, 0.0012991427179377402, -7.915417639137168e-5, 0.0002766297850061994, 0.0022260734032577556, -0.001534285885938163, -0.0004507174012187698, -0.0013209268037420174, 0.03942316057436701, -0.0035089681776621084, -1.1185053445590166e-5, -0.002289657677743362, -0.002138155020872806, 0.003319614486470779, 0.003998517098399282, 0.0009970627194476611, 0.00011179674860700706, 0.0014799810832892835, 0.0006540439149222976, -0.035421878041847266, 0.0006974206667648142, -0.0009928244424026733, 0.0022826681883607175, -0.0005972850288590847, -0.0020951551095476084, -0.00586520523640921, -0.001686282852719323, -0.0030553031552771337, -0.0015068855982441065, -0.0003900611935359066, -0.0028082237922217174, -0.0001498392177426977, -0.002833645516929384, -0.017061055732183417, -0.0006162167927808437, 0.0017160910841680366, 0.0022292688025579432, -0.0019850239140924986, -0.0026318897723907053, 0.0013444446616279748, 0.001085481707235214, 0.0022496995332927927, -7.167103490002269e-5, 0.01758053754431843, 0.004109311745576161, -0.0047744010420109895, 1.452541574228916e-6, 0.0004076971579280997, -0.0011022628251725064, -8.278820165336098e-5, -0.00012766012055265286, 0.008114995903566166, -0.00018365339811232673, -0.0009943684667241826, -0.000348211509363594, -0.0026442444560790257, 0.0025306488759444523, 0.001818512086782409, 0.001624550678799408, -0.0026910147094967307, 0.00027283909896327896, -0.0020915310282106914, 0.000924766334196088, 0.003092163986870289, 0.001136561564524019, -6.77023278110589e-5, -0.001748368071160744, 0.013299451746679236, 0.0024116393286155863, -0.003891856388280185, 0.0009023408378500131, 0.0009531574097902951, -0.001187904272794249, 0.0026487637157631694, -0.0006301992635942, -0.006241284423783272, -0.004121282815239158, -0.0006565323566345427, -0.003642582733074551, -0.007405263467053835, -0.002046349121527624, -0.0009549838774247643, 0.000628257269216892, -0.02033679135441882, -0.0011294431469239807, 0.006867860969355655, 0.007254371767964507, 0.0009933047036571052, -0.0016414609020646287, 0.0007758888031179634, 0.0025566274592641047, -0.0009443533970545648, 0.0017500339553188082, -0.001398847305425499, 0.03707592363893142, 0.004852602374330273, -0.054646798549314646, 0.0029145011905173934, 0.0038795311874209037, 0.0012827067588028207, -0.0004493608390350179, 0.0020237704037245896, -0.0016292189596645024, -0.0008291991163504875, -0.0019500812893498143, 0.00011516868999805752, -0.0023045560434732937, 0.0010484163598029062, 0.0031933812790047034, -0.003108455208441302, 0.0013570247957275239, 0.00017399921580896205, 0.0018831807985633733, 0.00042606104183318116, 0.002980044179614172, -0.003488376824970163, -0.0010377924746766132, 0.002525224429406947, 8.896375431666215e-5, -0.0004204946853846314, -0.0019192037813341722, -0.02150139224166625, -0.005335054536707268, 0.0006914508233086814, -0.16711302595245692, -0.0005179155264081192, -0.00014818215717560257, -0.0011107841073078883, -0.0022132024720815657, 0.002439325957099836, 0.0013461228309225026, -7.21954849965123e-5, 0.0033536041730921617, -0.0011171103352483058, 0.0012396739452959216, 0.0031440282805334507, 0.005719406488240195, -0.0015781841015012343, -0.0006137991205159565, -0.0012374067469775873, -0.002862210598275572, 0.0011562555508518035, -0.002691759009030091, -0.0006596826552334178, 0.0005187073260570774, 0.0005322087304622247, -0.004885664889595409, 0.0013036213137239683, 0.00022499312819918016, 6.413651357273231e-5, 0.0038425811380602415, 0.010757540094520235, -0.0006233542448110807, -0.0060362320000786895, -0.0006979948962675397, -0.0020227151706244673, 0.002981855303430897, 0.007000948845926613, -0.0013113283755914473, 0.000923834157232406, 0.0013351533530243805, -0.001892613088896919, 0.0003824521215826937, -0.0021388222832960935, 0.00019144034625506734, -0.0011256368041276388, -0.0010452031299831022, 0.0030565408918149517, 0.0006732022937172566, -0.0005675383768855013, 0.0021979798486311264, 0.0010174552240571622, 0.0005024944914253648, 0.005589360784675201, -0.003350907884858645, 0.0017384657539991633, -0.0008150897337231289, 0.0022494647296182335, -0.003387221868317636, 0.004823293980502408, -0.0027380535158316732, 0.12547440949900368, 0.0003963639862580859, -0.00011353876328124013, -0.0006293638246669397, 0.0022394473106641666, 0.0009343327997876072, 0.000803309352963133, -0.0012727475363339957, 0.000932958298784925, -0.0016772007975984216, 0.0035755613911578887, -0.0008669937864667077, 0.008616287003738121, 2.17644345794632e-5, -0.0072320964504960505, -0.0002604529781498055, 0.028390429292588892, 0.017803344522047515, 0.002534840379259551, 0.007406194149763734, -0.0019475313952062034, -0.003031264354355745, 0.005628383637441989, -0.0011439688959749006, -0.0008726767164050075, -0.0063053897052173236, 0.0014675893154840747, -0.00454199440224623, 0.008476639664472374, -0.0028829533933868445, -0.0008524134406182604, 0.0046965889083133705, 0.003377086648084615, 3.525089128114667e-5, -0.0010527679825814706, 0.002776550153297641, -0.002159118415821226, -6.129869511606323e-5, -0.02448287170130925, -0.0007942823203936911, -0.1898422729572909, -0.0007477006432547451, 0.0009190742240919869, 0.002723288762851439, 0.0018870873190758308, 0.0015554766207351023, -0.0015744559252157675, 0.00026361469659363923, -0.0012576740638939876, 0.00021493207859604735, -8.71728789724191e-5, -0.0017731882988523129, 0.0004837737479017612, -0.00011206499342899731, 0.0015260212605760354, -0.0015431048303622963, -0.0014971281677076398, 0.0004011512967319608, 0.0010037188690965593, -0.0009691686838574354, 0.0012082128319002156, 0.0158875195920066, 0.001731116261844301, -0.0005017794456676494, -0.04953571911735988, 0.0016299497951282604, -0.0014200486571283033, 0.00224268511543535, -0.000979126487391957, -0.0020224426372728033, 0.0012255286435448043, 0.001052526568984663, -0.000974055556169473, 0.0009912094651012282, 0.008713351032542338, 0.0027747420104906606, -0.00559485587948283, -0.003779599563685343, -0.0005926627002249552, 0.0032537122303224475, -0.003145056047161532, 0.0020441326355428724, -0.0006065173979863392, -0.016899669949999377, 0.0019191180966992016, 0.002588498229715075, -0.0003558261942046004, -0.0010420568999525426, 0.001289529494622077, -0.0020607028195093746, -0.0006249333012227076, 0.0019323602292702358, 0.001138674370018633, 0.003272832490979427, 0.0030064259502314283, 0.002322197731103981, 0.0001981735839613752, -0.0019518891715746278, -0.004419253266475742, -0.0035547012762261465, -0.04673177165412307, -0.0027998033553446044, -0.0010000883702097063, 0.00022232784281950302, -0.0012111257837598838, -0.0025997690588694944, 0.000582162121345986, 0.0013916462646766936, -0.005264965957094692, 0.0010402636754010541, 3.935777957830844e-5, 0.0014311449615538874, -0.001376480775072797, 0.002339432076932435, -0.0004710704055004289, 0.0016362819084024816, 0.0009682127922902017, -0.0067832707558480865, 0.000224523590202641, 0.0005180254131206263, 0.0012460827435680777, 0.0010889354259646655, 0.002837766288913024, 0.0007195923628182596, 0.0022427495665895414, -0.0013855379964520242, 0.0033421062042928718, -0.0010615615547072133, -0.0021464421852590565, 0.0012583608772809285, -0.003128439363259794, -0.021147087349653704, 0.0038565351474570964, -0.0004951096623446727, -0.015212358034427664, -0.006097801183233137, -0.011149469367289333, 0.00418117018150832, 1.0945591421063217e-5, -0.004262630379745502, -0.00038027710964516626, -0.0036579225028643414, -0.08115018903744517, -0.034144960903532084, 0.0024205373485284287, 0.002609806715962615, -0.016207353061207092, -0.002432741539969613, -0.0038240927823807863, -0.0008157578790836117, 0.0004051600550104284, -0.0033793091440583733, -0.00460593549062982, -0.0013043934637886334, -0.007037347581876019, -0.0007964696117809811, -0.005430685799169721, 0.001089868782257336, 0.0005447750810770868, 0.0004496943072604398, -0.0007447401734981263, 0.0021313156151072654, 0.001164025008865588, 0.0011617088265522546, 0.014214135656661187, 0.0004984462406922852, -0.0009164425272568666, 0.004558477186949905, 0.00083240353170555, -6.322705785127836e-5, 0.0005789014004680404, 0.005457760186582283, 0.00639202682905371, -0.00011315666193234541, -0.0009383498565762594, -0.0015786088820322064, 0.007486059898733244, -0.000881608551114077, 0.003474840080136987, 0.004963582008494394, -0.00514427516644822, 0.002507709159660809, -0.0009346150930364949, 0.0019309875919406583, -0.01062352250898202, 0.0005628657140086257, -4.0112945372983155e-5, -0.002166248768921797, 0.003142129399628546, -0.01400292419435717, -0.004020514794217056, -0.0046703084117423466, 0.0015678103399091037, 0.0015728001247520274, -0.008533398452088878, 4.505078457239797e-5, -0.0016005271434686996, -0.0013843442040462062, -0.004530264329190958, -0.0030550478633020184, -0.001736739398483067, 0.006054786192773776, -0.0033069706483886963, -0.03212823138798937, 0.00047667363058434553, -0.0024156245373395946, -0.0008436546870885242, -0.0029452280381824236, 0.007805738073513591, 0.0007469562282373943, 0.0004621885771247669, 0.0024636492538896437, -0.0020223234026465198, -0.0007368604280899027, -9.210573698636981e-5, -0.002042667256378028, 0.0002061807894145895, 0.004877718153041499, -0.027755313372699764, -0.0023370269569020774, -0.001958958522291221, 0.0016081554331639492, -0.0037226975224289305, 0.0005882927555245221, 0.0004839956756707009, 0.0030872024057770897, -0.009900706177307983, 0.0003720026724484127, 0.002231456715770755, -0.007659663048315002, 0.0030407332457537684, -3.8039983043636205e-5, -0.0010142911613801875, 0.0003472077423115616, 0.0042151787582530575, 0.0009582778452866814, 0.0010542636090511426, -0.0008504039365943294, -0.0009056304642637292, 0.0017880810681872306, -0.004967281395439338, 0.0021087619235782284, -0.0005400900075869242, 0.0005615170981803086, 0.008513152848501182, 0.0018423458474239318, 0.0008386181972352968, 0.001218603361754722, -0.00634059093449002, -0.00114410691873168, -0.0006693548215568057, 0.00308415791003816, -0.0008011571373069959, 0.0002920447650011093, -0.0006747468146618418, 0.0006870366435418607, 0.0024481084951960552, -0.004622346752408746, 0.00017613552388506815, 0.0033392245241412044, -0.0014294669855022812, 0.0003028799839595031, -0.002288528098500553, 0.0017478464965786644, 0.0018932768584728477, 0.00027474329184945523, -0.0009085057051258505, -0.005394488953017723, 0.000549647865422831, 0.011546479192298564, -0.0021081671087214426, -0.00011006133392554851, 0.0008284857001943369, 0.00018163567024487293, 0.0007795669735902733, -0.010152010861786798, -0.001711565142635707, 0.0010525035210723899, 0.0002088712985719443, -0.00223037278384286, 0.0018567885901872305, -0.00040556679033132426, 0.0005267302587395051, 0.0018810614540683557, -0.006475719670942182, 0.001973537602994624, -0.0005086510823901769, 0.0007568299625342889, 0.003276396217707256, -0.013395304634486793, 0.0005904131057425099, -0.00044597613688068805, -0.00117075686302881, 0.0007535444091952351, -0.0030997058345925144, 0.00011031789125948155, -0.02308924380886923, -0.000198723769171405, 0.00012865641800186012, 0.0008624040119390441, 0.001148592982046892, 0.02577489210232975, 0.0025022379925243587, -0.0001604243637239322, 0.0006246335863038244, -0.002137292803246482, -0.001460455784849879, -0.006669510135194567, 0.0018862583819012624, -0.00027670825038478286, 0.002810013776993081, 0.0010100501838383735, 0.0025477614188016418, 0.002091071750062845, -0.0008223253688803833, 0.0020924625275486886, -0.0011635818317992097, -0.0011291828618523736, 0.0014034590455449525, 0.0020060699014430444, 0.0013995331596268201, -0.000833350648313913, -0.00027813726097680735, -0.0003725463563295506, -0.00020977239173883278, 0.009895702387005767, -0.0029654717841991474, 0.0005483673027936731, 0.0021214615086677657, -0.00025357217177657265, -0.000623965828157047, -0.017034935492803542, 9.808651424880743e-5, -0.0014665627669552261, -0.00013324424348626351, -0.0003823068103632199, 0.0012790164277529659, -0.0058788903974983375, 0.00010003159645877169, 0.0008635709741214859, 0.0003479901494984894, -0.0008089706424370124, 0.0023744497316475766, -0.0017509002549750408, 0.0020802606009955316, -0.0017991373047007708, -0.0005571633980642754, -0.010200242865095355, -0.004924731659761761, -0.0011601291104585965, 0.0014963637830550935, -0.0024508557228724026, 0.0027079568843637603, 0.0027517294766266076, -0.0007485658810437723, -0.0009024034688008831, 0.0016988523715067705, -0.0003898983529713185, -0.018332884239859057, 0.018162658875677806, 0.0001801160821830461, 0.0003853565945305393, 0.00140251273178027, -0.0014253375113326833, 0.0013814296855858554, -0.025194400691819885, 0.02825336868019937, -0.00029560125080935196, -0.0006642222165956779, -0.0005648344897553059, -0.0006863510284537133, 0.002900147077188331, 0.0012834735518356122, -0.00021834377166246588, 0.0024746153078410993, 0.003725799363975102, -0.00040702283484450597, -0.0007562281272370797, -0.005203602710545291, -0.0015806747944713262, 0.004586968432966465, 0.010471270816653333, -0.000608115793098496, 0.0020722578105399625, 0.0003805717750625104, 0.0010685542769373058, 0.006583127957240809, -0.001891066459373203, -0.003869325166283355, -0.0032256236170731256, 0.0018816108117060137, 0.0006457108826753988, 0.0009260286397066997, 0.004427191527581531, 0.000661889767059276, 0.003588288931030581, 0.00027455274534626817, -0.003788463581854029, 0.00036483823040700525, 0.00038022705829171555, -0.001177855725498389, -0.009966803262918544, 0.0017412078822784949, 0.0004766937454951936, 0.0007216696734473338, -0.0014616779513215994, 0.003554067565178287, -0.10514751368226685, 0.0016592816527660204, -0.0006405810661238576, -0.0003005979633672329, -0.0019405189730010708, -0.0020076055817968095, -0.002696318657060104, -0.0014386750510599344, -0.06100608466190687, 0.0012143447548015884, 0.0035976642240080157, -0.00993406061215283, -0.001050695687617953, 0.00019197647093571746, -0.00020925513195572086, -0.011882323232395464, 0.0011631823034910505, -0.004134521094984134, 7.754383950894783e-5, 0.004209069508326779, -0.001078802436359827, 0.0019058771346163184, -0.0011451278267489082, -0.0009839623087358473, 0.0009062215266268936, -0.004493934414026832, -0.0027542382347441885, -0.0010573473709949233, -0.0011808834144104718, -0.00038659650867001183, 0.0003243398107382056, -0.0013585848492239094, -0.002231435741119947, -0.0031939026425578387, -0.0019928590394664436, -0.000764767370326852, -0.0026500428577229673, -0.002014274912549019, 0.0004803832741767933, -0.0037799769593563903, 0.0007775782174678225, 0.16407554294192006, 0.0009888689995347644, -0.001274323333627994, 0.0026243030061235406, -0.14671930478161999, 0.004432692309518815, 0.0025185936403642195, -0.02722883185927988, -0.00028224302070867235, -0.002354576902425576, 0.00219702698965335, 0.0005049839730754957, 0.00114336494922318, -0.0003182805551082968, -0.001376877317839753, -0.0004999008486321621, 0.001002911910527815]\n",
            "  Newton:\n",
            "    Iterações: 1\n",
            "    Tempo: 0.033985 s\n",
            "    Ponto final: [0.002054240803577745, 0.03898621958448506, 0.001006131211452918, -0.00023881234619310687, -0.006469882377661218, 0.010995892796116347, 0.0016513209564063686, 0.0070298998966520365, 0.004019068398164016, 0.000985533854351961, -0.0009156622470418707, -0.001164374222358891, -7.962182958465291e-5, 0.0022850473677575867, -0.00047297034986126807, -0.01022676450503096, -0.001923845288249959, 9.021738409398239e-5, -0.00785931532529427, -0.0033420623627911095, -0.0014922044006131507, -0.03262950103502704, -0.004943518404553544, 5.781532800092082e-5, 0.005816540083621202, 0.00031817892183998164, -0.002197668163333333, 0.001528407647161556, 0.0027464708396306436, 0.007985537684700977, 0.006128824333738403, -0.0016336294936851181, -0.000985776289023299, 0.0011073196731925528, -0.00011497301055385378, -0.0005966708212798433, -0.0012259244381161993, 6.791740590095241e-5, -0.0005806651112602035, 0.00016297987045427176, 1.9516893243309852e-5, 0.0023476202828413006, 0.0007142253434956336, 0.0025012824984539384, -0.003813037094632432, -0.011704879325413087, -0.000594508448177794, -0.0007093242575471059, 0.001862618524223758, -0.0029176090873552774, 0.0004155307747416622, -0.0004032792768116633, 0.0030260712568561665, 0.0020522136108722666, -0.007262738391542345, 0.0011160554943633466, 0.0011739778004967727, 0.001373083660033636, -0.0012701372840816516, 0.0036279973701274226, 0.0010552517151720675, 0.0002221644484537988, -0.001154610498764752, 0.004390650285528097, 0.005246786858389307, -0.0029999007814284218, -0.2269348108322697, -0.000763835258093426, 0.002271282776665551, 0.0005433493177882109, 0.001888607852055274, 0.00633260310790984, -0.0010341760057482798, 0.0037347643401957065, -0.011262070437889404, 0.007046575983152059, 0.00043874145779998486, -0.00033155776478666077, -0.0029461587825809765, -0.00031223879109715247, 0.0005221712231544551, 0.0016154064002149582, -0.003546392703949408, 0.00048251544435873317, -0.000695982688903557, -0.0017613554401809672, 0.012007259919191271, -0.01710882436711192, 0.0073256574608661085, -0.0002749980745067049, -0.012499748545591549, -0.005220581840907013, 0.0005613529694878938, -0.0025996557469613046, -0.0005928659512459689, -0.00363529293715259, -0.00029306838659026724, -0.0007086328361372435, 0.0009583284036809303, -0.0017848087148690794, 0.000908291785525428, 0.00023356602132729165, 0.0005644741766368533, 0.0010032408642304258, -0.002740204224924936, -0.001290241417842397, 0.0017596218125238705, 0.0004353031042594324, 0.000528215832821935, 0.07694926051084705, 0.0008221540395421112, -0.002742136163464526, -0.0010648846036045434, 0.0026534806780666997, -0.010394006444407855, 0.0044483135632910065, 0.000689631151243153, -0.0027099455437653575, -0.0005840555972092543, 0.002715607865883901, -0.002003204535248937, -0.00024382582462800784, 0.0013983064488305094, 0.0021600718983381118, -0.01814501030810245, -0.00224714788621605, 0.0148409189932317, 0.0030467896238981496, 0.0006449516964479041, 0.0020272055441801218, -8.302652239011721e-5, -0.0005195262597829098, 0.0014078891991859965, -0.008726862178332073, -0.010700931822669957, -0.0012650379367515896, 0.004938799882896472, -0.0002177585572653573, 0.0021511561567819637, -0.001600945631010764, -0.011767903077715552, -0.0016519391930518434, 0.003429283346564116, 0.0015258414773866025, -0.007734111112970843, -0.002396737319215303, -0.000883570668952588, 0.0007770425643521817, 0.010578286332840303, -0.007185927515855561, 0.0013318805031319603, 0.014455349654261762, 0.000842168179228997, -0.0009811870665967781, -0.009665939202631313, -0.0003884909556587379, -0.000808382420059206, -0.00013455452310084937, -0.0003192925940562752, -0.0003568608313344601, -4.8154632337760184e-5, -0.0003132365814479954, 0.0004524021659222388, 0.00555276515561387, -0.0008564327747553335, -0.0004799678752580028, 0.008589288386185334, -0.004896618884403736, -0.0002159586388639223, -0.0010353621146261434, 0.0012635773508460901, -0.0011106894504879783, 0.030112248161099586, -0.001901514432931073, -0.0013346683785443458, 0.001196134139485272, 0.000472177107719185, -0.0031556516611881413, 0.0029383241406326643, -0.0011816478868485192, 0.00041213550210827954, 0.0003159932618715944, -0.00015931240654387668, -1.515160603671184e-5, -0.0020669411869367327, -0.001960853042287297, 0.0008999664886502057, 0.0004996028293905441, -0.0014645195953375545, 0.00048122508297931965, -4.634976074124886e-5, 0.0007634748567294514, 0.0010035977954479525, -0.002978944853940013, -0.000646724491605577, 0.0018222351232648482, -0.012998739584261787, -0.0010173329402415332, -0.0036055021430984047, -0.0013657192141953156, 0.0017005865906029038, -3.9220216205726466e-5, 2.25323888416451e-5, 0.0055512054331209315, -0.0010782880974121722, 0.0019662532508535335, 0.0005991038180421793, -0.0014620219221955222, 0.0008899888799498643, 0.001998392483675948, -0.0017259966321410691, 1.172119717418596e-5, 0.0008864636734249309, 0.0011152301718619362, -0.0005717958266502343, 0.0011706805175805135, 0.0006441984947746782, -9.047618681423675e-6, 0.0009465325198786956, 0.002314250554205477, 0.0027990492432955483, -0.00382151453040791, -0.002557670722365568, -0.0012976982879320254, -0.022679467159123168, 0.0012651587110081852, -0.0002811586930867513, 0.007596448106164777, -0.0025678567578163447, -0.0003922339938716643, -0.0022133849658170224, 0.00021835044373867685, -0.0004589656288657151, 0.000410025939734715, -0.0002618445070666775, -0.0067832398175263, 0.00037251456418085915, 0.0012552920526596179, 0.001603018713559834, 0.011279072989057615, -0.00037635888505405113, 0.06748095846571944, -0.001174526724188732, 0.0019467692375303297, -0.005975688358223152, 0.0014948703320685208, 0.0008312674252946017, 0.003540472567559183, -0.0008267069337928312, -0.001403354882917096, -0.0009068171838826355, 3.466596766299457e-5, -0.0011391612168087928, 0.001720365278660263, 0.0002489603413436403, -0.004291840218173193, -0.0008888482973972156, 0.0038455430308242944, -0.0034570116537392392, -0.0007443641123252576, 0.0012128249475209518, 0.007981727843111002, -0.0009598464410823238, -0.0028463473673452366, 0.0013731295565076462, -0.003721777186583841, 0.006060872795395911, -0.0007478522419454015, 0.0009189487257657974, 0.0012579008191279106, 0.00026983242407108143, -0.0026597460162217923, -8.457060471989131e-5, 0.002320271690408937, -0.002097351827354821, 0.0010438433435264738, 0.002739184444841891, 0.00013083995967000384, 0.006564756854809062, 0.0003454096899824233, -0.0012332512487787106, -0.0017251072399246947, 0.001249857144965394, 0.00598065517566182, 0.001130038263483235, 0.0012390847147649986, -0.0014534291779801922, -0.00043237675799190356, 0.0037272962108116925, 0.00027396421331971066, 0.00039438222093701736, 0.0011188089606010143, -0.0009960365741478183, 4.271892324340769e-5, -0.00024328890596292396, 0.00014334311496377872, -0.0032531869235996602, -0.010158679170260587, -7.155040733386464e-5, -0.0006620465981144741, 0.002528972517345185, -0.002294227249296621, -0.0029791258118352926, 0.003710576513884317, -0.0007843815519288366, -0.008156844448350409, 0.00038063482134709226, -0.00331093298704363, 0.0011755998538451884, 0.0002701058825356206, 0.002127184962388548, 0.0017335965524485353, 0.00572145131350843, -0.00391656538136434, 0.001748428152548387, 0.030860449424988445, -0.009129210164553037, -0.04409792505304427, 0.0012196893768514627, 0.000938065349221695, -0.000782469998568347, -0.001720096333113319, -0.0006944422430119612, -0.00017447296329908824, 6.412932813082417e-5, -0.05760594458196522, -0.00029884084863462945, 9.457901584530859e-5, 0.00010447193783713615, 0.0013238454952510526, -0.0044115490367648835, 0.0014101630596573544, -0.0038143033015852618, 0.001938059412349702, -0.0024132568781934927, -0.0026688697421051177, 0.0015578306952052368, -0.00026991933442849225, -0.00036864140597159256, 0.0013977369880485702, -0.0009330905422513247, -0.0014491963568250554, 0.0029404404464754563, -0.0013820043007356786, -0.006322434941726185, -0.002528085959586826, -0.0019001466742805118, 0.0006259532138554458, -0.000875919488407817, -0.000918526818912177, 0.002958163824218707, -0.000784926373550876, 1.181711478537295e-5, -0.0038470115773444613, -0.009228972651504769, 0.0012991427179377402, -7.915417639137168e-5, 0.0002766297850061994, 0.0022260734032577556, -0.001534285885938163, -0.0004507174012187698, -0.0013209268037420174, 0.03942316057436701, -0.0035089681776621084, -1.1185053445590166e-5, -0.002289657677743362, -0.002138155020872806, 0.003319614486470779, 0.003998517098399282, 0.0009970627194476611, 0.00011179674860700706, 0.0014799810832892835, 0.0006540439149222976, -0.035421878041847266, 0.0006974206667648142, -0.0009928244424026733, 0.0022826681883607175, -0.0005972850288590847, -0.0020951551095476084, -0.00586520523640921, -0.001686282852719323, -0.0030553031552771337, -0.0015068855982441065, -0.0003900611935359066, -0.0028082237922217174, -0.0001498392177426977, -0.002833645516929384, -0.017061055732183417, -0.0006162167927808437, 0.0017160910841680366, 0.0022292688025579432, -0.0019850239140924986, -0.0026318897723907053, 0.0013444446616279748, 0.001085481707235214, 0.0022496995332927927, -7.167103490002269e-5, 0.01758053754431843, 0.004109311745576161, -0.0047744010420109895, 1.452541574228916e-6, 0.0004076971579280997, -0.0011022628251725064, -8.278820165336098e-5, -0.00012766012055265286, 0.008114995903566166, -0.00018365339811232673, -0.0009943684667241826, -0.000348211509363594, -0.0026442444560790257, 0.0025306488759444523, 0.001818512086782409, 0.001624550678799408, -0.0026910147094967307, 0.00027283909896327896, -0.0020915310282106914, 0.000924766334196088, 0.003092163986870289, 0.001136561564524019, -6.77023278110589e-5, -0.001748368071160744, 0.013299451746679236, 0.0024116393286155863, -0.003891856388280185, 0.0009023408378500131, 0.0009531574097902951, -0.001187904272794249, 0.0026487637157631694, -0.0006301992635942, -0.006241284423783272, -0.004121282815239158, -0.0006565323566345427, -0.003642582733074551, -0.007405263467053835, -0.002046349121527624, -0.0009549838774247643, 0.000628257269216892, -0.02033679135441882, -0.0011294431469239807, 0.006867860969355655, 0.007254371767964507, 0.0009933047036571052, -0.0016414609020646287, 0.0007758888031179634, 0.0025566274592641047, -0.0009443533970545648, 0.0017500339553188082, -0.001398847305425499, 0.03707592363893142, 0.004852602374330273, -0.054646798549314646, 0.0029145011905173934, 0.0038795311874209037, 0.0012827067588028207, -0.0004493608390350179, 0.0020237704037245896, -0.0016292189596645024, -0.0008291991163504875, -0.0019500812893498143, 0.00011516868999805752, -0.0023045560434732937, 0.0010484163598029062, 0.0031933812790047034, -0.003108455208441302, 0.0013570247957275239, 0.00017399921580896205, 0.0018831807985633733, 0.00042606104183318116, 0.002980044179614172, -0.003488376824970163, -0.0010377924746766132, 0.002525224429406947, 8.896375431666215e-5, -0.0004204946853846314, -0.0019192037813341722, -0.02150139224166625, -0.005335054536707268, 0.0006914508233086814, -0.16711302595245692, -0.0005179155264081192, -0.00014818215717560257, -0.0011107841073078883, -0.0022132024720815657, 0.002439325957099836, 0.0013461228309225026, -7.21954849965123e-5, 0.0033536041730921617, -0.0011171103352483058, 0.0012396739452959216, 0.0031440282805334507, 0.005719406488240195, -0.0015781841015012343, -0.0006137991205159565, -0.0012374067469775873, -0.002862210598275572, 0.0011562555508518035, -0.002691759009030091, -0.0006596826552334178, 0.0005187073260570774, 0.0005322087304622247, -0.004885664889595409, 0.0013036213137239683, 0.00022499312819918016, 6.413651357273231e-5, 0.0038425811380602415, 0.010757540094520235, -0.0006233542448110807, -0.0060362320000786895, -0.0006979948962675397, -0.0020227151706244673, 0.002981855303430897, 0.007000948845926613, -0.0013113283755914473, 0.000923834157232406, 0.0013351533530243805, -0.001892613088896919, 0.0003824521215826937, -0.0021388222832960935, 0.00019144034625506734, -0.0011256368041276388, -0.0010452031299831022, 0.0030565408918149517, 0.0006732022937172566, -0.0005675383768855013, 0.0021979798486311264, 0.0010174552240571622, 0.0005024944914253648, 0.005589360784675201, -0.003350907884858645, 0.0017384657539991633, -0.0008150897337231289, 0.0022494647296182335, -0.003387221868317636, 0.004823293980502408, -0.0027380535158316732, 0.12547440949900368, 0.0003963639862580859, -0.00011353876328124013, -0.0006293638246669397, 0.0022394473106641666, 0.0009343327997876072, 0.000803309352963133, -0.0012727475363339957, 0.000932958298784925, -0.0016772007975984216, 0.0035755613911578887, -0.0008669937864667077, 0.008616287003738121, 2.17644345794632e-5, -0.0072320964504960505, -0.0002604529781498055, 0.028390429292588892, 0.017803344522047515, 0.002534840379259551, 0.007406194149763734, -0.0019475313952062034, -0.003031264354355745, 0.005628383637441989, -0.0011439688959749006, -0.0008726767164050075, -0.0063053897052173236, 0.0014675893154840747, -0.00454199440224623, 0.008476639664472374, -0.0028829533933868445, -0.0008524134406182604, 0.0046965889083133705, 0.003377086648084615, 3.525089128114667e-5, -0.0010527679825814706, 0.002776550153297641, -0.002159118415821226, -6.129869511606323e-5, -0.02448287170130925, -0.0007942823203936911, -0.1898422729572909, -0.0007477006432547451, 0.0009190742240919869, 0.002723288762851439, 0.0018870873190758308, 0.0015554766207351023, -0.0015744559252157675, 0.00026361469659363923, -0.0012576740638939876, 0.00021493207859604735, -8.71728789724191e-5, -0.0017731882988523129, 0.0004837737479017612, -0.00011206499342899731, 0.0015260212605760354, -0.0015431048303622963, -0.0014971281677076398, 0.0004011512967319608, 0.0010037188690965593, -0.0009691686838574354, 0.0012082128319002156, 0.0158875195920066, 0.001731116261844301, -0.0005017794456676494, -0.04953571911735988, 0.0016299497951282604, -0.0014200486571283033, 0.00224268511543535, -0.000979126487391957, -0.0020224426372728033, 0.0012255286435448043, 0.001052526568984663, -0.000974055556169473, 0.0009912094651012282, 0.008713351032542338, 0.0027747420104906606, -0.00559485587948283, -0.003779599563685343, -0.0005926627002249552, 0.0032537122303224475, -0.003145056047161532, 0.0020441326355428724, -0.0006065173979863392, -0.016899669949999377, 0.0019191180966992016, 0.002588498229715075, -0.0003558261942046004, -0.0010420568999525426, 0.001289529494622077, -0.0020607028195093746, -0.0006249333012227076, 0.0019323602292702358, 0.001138674370018633, 0.003272832490979427, 0.0030064259502314283, 0.002322197731103981, 0.0001981735839613752, -0.0019518891715746278, -0.004419253266475742, -0.0035547012762261465, -0.04673177165412307, -0.0027998033553446044, -0.0010000883702097063, 0.00022232784281950302, -0.0012111257837598838, -0.0025997690588694944, 0.000582162121345986, 0.0013916462646766936, -0.005264965957094692, 0.0010402636754010541, 3.935777957830844e-5, 0.0014311449615538874, -0.001376480775072797, 0.002339432076932435, -0.0004710704055004289, 0.0016362819084024816, 0.0009682127922902017, -0.0067832707558480865, 0.000224523590202641, 0.0005180254131206263, 0.0012460827435680777, 0.0010889354259646655, 0.002837766288913024, 0.0007195923628182596, 0.0022427495665895414, -0.0013855379964520242, 0.0033421062042928718, -0.0010615615547072133, -0.0021464421852590565, 0.0012583608772809285, -0.003128439363259794, -0.021147087349653704, 0.0038565351474570964, -0.0004951096623446727, -0.015212358034427664, -0.006097801183233137, -0.011149469367289333, 0.00418117018150832, 1.0945591421063217e-5, -0.004262630379745502, -0.00038027710964516626, -0.0036579225028643414, -0.08115018903744517, -0.034144960903532084, 0.0024205373485284287, 0.002609806715962615, -0.016207353061207092, -0.002432741539969613, -0.0038240927823807863, -0.0008157578790836117, 0.0004051600550104284, -0.0033793091440583733, -0.00460593549062982, -0.0013043934637886334, -0.007037347581876019, -0.0007964696117809811, -0.005430685799169721, 0.001089868782257336, 0.0005447750810770868, 0.0004496943072604398, -0.0007447401734981263, 0.0021313156151072654, 0.001164025008865588, 0.0011617088265522546, 0.014214135656661187, 0.0004984462406922852, -0.0009164425272568666, 0.004558477186949905, 0.00083240353170555, -6.322705785127836e-5, 0.0005789014004680404, 0.005457760186582283, 0.00639202682905371, -0.00011315666193234541, -0.0009383498565762594, -0.0015786088820322064, 0.007486059898733244, -0.000881608551114077, 0.003474840080136987, 0.004963582008494394, -0.00514427516644822, 0.002507709159660809, -0.0009346150930364949, 0.0019309875919406583, -0.01062352250898202, 0.0005628657140086257, -4.0112945372983155e-5, -0.002166248768921797, 0.003142129399628546, -0.01400292419435717, -0.004020514794217056, -0.0046703084117423466, 0.0015678103399091037, 0.0015728001247520274, -0.008533398452088878, 4.505078457239797e-5, -0.0016005271434686996, -0.0013843442040462062, -0.004530264329190958, -0.0030550478633020184, -0.001736739398483067, 0.006054786192773776, -0.0033069706483886963, -0.03212823138798937, 0.00047667363058434553, -0.0024156245373395946, -0.0008436546870885242, -0.0029452280381824236, 0.007805738073513591, 0.0007469562282373943, 0.0004621885771247669, 0.0024636492538896437, -0.0020223234026465198, -0.0007368604280899027, -9.210573698636981e-5, -0.002042667256378028, 0.0002061807894145895, 0.004877718153041499, -0.027755313372699764, -0.0023370269569020774, -0.001958958522291221, 0.0016081554331639492, -0.0037226975224289305, 0.0005882927555245221, 0.0004839956756707009, 0.0030872024057770897, -0.009900706177307983, 0.0003720026724484127, 0.002231456715770755, -0.007659663048315002, 0.0030407332457537684, -3.8039983043636205e-5, -0.0010142911613801875, 0.0003472077423115616, 0.0042151787582530575, 0.0009582778452866814, 0.0010542636090511426, -0.0008504039365943294, -0.0009056304642637292, 0.0017880810681872306, -0.004967281395439338, 0.0021087619235782284, -0.0005400900075869242, 0.0005615170981803086, 0.008513152848501182, 0.0018423458474239318, 0.0008386181972352968, 0.001218603361754722, -0.00634059093449002, -0.00114410691873168, -0.0006693548215568057, 0.00308415791003816, -0.0008011571373069959, 0.0002920447650011093, -0.0006747468146618418, 0.0006870366435418607, 0.0024481084951960552, -0.004622346752408746, 0.00017613552388506815, 0.0033392245241412044, -0.0014294669855022812, 0.0003028799839595031, -0.002288528098500553, 0.0017478464965786644, 0.0018932768584728477, 0.00027474329184945523, -0.0009085057051258505, -0.005394488953017723, 0.000549647865422831, 0.011546479192298564, -0.0021081671087214426, -0.00011006133392554851, 0.0008284857001943369, 0.00018163567024487293, 0.0007795669735902733, -0.010152010861786798, -0.001711565142635707, 0.0010525035210723899, 0.0002088712985719443, -0.00223037278384286, 0.0018567885901872305, -0.00040556679033132426, 0.0005267302587395051, 0.0018810614540683557, -0.006475719670942182, 0.001973537602994624, -0.0005086510823901769, 0.0007568299625342889, 0.003276396217707256, -0.013395304634486793, 0.0005904131057425099, -0.00044597613688068805, -0.00117075686302881, 0.0007535444091952351, -0.0030997058345925144, 0.00011031789125948155, -0.02308924380886923, -0.000198723769171405, 0.00012865641800186012, 0.0008624040119390441, 0.001148592982046892, 0.02577489210232975, 0.0025022379925243587, -0.0001604243637239322, 0.0006246335863038244, -0.002137292803246482, -0.001460455784849879, -0.006669510135194567, 0.0018862583819012624, -0.00027670825038478286, 0.002810013776993081, 0.0010100501838383735, 0.0025477614188016418, 0.002091071750062845, -0.0008223253688803833, 0.0020924625275486886, -0.0011635818317992097, -0.0011291828618523736, 0.0014034590455449525, 0.0020060699014430444, 0.0013995331596268201, -0.000833350648313913, -0.00027813726097680735, -0.0003725463563295506, -0.00020977239173883278, 0.009895702387005767, -0.0029654717841991474, 0.0005483673027936731, 0.0021214615086677657, -0.00025357217177657265, -0.000623965828157047, -0.017034935492803542, 9.808651424880743e-5, -0.0014665627669552261, -0.00013324424348626351, -0.0003823068103632199, 0.0012790164277529659, -0.0058788903974983375, 0.00010003159645877169, 0.0008635709741214859, 0.0003479901494984894, -0.0008089706424370124, 0.0023744497316475766, -0.0017509002549750408, 0.0020802606009955316, -0.0017991373047007708, -0.0005571633980642754, -0.010200242865095355, -0.004924731659761761, -0.0011601291104585965, 0.0014963637830550935, -0.0024508557228724026, 0.0027079568843637603, 0.0027517294766266076, -0.0007485658810437723, -0.0009024034688008831, 0.0016988523715067705, -0.0003898983529713185, -0.018332884239859057, 0.018162658875677806, 0.0001801160821830461, 0.0003853565945305393, 0.00140251273178027, -0.0014253375113326833, 0.0013814296855858554, -0.025194400691819885, 0.02825336868019937, -0.00029560125080935196, -0.0006642222165956779, -0.0005648344897553059, -0.0006863510284537133, 0.002900147077188331, 0.0012834735518356122, -0.00021834377166246588, 0.0024746153078410993, 0.003725799363975102, -0.00040702283484450597, -0.0007562281272370797, -0.005203602710545291, -0.0015806747944713262, 0.004586968432966465, 0.010471270816653333, -0.000608115793098496, 0.0020722578105399625, 0.0003805717750625104, 0.0010685542769373058, 0.006583127957240809, -0.001891066459373203, -0.003869325166283355, -0.0032256236170731256, 0.0018816108117060137, 0.0006457108826753988, 0.0009260286397066997, 0.004427191527581531, 0.000661889767059276, 0.003588288931030581, 0.00027455274534626817, -0.003788463581854029, 0.00036483823040700525, 0.00038022705829171555, -0.001177855725498389, -0.009966803262918544, 0.0017412078822784949, 0.0004766937454951936, 0.0007216696734473338, -0.0014616779513215994, 0.003554067565178287, -0.10514751368226685, 0.0016592816527660204, -0.0006405810661238576, -0.0003005979633672329, -0.0019405189730010708, -0.0020076055817968095, -0.002696318657060104, -0.0014386750510599344, -0.06100608466190687, 0.0012143447548015884, 0.0035976642240080157, -0.00993406061215283, -0.001050695687617953, 0.00019197647093571746, -0.00020925513195572086, -0.011882323232395464, 0.0011631823034910505, -0.004134521094984134, 7.754383950894783e-5, 0.004209069508326779, -0.001078802436359827, 0.0019058771346163184, -0.0011451278267489082, -0.0009839623087358473, 0.0009062215266268936, -0.004493934414026832, -0.0027542382347441885, -0.0010573473709949233, -0.0011808834144104718, -0.00038659650867001183, 0.0003243398107382056, -0.0013585848492239094, -0.002231435741119947, -0.0031939026425578387, -0.0019928590394664436, -0.000764767370326852, -0.0026500428577229673, -0.002014274912549019, 0.0004803832741767933, -0.0037799769593563903, 0.0007775782174678225, 0.16407554294192006, 0.0009888689995347644, -0.001274323333627994, 0.0026243030061235406, -0.14671930478161999, 0.004432692309518815, 0.0025185936403642195, -0.02722883185927988, -0.00028224302070867235, -0.002354576902425576, 0.00219702698965335, 0.0005049839730754957, 0.00114336494922318, -0.0003182805551082968, -0.001376877317839753, -0.0004999008486321621, 0.001002911910527815] \n",
            "\n"
          ]
        }
      ]
    },
    {
      "cell_type": "markdown",
      "source": [
        "Observa-se que o método de Newton converge em apenas uma iteração para todos os casos testados, independentemente da dimensão da matriz ou da distribuição dos autovalores. Isso ocorre porque, para uma função quadrática, a direção de Newton aponta exatamente para o mínimo, e o passo exato leva diretamente para ele. O tempo de execução aumenta levemente com a dimensão devido à necessidade de resolver o sistema linear $H p = g$.\n",
        "\n",
        "Por outro lado, o desempenho do método do gradiente dependente do condicionamento da matriz $A$. Nos casos de autovalores iguais ou com apenas dois distintos, o número de iterações necessárias é relativamente baixo. Mas quando os autovalores estão muito diferentes, o método precisa de mais iterações para convergir. O tempo de processamento cresce à medida que a dimensão da matriz aumenta."
      ],
      "metadata": {
        "id": "zn1JgXKCjth3"
      }
    }
  ],
  "metadata": {
    "colab": {
      "provenance": [],
      "include_colab_link": true
    },
    "kernelspec": {
      "display_name": "Julia",
      "name": "julia"
    },
    "language_info": {
      "name": "julia"
    }
  },
  "nbformat": 4,
  "nbformat_minor": 0
}