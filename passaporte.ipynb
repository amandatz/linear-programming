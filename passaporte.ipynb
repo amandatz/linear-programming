{
  "nbformat": 4,
  "nbformat_minor": 0,
  "metadata": {
    "colab": {
      "provenance": [],
      "include_colab_link": true
    },
    "kernelspec": {
      "name": "julia",
      "display_name": "Julia"
    },
    "language_info": {
      "name": "julia"
    }
  },
  "cells": [
    {
      "cell_type": "markdown",
      "metadata": {
        "id": "view-in-github",
        "colab_type": "text"
      },
      "source": [
        "<a href=\"https://colab.research.google.com/github/amandatz/linear-programming/blob/main/passaporte.ipynb\" target=\"_parent\"><img src=\"https://colab.research.google.com/assets/colab-badge.svg\" alt=\"Open In Colab\"/></a>"
      ]
    },
    {
      "cell_type": "markdown",
      "source": [
        "**Problema do Passaporte**"
      ],
      "metadata": {
        "id": "Hb2r9hNjhBgp"
      }
    },
    {
      "cell_type": "markdown",
      "source": [
        "Este notebook ilustra o básico de manipulação de dados em Julia e formulação de um problema de cobertura de conjuntos em JuMP"
      ],
      "metadata": {
        "id": "vf9f9bzwhMoF"
      }
    },
    {
      "cell_type": "code",
      "source": [
        "# Pacotes necessarios (se preciso, instale)\n",
        "using CSV\n",
        "using DataFrames\n",
        "using JuMP\n",
        "using HiGHS"
      ],
      "metadata": {
        "id": "Z3uew58_hCKL"
      },
      "execution_count": null,
      "outputs": []
    },
    {
      "cell_type": "markdown",
      "source": [
        "Coloque o arquivo \"passport-index-matrix.csv\" dentro da pasta /content/data\n",
        "\n",
        "O arquivo está disponível na página da disciplina: http://mtm.ufsc.br/~douglas/2025.2/MTM3531/\n",
        "\n",
        "A seguir, leia o arquivo com o comando abaixo:"
      ],
      "metadata": {
        "id": "NJLO-f3lhvKf"
      }
    },
    {
      "cell_type": "code",
      "execution_count": null,
      "metadata": {
        "id": "OcBEyUJ9g_dF"
      },
      "outputs": [],
      "source": [
        "const DATA_DIR = joinpath(@__DIR__, \"data\")\n",
        "passport_data = CSV.read(\n",
        "    joinpath(DATA_DIR, \"passport-index-matrix.csv\"),\n",
        "    DataFrames.DataFrame,\n",
        ")"
      ]
    },
    {
      "cell_type": "markdown",
      "source": [
        "A 1a coluna de \"passport_data\" representa todos os passportes que podem ser obtidos. As colunas restantes indicam os destinos."
      ],
      "metadata": {
        "id": "UZCIRA5diEUf"
      }
    },
    {
      "cell_type": "code",
      "source": [
        "# quais paises estao incluidos na lista?\n",
        "all_countries = passport_data[!, \"Passport\"]"
      ],
      "metadata": {
        "id": "1JGPWS2MiSR4"
      },
      "execution_count": null,
      "outputs": []
    },
    {
      "cell_type": "markdown",
      "source": [
        "Obtenha todos os países a partir das linhas da 1a coluna e, a seguir, obtenha uma matriz 199 x 199 cujas entradas (i,j) devem conter o requisito(código) para viajar com passaporte do país i para o país de destino j"
      ],
      "metadata": {
        "id": "VkVuMW7AidGW"
      }
    },
    {
      "cell_type": "code",
      "source": [
        "raw_passport_matrix = # ... complete aqui"
      ],
      "metadata": {
        "id": "lMpyGXFCiUaf"
      },
      "execution_count": null,
      "outputs": []
    },
    {
      "cell_type": "markdown",
      "source": [
        "A seguinte função verifica o código e retorna \"true\" quando a entrada é permitida \"sem visto\" ou quando o \"visto é garantido na chegada\", e \"false\" caso contrário."
      ],
      "metadata": {
        "id": "hfY_xIH1irM_"
      }
    },
    {
      "cell_type": "code",
      "source": [
        "function can_we_enter(code)\n",
        "    if code == \"visa free\" || code == \"visa on arrival\" || code isa Int\n",
        "        return true\n",
        "    end\n",
        "    try\n",
        "        val = parse(Int, code)\n",
        "        return true\n",
        "    catch\n",
        "        return false\n",
        "    end\n",
        "end"
      ],
      "metadata": {
        "colab": {
          "base_uri": "https://localhost:8080/"
        },
        "id": "NDPB9YqKiysa",
        "outputId": "7be331b4-b230-4f8c-a01e-9d2347e55cd7"
      },
      "execution_count": null,
      "outputs": [
        {
          "output_type": "execute_result",
          "data": {
            "text/plain": [
              "can_we_enter (generic function with 1 method)"
            ]
          },
          "metadata": {},
          "execution_count": 3
        }
      ]
    },
    {
      "cell_type": "markdown",
      "source": [
        "O código a seguir cria uma matriz Booleana (0s e 1s) cuja entrada (i,j) indica se o detentor de passaporte do país i pode entrar no país j sem visto"
      ],
      "metadata": {
        "id": "juSFUB5Ti7zJ"
      }
    },
    {
      "cell_type": "code",
      "source": [
        "passport_coverage = map(can_we_enter, raw_passport_matrix)"
      ],
      "metadata": {
        "id": "Hzuxt4E1jDIX"
      },
      "execution_count": null,
      "outputs": []
    },
    {
      "cell_type": "markdown",
      "source": [
        "Chegamos ao problema de otimização: qual o menor número de passaportes necessários para permitir entrada livre de visto a todos os países?"
      ],
      "metadata": {
        "id": "ruwXpsiDi2BA"
      }
    },
    {
      "cell_type": "code",
      "source": [
        "# Create a new JuMP model using the HiGHS solver.\n",
        "model = Model(HiGHS.Optimizer)"
      ],
      "metadata": {
        "id": "1etpBswSjKbZ"
      },
      "execution_count": null,
      "outputs": []
    },
    {
      "cell_type": "code",
      "source": [
        "# Defina um vetor de variáveis de decisão binárias, uma para cada passaporte que pode ser obtido.\n",
        "@variable(model # ... complete aqui ... #)"
      ],
      "metadata": {
        "id": "2PZ6cJ-NjNaz"
      },
      "execution_count": null,
      "outputs": []
    },
    {
      "cell_type": "code",
      "source": [
        "# O objetivo é minimizar o número de passaportes necessários\n",
        "@objective(model, Min, # ... complete aqui #);"
      ],
      "metadata": {
        "id": "MPklNIIRjUyb"
      },
      "execution_count": null,
      "outputs": []
    },
    {
      "cell_type": "code",
      "source": [
        "# Restricões\n",
        "@constraint(model, #... complete aqui ...#  .>= 1);"
      ],
      "metadata": {
        "id": "oKUyAt0ojiAn"
      },
      "execution_count": null,
      "outputs": []
    },
    {
      "cell_type": "code",
      "source": [
        "# Otimizar!\n",
        "optimize!(model)"
      ],
      "metadata": {
        "id": "WLQG5YO6jrYb"
      },
      "execution_count": null,
      "outputs": []
    },
    {
      "cell_type": "code",
      "source": [
        "termination_status(model)"
      ],
      "metadata": {
        "id": "Ew1DxAa-jwp-"
      },
      "execution_count": null,
      "outputs": []
    },
    {
      "cell_type": "markdown",
      "source": [
        "Quais os países que devem ser incluídos na solução porque requerem visto de todos os outros?"
      ],
      "metadata": {
        "id": "3FnnDvr6j2p4"
      }
    },
    {
      "cell_type": "code",
      "source": [
        "# Escreva aqui o código para responder a pergunta acima\n",
        "# ..."
      ],
      "metadata": {
        "id": "AEpVIiS3j44D"
      },
      "execution_count": null,
      "outputs": []
    },
    {
      "cell_type": "markdown",
      "source": [
        "Esta atividade deve ser entregue até **31/10/2025**.\n",
        "\n",
        "Pode compartilhar o arquivo do Google Colab."
      ],
      "metadata": {
        "id": "qELiQl5Oj-5D"
      }
    }
  ]
}